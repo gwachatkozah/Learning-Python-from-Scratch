{
 "cells": [
  {
   "cell_type": "markdown",
   "id": "07ef006d",
   "metadata": {},
   "source": [
    "**CREATING STRINGS**"
   ]
  },
  {
   "cell_type": "code",
   "execution_count": 1,
   "id": "ef902b1f",
   "metadata": {
    "ExecuteTime": {
     "end_time": "2023-12-31T10:42:39.935839Z",
     "start_time": "2023-12-31T10:42:39.925427Z"
    }
   },
   "outputs": [
    {
     "name": "stdout",
     "output_type": "stream",
     "text": [
      "My full name is Gwachat Kozah, but you can call me Gwachat\n"
     ]
    }
   ],
   "source": [
    "# creating strings and storing them to variables\n",
    "\n",
    "name = 'Gwachat'\n",
    "first_name = 'Gwachat'\n",
    "last_name = 'Kozah'\n",
    "\n",
    "print(f'My full name is {first_name} {last_name}, but you can call me {name}')"
   ]
  },
  {
   "cell_type": "markdown",
   "id": "463620c1",
   "metadata": {},
   "source": [
    "Common Escape Sequences include:\n",
    "- \\b - backspace\n",
    "- \\n - line feed(new line)\n",
    "- \\r - ASCII carriage return\n",
    "- \\t - tab"
   ]
  },
  {
   "cell_type": "code",
   "execution_count": 4,
   "id": "b21c10bf",
   "metadata": {
    "ExecuteTime": {
     "end_time": "2023-12-31T10:46:43.308083Z",
     "start_time": "2023-12-31T10:46:43.298825Z"
    }
   },
   "outputs": [
    {
     "data": {
      "text/plain": [
       "\"This string has a single quote, ', in the middle\""
      ]
     },
     "execution_count": 4,
     "metadata": {},
     "output_type": "execute_result"
    }
   ],
   "source": [
    "#using \\\n",
    "'This string has a single quote, \\', in the middle'"
   ]
  },
  {
   "cell_type": "code",
   "execution_count": 5,
   "id": "d4e9fa9c",
   "metadata": {
    "ExecuteTime": {
     "end_time": "2023-12-31T10:46:46.119263Z",
     "start_time": "2023-12-31T10:46:46.111730Z"
    }
   },
   "outputs": [
    {
     "data": {
      "text/plain": [
       "\"This string has a single quote,', in the middle\""
      ]
     },
     "execution_count": 5,
     "metadata": {},
     "output_type": "execute_result"
    }
   ],
   "source": [
    "\"This string has a single quote,', in the middle\""
   ]
  },
  {
   "cell_type": "code",
   "execution_count": 8,
   "id": "524c769e",
   "metadata": {
    "ExecuteTime": {
     "end_time": "2023-12-31T10:48:50.399575Z",
     "start_time": "2023-12-31T10:48:50.386839Z"
    }
   },
   "outputs": [
    {
     "data": {
      "text/plain": [
       "'He is \\t, a boy'"
      ]
     },
     "execution_count": 8,
     "metadata": {},
     "output_type": "execute_result"
    }
   ],
   "source": [
    "#using \\b\n",
    "\n",
    "'He is \\t a boy'"
   ]
  },
  {
   "cell_type": "markdown",
   "id": "08366f07",
   "metadata": {},
   "source": [
    "**STRING METHODS**"
   ]
  },
  {
   "cell_type": "code",
   "execution_count": 10,
   "id": "fe9858d5",
   "metadata": {
    "ExecuteTime": {
     "end_time": "2023-12-31T10:49:33.564212Z",
     "start_time": "2023-12-31T10:49:33.556812Z"
    }
   },
   "outputs": [
    {
     "data": {
      "text/plain": [
       "'Gwachat'"
      ]
     },
     "execution_count": 10,
     "metadata": {},
     "output_type": "execute_result"
    }
   ],
   "source": [
    "name = 'gwachat'\n",
    "name.capitalize()"
   ]
  },
  {
   "cell_type": "code",
   "execution_count": 11,
   "id": "dbe9268f",
   "metadata": {
    "ExecuteTime": {
     "end_time": "2023-12-31T10:49:44.542911Z",
     "start_time": "2023-12-31T10:49:44.530677Z"
    }
   },
   "outputs": [
    {
     "data": {
      "text/plain": [
       "'GWACHAT'"
      ]
     },
     "execution_count": 11,
     "metadata": {},
     "output_type": "execute_result"
    }
   ],
   "source": [
    "name.upper()"
   ]
  },
  {
   "cell_type": "code",
   "execution_count": 12,
   "id": "d107ed33",
   "metadata": {
    "ExecuteTime": {
     "end_time": "2023-12-31T10:49:53.338860Z",
     "start_time": "2023-12-31T10:49:53.329747Z"
    }
   },
   "outputs": [
    {
     "data": {
      "text/plain": [
       "'Gwachat'"
      ]
     },
     "execution_count": 12,
     "metadata": {},
     "output_type": "execute_result"
    }
   ],
   "source": [
    "name.title()"
   ]
  },
  {
   "cell_type": "code",
   "execution_count": 13,
   "id": "345b818e",
   "metadata": {
    "ExecuteTime": {
     "end_time": "2023-12-31T10:50:03.698648Z",
     "start_time": "2023-12-31T10:50:03.687996Z"
    },
    "scrolled": true
   },
   "outputs": [
    {
     "data": {
      "text/plain": [
       "['__add__',\n",
       " '__class__',\n",
       " '__contains__',\n",
       " '__delattr__',\n",
       " '__dir__',\n",
       " '__doc__',\n",
       " '__eq__',\n",
       " '__format__',\n",
       " '__ge__',\n",
       " '__getattribute__',\n",
       " '__getitem__',\n",
       " '__getnewargs__',\n",
       " '__getstate__',\n",
       " '__gt__',\n",
       " '__hash__',\n",
       " '__init__',\n",
       " '__init_subclass__',\n",
       " '__iter__',\n",
       " '__le__',\n",
       " '__len__',\n",
       " '__lt__',\n",
       " '__mod__',\n",
       " '__mul__',\n",
       " '__ne__',\n",
       " '__new__',\n",
       " '__reduce__',\n",
       " '__reduce_ex__',\n",
       " '__repr__',\n",
       " '__rmod__',\n",
       " '__rmul__',\n",
       " '__setattr__',\n",
       " '__sizeof__',\n",
       " '__str__',\n",
       " '__subclasshook__',\n",
       " 'capitalize',\n",
       " 'casefold',\n",
       " 'center',\n",
       " 'count',\n",
       " 'encode',\n",
       " 'endswith',\n",
       " 'expandtabs',\n",
       " 'find',\n",
       " 'format',\n",
       " 'format_map',\n",
       " 'index',\n",
       " 'isalnum',\n",
       " 'isalpha',\n",
       " 'isascii',\n",
       " 'isdecimal',\n",
       " 'isdigit',\n",
       " 'isidentifier',\n",
       " 'islower',\n",
       " 'isnumeric',\n",
       " 'isprintable',\n",
       " 'isspace',\n",
       " 'istitle',\n",
       " 'isupper',\n",
       " 'join',\n",
       " 'ljust',\n",
       " 'lower',\n",
       " 'lstrip',\n",
       " 'maketrans',\n",
       " 'partition',\n",
       " 'removeprefix',\n",
       " 'removesuffix',\n",
       " 'replace',\n",
       " 'rfind',\n",
       " 'rindex',\n",
       " 'rjust',\n",
       " 'rpartition',\n",
       " 'rsplit',\n",
       " 'rstrip',\n",
       " 'split',\n",
       " 'splitlines',\n",
       " 'startswith',\n",
       " 'strip',\n",
       " 'swapcase',\n",
       " 'title',\n",
       " 'translate',\n",
       " 'upper',\n",
       " 'zfill']"
      ]
     },
     "execution_count": 13,
     "metadata": {},
     "output_type": "execute_result"
    }
   ],
   "source": [
    "dir(name)"
   ]
  },
  {
   "cell_type": "code",
   "execution_count": 19,
   "id": "cec4612a",
   "metadata": {
    "ExecuteTime": {
     "end_time": "2023-12-31T10:54:48.271880Z",
     "start_time": "2023-12-31T10:54:48.261780Z"
    }
   },
   "outputs": [
    {
     "data": {
      "text/plain": [
       "'This'"
      ]
     },
     "execution_count": 19,
     "metadata": {},
     "output_type": "execute_result"
    }
   ],
   "source": [
    "# using .strip() method\n",
    "\n",
    "string = 'This is a string'\n",
    "\n",
    "string.strip()[:4]"
   ]
  },
  {
   "cell_type": "code",
   "execution_count": 21,
   "id": "c93fd562",
   "metadata": {
    "ExecuteTime": {
     "end_time": "2023-12-31T10:55:24.521325Z",
     "start_time": "2023-12-31T10:55:24.513898Z"
    }
   },
   "outputs": [
    {
     "data": {
      "text/plain": [
       "['This', 'is', 'a', 'string']"
      ]
     },
     "execution_count": 21,
     "metadata": {},
     "output_type": "execute_result"
    }
   ],
   "source": [
    "# using .split() method\n",
    "string.split()"
   ]
  },
  {
   "cell_type": "code",
   "execution_count": 22,
   "id": "6752214f",
   "metadata": {
    "ExecuteTime": {
     "end_time": "2023-12-31T10:55:43.177993Z",
     "start_time": "2023-12-31T10:55:43.170514Z"
    }
   },
   "outputs": [
    {
     "data": {
      "text/plain": [
       "['a', 'string']"
      ]
     },
     "execution_count": 22,
     "metadata": {},
     "output_type": "execute_result"
    }
   ],
   "source": [
    "string.split()[2:]"
   ]
  },
  {
   "cell_type": "code",
   "execution_count": 25,
   "id": "0da28333",
   "metadata": {
    "ExecuteTime": {
     "end_time": "2023-12-31T10:56:22.736435Z",
     "start_time": "2023-12-31T10:56:22.725547Z"
    }
   },
   "outputs": [
    {
     "data": {
      "text/plain": [
       "'this is a string'"
      ]
     },
     "execution_count": 25,
     "metadata": {},
     "output_type": "execute_result"
    }
   ],
   "source": [
    "string.casefold()"
   ]
  },
  {
   "cell_type": "code",
   "execution_count": 29,
   "id": "54eefe4c",
   "metadata": {
    "ExecuteTime": {
     "end_time": "2023-12-31T10:57:24.644516Z",
     "start_time": "2023-12-31T10:57:24.632988Z"
    }
   },
   "outputs": [
    {
     "data": {
      "text/plain": [
       "False"
      ]
     },
     "execution_count": 29,
     "metadata": {},
     "output_type": "execute_result"
    }
   ],
   "source": [
    "string.isupper()"
   ]
  },
  {
   "cell_type": "markdown",
   "id": "621246aa",
   "metadata": {},
   "source": [
    "**STRING FORMATTING**"
   ]
  },
  {
   "cell_type": "code",
   "execution_count": 30,
   "id": "eae3e2c3",
   "metadata": {
    "ExecuteTime": {
     "end_time": "2023-12-31T11:00:19.511193Z",
     "start_time": "2023-12-31T11:00:19.502134Z"
    }
   },
   "outputs": [
    {
     "data": {
      "text/plain": [
       "'Hello Gwachat, you are 27 years old.'"
      ]
     },
     "execution_count": 30,
     "metadata": {},
     "output_type": "execute_result"
    }
   ],
   "source": [
    "name = 'Gwachat'\n",
    "age = 27\n",
    "\n",
    "f'Hello {name}, you are {age} years old.'"
   ]
  },
  {
   "cell_type": "code",
   "execution_count": 33,
   "id": "21b8bf21",
   "metadata": {
    "ExecuteTime": {
     "end_time": "2023-12-31T11:02:59.625450Z",
     "start_time": "2023-12-31T11:02:59.616937Z"
    }
   },
   "outputs": [
    {
     "data": {
      "text/plain": [
       "'Hello Gwachat, you are 27 years old'"
      ]
     },
     "execution_count": 33,
     "metadata": {},
     "output_type": "execute_result"
    }
   ],
   "source": [
    "sample_dict = {'name': 'Gwachat', 'age': 27}\n",
    "\n",
    "f\"Hello {sample_dict['name']}, you are {sample_dict['age']} years old\""
   ]
  },
  {
   "cell_type": "markdown",
   "id": "fab9e1f5",
   "metadata": {},
   "source": [
    "**STRING CONCATENATION**"
   ]
  },
  {
   "cell_type": "code",
   "execution_count": 39,
   "id": "fc2a44a0",
   "metadata": {
    "ExecuteTime": {
     "end_time": "2023-12-31T11:10:40.385545Z",
     "start_time": "2023-12-31T11:10:40.374825Z"
    }
   },
   "outputs": [
    {
     "data": {
      "text/plain": [
       "'GwachatKozah'"
      ]
     },
     "execution_count": 39,
     "metadata": {},
     "output_type": "execute_result"
    }
   ],
   "source": [
    "first_name = 'Gwachat'\n",
    "last_name = 'Kozah'\n",
    "\n",
    "full_name = first_name + last_name\n",
    "full_name"
   ]
  },
  {
   "cell_type": "code",
   "execution_count": 35,
   "id": "7fa13c20",
   "metadata": {
    "ExecuteTime": {
     "end_time": "2023-12-31T11:09:10.004743Z",
     "start_time": "2023-12-31T11:09:09.995756Z"
    }
   },
   "outputs": [
    {
     "data": {
      "text/plain": [
       "'Gwachat Kozah'"
      ]
     },
     "execution_count": 35,
     "metadata": {},
     "output_type": "execute_result"
    }
   ],
   "source": [
    "first_name = 'Gwachat '\n",
    "last_name = 'Kozah'\n",
    "\n",
    "full_name = first_name + last_name\n",
    "full_name"
   ]
  },
  {
   "cell_type": "code",
   "execution_count": 41,
   "id": "abcaf0d0",
   "metadata": {
    "ExecuteTime": {
     "end_time": "2023-12-31T11:10:45.177344Z",
     "start_time": "2023-12-31T11:10:45.169896Z"
    }
   },
   "outputs": [
    {
     "data": {
      "text/plain": [
       "'GwachatKozah'"
      ]
     },
     "execution_count": 41,
     "metadata": {},
     "output_type": "execute_result"
    }
   ],
   "source": [
    "''.join([first_name, last_name])"
   ]
  },
  {
   "cell_type": "code",
   "execution_count": 40,
   "id": "ecd4af1c",
   "metadata": {
    "ExecuteTime": {
     "end_time": "2023-12-31T11:10:42.764742Z",
     "start_time": "2023-12-31T11:10:42.759759Z"
    }
   },
   "outputs": [
    {
     "data": {
      "text/plain": [
       "'Gwachat--Kozah'"
      ]
     },
     "execution_count": 40,
     "metadata": {},
     "output_type": "execute_result"
    }
   ],
   "source": [
    "'--'.join([first_name, last_name])"
   ]
  },
  {
   "cell_type": "markdown",
   "id": "deeeaedc",
   "metadata": {},
   "source": [
    "**STRING SLICING**"
   ]
  },
  {
   "cell_type": "code",
   "execution_count": 42,
   "id": "94ca652c",
   "metadata": {
    "ExecuteTime": {
     "end_time": "2023-12-31T11:11:34.451531Z",
     "start_time": "2023-12-31T11:11:34.440760Z"
    }
   },
   "outputs": [
    {
     "data": {
      "text/plain": [
       "'Th'"
      ]
     },
     "execution_count": 42,
     "metadata": {},
     "output_type": "execute_result"
    }
   ],
   "source": [
    "string = 'This is a string'\n",
    "string[0:2]"
   ]
  },
  {
   "cell_type": "code",
   "execution_count": 43,
   "id": "0b5e6b7c",
   "metadata": {
    "ExecuteTime": {
     "end_time": "2023-12-31T11:11:50.261368Z",
     "start_time": "2023-12-31T11:11:50.251705Z"
    }
   },
   "outputs": [
    {
     "data": {
      "text/plain": [
       "'This is'"
      ]
     },
     "execution_count": 43,
     "metadata": {},
     "output_type": "execute_result"
    }
   ],
   "source": [
    "string = 'This is a string'\n",
    "string[0:7]"
   ]
  },
  {
   "cell_type": "markdown",
   "id": "3afebb20",
   "metadata": {},
   "source": []
  }
 ],
 "metadata": {
  "kernelspec": {
   "display_name": "Python 3 (ipykernel)",
   "language": "python",
   "name": "python3"
  },
  "language_info": {
   "codemirror_mode": {
    "name": "ipython",
    "version": 3
   },
   "file_extension": ".py",
   "mimetype": "text/x-python",
   "name": "python",
   "nbconvert_exporter": "python",
   "pygments_lexer": "ipython3",
   "version": "3.11.5"
  },
  "toc": {
   "base_numbering": 1,
   "nav_menu": {},
   "number_sections": true,
   "sideBar": true,
   "skip_h1_title": false,
   "title_cell": "Table of Contents",
   "title_sidebar": "Contents",
   "toc_cell": false,
   "toc_position": {},
   "toc_section_display": true,
   "toc_window_display": false
  },
  "varInspector": {
   "cols": {
    "lenName": 16,
    "lenType": 16,
    "lenVar": 40
   },
   "kernels_config": {
    "python": {
     "delete_cmd_postfix": "",
     "delete_cmd_prefix": "del ",
     "library": "var_list.py",
     "varRefreshCmd": "print(var_dic_list())"
    },
    "r": {
     "delete_cmd_postfix": ") ",
     "delete_cmd_prefix": "rm(",
     "library": "var_list.r",
     "varRefreshCmd": "cat(var_dic_list()) "
    }
   },
   "types_to_exclude": [
    "module",
    "function",
    "builtin_function_or_method",
    "instance",
    "_Feature"
   ],
   "window_display": false
  }
 },
 "nbformat": 4,
 "nbformat_minor": 5
}
