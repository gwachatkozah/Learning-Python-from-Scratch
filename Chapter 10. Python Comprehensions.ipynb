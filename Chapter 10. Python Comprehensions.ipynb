{
 "cells": [
  {
   "cell_type": "markdown",
   "id": "b5bcff02",
   "metadata": {},
   "source": [
    "**LIST COMPREHENSIONS**"
   ]
  },
  {
   "cell_type": "markdown",
   "id": "3f76d861",
   "metadata": {},
   "source": [
    "A list comprehension allows you to create a list from another collection, such as another list or\n",
    "dictionary.<br>\n",
    "A list comprehension, like a list, starts & ends with square brackets `[ ]`; it also has a for loop built in to it, all on a single line.<br> This can optionally be followed by zero or more for or if clauses (inside the square brackets).\n"
   ]
  },
  {
   "cell_type": "code",
   "execution_count": 2,
   "id": "a95be8b9",
   "metadata": {
    "ExecuteTime": {
     "end_time": "2024-01-07T11:56:02.089640Z",
     "start_time": "2024-01-07T11:56:02.080242Z"
    }
   },
   "outputs": [
    {
     "data": {
      "text/plain": [
       "[1, 2, 3]"
      ]
     },
     "execution_count": 2,
     "metadata": {},
     "output_type": "execute_result"
    }
   ],
   "source": [
    "sequence = [1,2,3]\n",
    "new_list = [x for x in sequence]\n",
    "new_list"
   ]
  },
  {
   "cell_type": "code",
   "execution_count": 4,
   "id": "b5b55306",
   "metadata": {
    "ExecuteTime": {
     "end_time": "2024-01-07T11:57:15.036351Z",
     "start_time": "2024-01-07T11:57:15.027548Z"
    }
   },
   "outputs": [
    {
     "data": {
      "text/plain": [
       "[4, 6, 8, 12, 16]"
      ]
     },
     "execution_count": 4,
     "metadata": {},
     "output_type": "execute_result"
    }
   ],
   "source": [
    "sequence = [2,3,4,6,8]\n",
    "new_list = [x * 2 for x in sequence]\n",
    "new_list"
   ]
  },
  {
   "cell_type": "markdown",
   "id": "1e858cef",
   "metadata": {},
   "source": [
    "**Filtering List Comprehensions**"
   ]
  },
  {
   "cell_type": "code",
   "execution_count": 5,
   "id": "5289afc0",
   "metadata": {
    "ExecuteTime": {
     "end_time": "2024-01-07T12:02:48.522345Z",
     "start_time": "2024-01-07T12:02:48.514880Z"
    }
   },
   "outputs": [
    {
     "data": {
      "text/plain": [
       "range(0, 10)"
      ]
     },
     "execution_count": 5,
     "metadata": {},
     "output_type": "execute_result"
    }
   ],
   "source": [
    "range(10)"
   ]
  },
  {
   "cell_type": "code",
   "execution_count": 6,
   "id": "4aee3764",
   "metadata": {
    "ExecuteTime": {
     "end_time": "2024-01-07T12:02:59.537066Z",
     "start_time": "2024-01-07T12:02:59.530094Z"
    }
   },
   "outputs": [
    {
     "data": {
      "text/plain": [
       "[0, 1, 2, 3, 4, 5, 6, 7, 8, 9]"
      ]
     },
     "execution_count": 6,
     "metadata": {},
     "output_type": "execute_result"
    }
   ],
   "source": [
    "list(range(10))"
   ]
  },
  {
   "cell_type": "code",
   "execution_count": 15,
   "id": "d0c6bc43",
   "metadata": {
    "ExecuteTime": {
     "end_time": "2024-01-07T12:05:22.842475Z",
     "start_time": "2024-01-07T12:05:22.834394Z"
    }
   },
   "outputs": [
    {
     "data": {
      "text/plain": [
       "[1, 3, 5, 7, 9]"
      ]
     },
     "execution_count": 15,
     "metadata": {},
     "output_type": "execute_result"
    }
   ],
   "source": [
    "odd_numbers = [x for x in range(10) if x % 2]\n",
    "odd_numbers"
   ]
  },
  {
   "cell_type": "code",
   "execution_count": 9,
   "id": "1d4645f8",
   "metadata": {
    "ExecuteTime": {
     "end_time": "2024-01-07T12:04:16.446646Z",
     "start_time": "2024-01-07T12:04:16.439722Z"
    }
   },
   "outputs": [
    {
     "data": {
      "text/plain": [
       "True"
      ]
     },
     "execution_count": 9,
     "metadata": {},
     "output_type": "execute_result"
    }
   ],
   "source": []
  },
  {
   "cell_type": "code",
   "execution_count": 23,
   "id": "2fa2b1a0",
   "metadata": {
    "ExecuteTime": {
     "end_time": "2024-01-07T12:18:43.233212Z",
     "start_time": "2024-01-07T12:18:43.223261Z"
    }
   },
   "outputs": [
    {
     "data": {
      "text/plain": [
       "[(30, 'pencil'), (50, 'biro'), (100, 'book')]"
      ]
     },
     "execution_count": 23,
     "metadata": {},
     "output_type": "execute_result"
    }
   ],
   "source": [
    "my_dict = {30: 'pencil', 50: 'biro', 100: 'book'}\n",
    "\n",
    "[(price, item) for price in my_dict\n",
    " for item in my_dict.values()\n",
    " if my_dict[price] == item]"
   ]
  },
  {
   "cell_type": "markdown",
   "id": "6e49f7c3",
   "metadata": {},
   "source": [
    "This code creates a tuple of number and animals for each number in the dictionary and each animal,\n",
    "but it filters it so that it will only create the tuple if the dictionary key equals its value.\n"
   ]
  },
  {
   "cell_type": "markdown",
   "id": "e5a492ec",
   "metadata": {},
   "source": [
    "**Dictionary Comprehensions**"
   ]
  },
  {
   "cell_type": "code",
   "execution_count": 26,
   "id": "1d2e94ee",
   "metadata": {
    "ExecuteTime": {
     "end_time": "2024-01-07T12:22:26.006166Z",
     "start_time": "2024-01-07T12:22:25.994072Z"
    }
   },
   "outputs": [
    {
     "data": {
      "text/plain": [
       "{0: 'a', 1: 'b', 2: 'c', 3: 'd', 4: 'e'}"
      ]
     },
     "execution_count": 26,
     "metadata": {},
     "output_type": "execute_result"
    }
   ],
   "source": [
    "{key: value for key, value in enumerate('abcde')}"
   ]
  },
  {
   "cell_type": "markdown",
   "id": "40f40330",
   "metadata": {},
   "source": [
    "**Set Comprehensions**"
   ]
  },
  {
   "cell_type": "code",
   "execution_count": 27,
   "id": "e0790427",
   "metadata": {
    "ExecuteTime": {
     "end_time": "2024-01-07T13:14:01.014436Z",
     "start_time": "2024-01-07T13:14:01.000413Z"
    }
   },
   "outputs": [
    {
     "data": {
      "text/plain": [
       "['James', 'Mary', 'Chloe', 'Austin', 'Colby', 'Tiffany']"
      ]
     },
     "execution_count": 27,
     "metadata": {},
     "output_type": "execute_result"
    }
   ],
   "source": [
    "my_list = ['James', 'Mary', 'Chloe', 'Austin', 'Colby', 'Tiffany']\n",
    "my_list"
   ]
  },
  {
   "cell_type": "code",
   "execution_count": 29,
   "id": "351024c9",
   "metadata": {
    "ExecuteTime": {
     "end_time": "2024-01-07T13:14:25.442193Z",
     "start_time": "2024-01-07T13:14:25.436310Z"
    }
   },
   "outputs": [
    {
     "data": {
      "text/plain": [
       "{'Austin', 'Chloe', 'Colby', 'James', 'Mary', 'Tiffany'}"
      ]
     },
     "execution_count": 29,
     "metadata": {},
     "output_type": "execute_result"
    }
   ],
   "source": [
    "my_set = {x for x in my_list}\n",
    "my_set"
   ]
  },
  {
   "cell_type": "code",
   "execution_count": null,
   "id": "dac14a6c",
   "metadata": {},
   "outputs": [],
   "source": []
  }
 ],
 "metadata": {
  "kernelspec": {
   "display_name": "Python 3 (ipykernel)",
   "language": "python",
   "name": "python3"
  },
  "language_info": {
   "codemirror_mode": {
    "name": "ipython",
    "version": 3
   },
   "file_extension": ".py",
   "mimetype": "text/x-python",
   "name": "python",
   "nbconvert_exporter": "python",
   "pygments_lexer": "ipython3",
   "version": "3.11.5"
  },
  "toc": {
   "base_numbering": 1,
   "nav_menu": {},
   "number_sections": true,
   "sideBar": true,
   "skip_h1_title": false,
   "title_cell": "Table of Contents",
   "title_sidebar": "Contents",
   "toc_cell": false,
   "toc_position": {},
   "toc_section_display": true,
   "toc_window_display": false
  },
  "varInspector": {
   "cols": {
    "lenName": 16,
    "lenType": 16,
    "lenVar": 40
   },
   "kernels_config": {
    "python": {
     "delete_cmd_postfix": "",
     "delete_cmd_prefix": "del ",
     "library": "var_list.py",
     "varRefreshCmd": "print(var_dic_list())"
    },
    "r": {
     "delete_cmd_postfix": ") ",
     "delete_cmd_prefix": "rm(",
     "library": "var_list.r",
     "varRefreshCmd": "cat(var_dic_list()) "
    }
   },
   "types_to_exclude": [
    "module",
    "function",
    "builtin_function_or_method",
    "instance",
    "_Feature"
   ],
   "window_display": false
  }
 },
 "nbformat": 4,
 "nbformat_minor": 5
}
