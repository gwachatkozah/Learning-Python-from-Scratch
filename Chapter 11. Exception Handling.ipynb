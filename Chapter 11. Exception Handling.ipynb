{
 "cells": [
  {
   "cell_type": "markdown",
   "id": "2b69a87d",
   "metadata": {},
   "source": [
    "**What are Exceptions?**\n",
    "- Unexpected events or errors that occur during program execution.\n",
    "- Interrupt the normal flow of code and can lead to crashes if not handled properly."
   ]
  },
  {
   "cell_type": "markdown",
   "id": "97bb14b0",
   "metadata": {},
   "source": [
    "**Why is it important Handle Exceptions?**\n",
    "- Prevents program crashes and provides meaningful error messages.\n",
    "- Allows for corrective actions or alternative code paths.\n",
    "- Create more robust and user-friendly applications."
   ]
  },
  {
   "cell_type": "markdown",
   "id": "fc4b2fee",
   "metadata": {},
   "source": [
    "**Structure**"
   ]
  },
  {
   "cell_type": "code",
   "execution_count": null,
   "id": "2ddccf94",
   "metadata": {},
   "outputs": [],
   "source": [
    "try:\n",
    "    # Code that might raise an exception\n",
    "except ExceptionType1:\n",
    "    # Code to handle ExceptionType1\n",
    "except ExceptionType2:\n",
    "    # Code to handle ExceptionType2\n",
    "else:\n",
    "    # Code to execute if no exception is raised\n",
    "finally:\n",
    "    # Code that always executes, regardless of exceptions"
   ]
  },
  {
   "cell_type": "markdown",
   "id": "e1ec5bc5",
   "metadata": {},
   "source": [
    "**Key Concepts**\n",
    "- `try`: Block where you place code that may raise exceptions.\n",
    "- `except`: Block that handles specific exception types.\n",
    "- `else`: Optional block of code that executes only if no exceptions occur.\n",
    "- `finally`: Optional block of code that always executes even if exceptios occur, often used for cleanup tasks e.g. closing files.\n",
    "- `raise`: Used to maunually raise an exception."
   ]
  },
  {
   "cell_type": "markdown",
   "id": "d8b4cceb",
   "metadata": {},
   "source": [
    "**The Common Exception Types:**\n",
    "- `Exception` - The base exception that all the others are based on.\n",
    "- `AttributeError` - Raised when an attribute reference or assignment fails.\n",
    "- `ImportError` - Raised when an import statement fails to find the module definition or when a from … import fails to find a name that is to be imported.\n",
    "- `ModuleNotFoundError` - A subclass of `ImportError` which is raised by import when a module could not be located.\n",
    "- `IndexError` - Raised when a sequence subscript is out of range.\n",
    "- `KeyError` - Raised when a mapping (dictionary) key is not found in the set of existing keys.\n",
    "- `KeyboardInterrupt` - Raised when the user hits the interrupt key (normally Control-C or Delete).\n",
    "- `NameError` - Raised when a local or global name is not found.\n",
    "- `OSError` - Raised when a function returns a system-related error.\n",
    "- `RuntimeError` - Raised when an error is detected that does not fall in any of the other categories.\n",
    "- `SyntaxError` - Raised when the parser encounters a syntax error.\n",
    "- `TypeError` - Raised when an operation or function is applied to an object of inappropriate type. The associated value is a string giving details about the type mismatch.\n",
    "- `ValueError` - Raised when a built-in operation or function receives an argument that has the right type but an inappropriate value, and the situation is not described by a more precise exception such as `IndexError`.\n",
    "- `ZeroDivisionError` - Raised when the second argument of a division or modulo operation is zero.\n",
    "\n",
    "For a full listing of the built-in exceptions, you can check out the Python documentation by clicking [here](https://docs.python.org/3/library/exceptions.html)"
   ]
  },
  {
   "cell_type": "markdown",
   "id": "3ce697cc",
   "metadata": {},
   "source": [
    "**Handling Exceptions**<br>\n",
    "Python comes with a special syntax that you can use to catch an exception. It is known as the\n",
    "try/except statement.<br>\n",
    "This is the basic form that you will use to catch an exception:"
   ]
  },
  {
   "cell_type": "code",
   "execution_count": null,
   "id": "9ad1713b",
   "metadata": {},
   "outputs": [],
   "source": [
    "try:\n",
    "    # Code that may raise an exception goes here\n",
    "except ImportError:\n",
    "    # Code that is executed when an exception occurs"
   ]
  },
  {
   "cell_type": "code",
   "execution_count": 1,
   "id": "722e886c",
   "metadata": {
    "ExecuteTime": {
     "end_time": "2024-01-29T15:07:04.387536Z",
     "start_time": "2024-01-29T15:06:59.830605Z"
    }
   },
   "outputs": [
    {
     "name": "stdout",
     "output_type": "stream",
     "text": [
      "An Error Occured!\n"
     ]
    }
   ],
   "source": [
    "try:\n",
    "    with open('example.txt') as file_handler:\n",
    "        for line in file_handler:\n",
    "            print(line)\n",
    "except:\n",
    "    print('An Error Occured!')"
   ]
  },
  {
   "cell_type": "markdown",
   "id": "3145bf3d",
   "metadata": {},
   "source": [
    "The reason it is bad practice to create a bare except is that you don’t know what types of exceptions\n",
    "you are catching, nor exactly where they are occurring.<br>\n",
    "This can make figuring out what you did\n",
    "wrong more difficult. If you narrow the exception types down to the ones you know how to deal\n",
    "with, then the unexpected ones will actually make your application crash with a useful message. At\n",
    "that point, you can decide if you want to catch that other exception or not.<br>\n",
    "Let’s say you want to catch multiple exceptions. Here is one way to do that:"
   ]
  },
  {
   "cell_type": "code",
   "execution_count": 2,
   "id": "ad9237eb",
   "metadata": {
    "ExecuteTime": {
     "end_time": "2024-01-29T15:07:11.992550Z",
     "start_time": "2024-01-29T15:07:11.986380Z"
    }
   },
   "outputs": [
    {
     "name": "stdout",
     "output_type": "stream",
     "text": [
      "An error occured\n"
     ]
    }
   ],
   "source": [
    "try:\n",
    "    with open('example.txt') as file_handler:\n",
    "        for line in file_handler:\n",
    "            print(line)\n",
    "except OSError:\n",
    "    print('An error occured')\n",
    "except ImportError:\n",
    "    print('Unknown import!')"
   ]
  },
  {
   "cell_type": "markdown",
   "id": "0771b9e1",
   "metadata": {},
   "source": [
    "This exception handler will catch two types of exceptions: `OSError` and `ImportError`. If another type\n",
    "of exception occurs, this handler won’t catch it and your code will stop.<br>\n",
    "You can rewrite the code above to be a bit simpler by doing this:"
   ]
  },
  {
   "cell_type": "code",
   "execution_count": 3,
   "id": "6c64cec1",
   "metadata": {
    "ExecuteTime": {
     "end_time": "2024-01-29T15:07:28.055734Z",
     "start_time": "2024-01-29T15:07:28.040413Z"
    }
   },
   "outputs": [
    {
     "name": "stdout",
     "output_type": "stream",
     "text": [
      "An error occured!\n"
     ]
    }
   ],
   "source": [
    "try:\n",
    "    with open('example.txt') as file_handler:\n",
    "        for line in file_handler:\n",
    "            print(line)\n",
    "except(OSError, ImportError):\n",
    "    print('An error occured!')"
   ]
  },
  {
   "cell_type": "markdown",
   "id": "d36238a3",
   "metadata": {},
   "source": [
    "**Raising Exceptions**"
   ]
  },
  {
   "cell_type": "markdown",
   "id": "a2910788",
   "metadata": {},
   "source": [
    "What do you do after you catch an exception?<br>\n",
    "You have a couple of options.\n",
    "- You can print out a message like you have been in the previous examples. \n",
    "- You could also log the message to a log file for later debugging.\n",
    "- Or, if the exception is one that you know needs to stop the execution of your application, you can re-raise the exception – possibly adding more information to it.\n",
    "\n",
    "Raising an exception is the process of forcing an exception to occur. You raise exceptions in special\n",
    "cases. For example, if a file you need to access isn’t found on the computer you might raise an\n",
    "exception.<br>\n",
    "You can use Python’s built-in raise statement to raise an exception:"
   ]
  },
  {
   "cell_type": "code",
   "execution_count": 4,
   "id": "52f38c80",
   "metadata": {
    "ExecuteTime": {
     "end_time": "2024-01-29T15:10:34.780590Z",
     "start_time": "2024-01-29T15:10:34.776134Z"
    }
   },
   "outputs": [
    {
     "name": "stdout",
     "output_type": "stream",
     "text": [
      "Caught an ImportError\n"
     ]
    }
   ],
   "source": [
    "try:\n",
    "    raise ImportError\n",
    "except ImportError:\n",
    "    print('Caught an ImportError')"
   ]
  },
  {
   "cell_type": "markdown",
   "id": "39422d4d",
   "metadata": {},
   "source": [
    "When you raise an exception, you can have it print out a custom message:"
   ]
  },
  {
   "cell_type": "code",
   "execution_count": 5,
   "id": "01bb08bc",
   "metadata": {
    "ExecuteTime": {
     "end_time": "2024-01-29T15:10:44.515849Z",
     "start_time": "2024-01-29T15:10:44.469234Z"
    }
   },
   "outputs": [
    {
     "ename": "Exception",
     "evalue": "Something bad happened!",
     "output_type": "error",
     "traceback": [
      "\u001b[1;31m---------------------------------------------------------------------------\u001b[0m",
      "\u001b[1;31mException\u001b[0m                                 Traceback (most recent call last)",
      "Cell \u001b[1;32mIn[5], line 1\u001b[0m\n\u001b[1;32m----> 1\u001b[0m \u001b[38;5;28;01mraise\u001b[39;00m \u001b[38;5;167;01mException\u001b[39;00m(\u001b[38;5;124m'\u001b[39m\u001b[38;5;124mSomething bad happened!\u001b[39m\u001b[38;5;124m'\u001b[39m)\n",
      "\u001b[1;31mException\u001b[0m: Something bad happened!"
     ]
    }
   ],
   "source": [
    "raise Exception('Something bad happened!')"
   ]
  },
  {
   "cell_type": "markdown",
   "id": "b2334e3f",
   "metadata": {},
   "source": [
    "If you don't provide a message, then the exception would look like this:"
   ]
  },
  {
   "cell_type": "code",
   "execution_count": 6,
   "id": "e156c146",
   "metadata": {
    "ExecuteTime": {
     "end_time": "2024-01-29T15:11:23.643802Z",
     "start_time": "2024-01-29T15:11:23.621172Z"
    }
   },
   "outputs": [
    {
     "ename": "Exception",
     "evalue": "",
     "output_type": "error",
     "traceback": [
      "\u001b[1;31m---------------------------------------------------------------------------\u001b[0m",
      "\u001b[1;31mException\u001b[0m                                 Traceback (most recent call last)",
      "Cell \u001b[1;32mIn[6], line 1\u001b[0m\n\u001b[1;32m----> 1\u001b[0m \u001b[38;5;28;01mraise\u001b[39;00m \u001b[38;5;167;01mException\u001b[39;00m\n",
      "\u001b[1;31mException\u001b[0m: "
     ]
    }
   ],
   "source": [
    "raise Exception"
   ]
  },
  {
   "cell_type": "markdown",
   "id": "c5ff1d11",
   "metadata": {},
   "source": [
    "**Examining the Exception Object**"
   ]
  },
  {
   "cell_type": "markdown",
   "id": "d7f06084",
   "metadata": {},
   "source": [
    "When an exception occurs, Python will create an exception object. You can examine the exception\n",
    "object by assigning it to a variable using the `as` statement:"
   ]
  },
  {
   "cell_type": "code",
   "execution_count": 7,
   "id": "0a5aa92e",
   "metadata": {
    "ExecuteTime": {
     "end_time": "2024-01-29T15:12:24.272432Z",
     "start_time": "2024-01-29T15:12:24.266534Z"
    }
   },
   "outputs": [
    {
     "name": "stdout",
     "output_type": "stream",
     "text": [
      "<class 'ImportError'>\n",
      "('Bad Import',)\n",
      "Bad Import\n"
     ]
    }
   ],
   "source": [
    "try:\n",
    "    raise ImportError('Bad Import')\n",
    "except ImportError as error:\n",
    "    print(type(error))\n",
    "    print(error.args)\n",
    "    print(error)"
   ]
  },
  {
   "cell_type": "markdown",
   "id": "fbbf8f77",
   "metadata": {},
   "source": [
    "In this example, you assigned the ImportError object to error. Now you can use Python’s type() function to learn what kind of exception it was. This would allow you to solve the issue mentioned earlier in this chapter when you have a tuple of exceptions but you can’t immediately know which\n",
    "exception you caught.\n",
    "If you want to dive even deeper into debugging exceptions, you should look up Python’s traceback module."
   ]
  },
  {
   "cell_type": "markdown",
   "id": "e0265d8d",
   "metadata": {},
   "source": [
    "**Using the**`finally` **Statement**<br>\n",
    "There is more to the try/except statement than just try and except. You can add a finally statement to it as well. The finally statement is a block of code that will always get run even if there is an exception raised inside of the try portion.\n",
    "\n",
    "You can use the finally statement for cleanup. For example, you might need to close a database connection or a file handle. To do that, you can wrap the code in a try/except/finally statement.\n",
    "\n",
    "Let’s look at a contrived example:"
   ]
  },
  {
   "cell_type": "code",
   "execution_count": 8,
   "id": "1175bf66",
   "metadata": {
    "ExecuteTime": {
     "end_time": "2024-01-29T15:44:06.250215Z",
     "start_time": "2024-01-29T15:44:06.245258Z"
    }
   },
   "outputs": [
    {
     "name": "stdout",
     "output_type": "stream",
     "text": [
      "You can not divide by zero!\n",
      "Cleaning up\n"
     ]
    }
   ],
   "source": [
    "try:\n",
    "    1/0\n",
    "except ZeroDivisionError:\n",
    "    print('You can not divide by zero!')\n",
    "finally:\n",
    "    print('Cleaning up')"
   ]
  },
  {
   "cell_type": "markdown",
   "id": "29baf990",
   "metadata": {},
   "source": [
    "This example demonstrates how you can handle the ZeroDivisionError exception as well as add clean up code.\n",
    "\n",
    "You can also skip the except statement entirely and create a try/finally instead"
   ]
  },
  {
   "cell_type": "code",
   "execution_count": 9,
   "id": "045c2db7",
   "metadata": {
    "ExecuteTime": {
     "end_time": "2024-01-29T15:45:11.037555Z",
     "start_time": "2024-01-29T15:45:11.005854Z"
    }
   },
   "outputs": [
    {
     "name": "stdout",
     "output_type": "stream",
     "text": [
      "Cleaning up\n"
     ]
    },
    {
     "ename": "ZeroDivisionError",
     "evalue": "division by zero",
     "output_type": "error",
     "traceback": [
      "\u001b[1;31m---------------------------------------------------------------------------\u001b[0m",
      "\u001b[1;31mZeroDivisionError\u001b[0m                         Traceback (most recent call last)",
      "Cell \u001b[1;32mIn[9], line 2\u001b[0m\n\u001b[0;32m      1\u001b[0m \u001b[38;5;28;01mtry\u001b[39;00m:\n\u001b[1;32m----> 2\u001b[0m     \u001b[38;5;241m1\u001b[39m\u001b[38;5;241m/\u001b[39m\u001b[38;5;241m0\u001b[39m\n\u001b[0;32m      3\u001b[0m \u001b[38;5;28;01mfinally\u001b[39;00m:\n\u001b[0;32m      4\u001b[0m     \u001b[38;5;28mprint\u001b[39m(\u001b[38;5;124m'\u001b[39m\u001b[38;5;124mCleaning up\u001b[39m\u001b[38;5;124m'\u001b[39m)\n",
      "\u001b[1;31mZeroDivisionError\u001b[0m: division by zero"
     ]
    }
   ],
   "source": [
    "try:\n",
    "    1/0\n",
    "finally:\n",
    "    print('Cleaning up')"
   ]
  },
  {
   "cell_type": "markdown",
   "id": "7f7e2a32",
   "metadata": {},
   "source": [
    "**Using the** `else` **Statement**"
   ]
  },
  {
   "cell_type": "markdown",
   "id": "3c967bdd",
   "metadata": {},
   "source": [
    "There is one other statement that you can use with Python’s exception handling and that is the else statement. You can use the else statement to execute code when there are no exceptions.\n",
    "\n",
    "Here is an example:"
   ]
  },
  {
   "cell_type": "code",
   "execution_count": 13,
   "id": "c09f0399",
   "metadata": {
    "ExecuteTime": {
     "end_time": "2024-01-29T15:52:26.899987Z",
     "start_time": "2024-01-29T15:52:26.894357Z"
    }
   },
   "outputs": [
    {
     "name": "stdout",
     "output_type": "stream",
     "text": [
      "This is a try block\n",
      "This is an else block\n"
     ]
    }
   ],
   "source": [
    "try:\n",
    "    print('This is a try block')\n",
    "except IOError:\n",
    "    print('An IOError occured!')\n",
    "else:\n",
    "    print('This is an else block')"
   ]
  },
  {
   "cell_type": "markdown",
   "id": "5cfad0cd",
   "metadata": {},
   "source": [
    "In this code, no exception occurred, so the try block and the else blocks both run.<br>\n",
    "Let’s try raising an `IOError` and see what happens."
   ]
  },
  {
   "cell_type": "code",
   "execution_count": 14,
   "id": "b4a9c2a7",
   "metadata": {
    "ExecuteTime": {
     "end_time": "2024-01-29T15:53:41.166983Z",
     "start_time": "2024-01-29T15:53:41.161341Z"
    }
   },
   "outputs": [
    {
     "name": "stdout",
     "output_type": "stream",
     "text": [
      "An IOError occured!\n"
     ]
    }
   ],
   "source": [
    "try:\n",
    "    raise IOError\n",
    "    print('This is a try block')\n",
    "except IOError:\n",
    "    print('An IOError occured!')\n",
    "else:\n",
    "    print('This is an else block')"
   ]
  },
  {
   "cell_type": "markdown",
   "id": "d9c31e99",
   "metadata": {},
   "source": [
    "Since an exception was raised, only the try and the except blocks ran. Note that the try block stopped running at the raise statement. It never reached the print() function at all.\n",
    "\n",
    "Once an exception is raised, all the following code is skipped over and you go straight to the exception\n",
    "handling code."
   ]
  },
  {
   "cell_type": "markdown",
   "id": "b40bc5ae",
   "metadata": {},
   "source": [
    "**Review Questions**\n",
    "1. What are a couple of common exceptions?\n",
    "2. How do you catch an exception in Python?\n",
    "3. What do you need to do to raise a run time error?\n",
    "4. What is the finally statement for"
   ]
  }
 ],
 "metadata": {
  "kernelspec": {
   "display_name": "Python 3 (ipykernel)",
   "language": "python",
   "name": "python3"
  },
  "language_info": {
   "codemirror_mode": {
    "name": "ipython",
    "version": 3
   },
   "file_extension": ".py",
   "mimetype": "text/x-python",
   "name": "python",
   "nbconvert_exporter": "python",
   "pygments_lexer": "ipython3",
   "version": "3.11.5"
  },
  "toc": {
   "base_numbering": 1,
   "nav_menu": {},
   "number_sections": true,
   "sideBar": true,
   "skip_h1_title": false,
   "title_cell": "Table of Contents",
   "title_sidebar": "Contents",
   "toc_cell": false,
   "toc_position": {},
   "toc_section_display": true,
   "toc_window_display": false
  },
  "varInspector": {
   "cols": {
    "lenName": 16,
    "lenType": 16,
    "lenVar": 40
   },
   "kernels_config": {
    "python": {
     "delete_cmd_postfix": "",
     "delete_cmd_prefix": "del ",
     "library": "var_list.py",
     "varRefreshCmd": "print(var_dic_list())"
    },
    "r": {
     "delete_cmd_postfix": ") ",
     "delete_cmd_prefix": "rm(",
     "library": "var_list.r",
     "varRefreshCmd": "cat(var_dic_list()) "
    }
   },
   "types_to_exclude": [
    "module",
    "function",
    "builtin_function_or_method",
    "instance",
    "_Feature"
   ],
   "window_display": false
  }
 },
 "nbformat": 4,
 "nbformat_minor": 5
}
