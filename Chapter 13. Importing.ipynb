{
 "cells": [
  {
   "cell_type": "markdown",
   "id": "d3774c14",
   "metadata": {},
   "source": [
    "**IMPORTING**"
   ]
  },
  {
   "cell_type": "markdown",
   "id": "f54c433a",
   "metadata": {},
   "source": [
    "One of Python’s strongest advantages over other programming languages is its large, comprehensive standard library. The standard library is a set of modules or libraries that you can import into your own applications to enhance your programs.\n",
    "\n",
    "Here are just a few examples of modules you might use:\n",
    "- `argparse` - Create command-line interfaces\n",
    "- `email` - Create, send, and process email\n",
    "- `logging` - Create run-time logs of program execution\n",
    "- `pathlib` - Work with file names and paths\n",
    "- `subprocess` - Open and interact with other processes\n",
    "- `sys` - Work with system specific functions and information\n",
    "- `urllib` - Work with URLs"
   ]
  },
  {
   "cell_type": "markdown",
   "id": "3f5584f9",
   "metadata": {},
   "source": [
    "There are dozens and dozens of other libraries. You can see a full listing by clinking this [link](https://docs.python.org/3/library/index.html)."
   ]
  },
  {
   "cell_type": "markdown",
   "id": "ad42bb95",
   "metadata": {},
   "source": [
    "If there isn’t something in the standard library that will work for your use-case, you can usually find a 3rd party package that will.\n",
    "\n",
    "In this chapter, you will learn how to:\n",
    "- Use import\n",
    "- Use from to import specific bits and pieces\n",
    "- Use as to give the imported thing a new name\n",
    "- Import everything\n",
    "\n",
    "Let’s get started by learning how to import a library!"
   ]
  },
  {
   "cell_type": "markdown",
   "id": "63b61be3",
   "metadata": {},
   "source": [
    "**Using** `import`"
   ]
  },
  {
   "cell_type": "markdown",
   "id": "9bb24d6a",
   "metadata": {},
   "source": [
    "Python has several different ways to import libraries. The simplest and most popular is to use the `import` keyword followed by the name of the library you wish to import. Imports should usually be put at the top of your Python file or script so that all the code in your program has access to the library.\n",
    "\n",
    "Let’s take a look at an example:"
   ]
  },
  {
   "cell_type": "code",
   "execution_count": 1,
   "id": "c263739f",
   "metadata": {
    "ExecuteTime": {
     "end_time": "2024-02-05T18:54:36.911158Z",
     "start_time": "2024-02-05T18:54:36.901027Z"
    }
   },
   "outputs": [
    {
     "data": {
      "text/plain": [
       "['__breakpointhook__',\n",
       " '__displayhook__',\n",
       " '__doc__',\n",
       " '__excepthook__',\n",
       " '__interactivehook__',\n",
       " '__loader__',\n",
       " '__name__',\n",
       " '__package__',\n",
       " '__spec__',\n",
       " '__stderr__',\n",
       " '__stdin__',\n",
       " '__stdout__',\n",
       " '__unraisablehook__',\n",
       " '_base_executable',\n",
       " '_clear_type_cache',\n",
       " '_current_exceptions',\n",
       " '_current_frames',\n",
       " '_debugmallocstats',\n",
       " '_enablelegacywindowsfsencoding',\n",
       " '_framework',\n",
       " '_getframe',\n",
       " '_getquickenedcount',\n",
       " '_git',\n",
       " '_home',\n",
       " '_stdlib_dir',\n",
       " '_vpath',\n",
       " '_xoptions',\n",
       " 'addaudithook',\n",
       " 'api_version',\n",
       " 'argv',\n",
       " 'audit',\n",
       " 'base_exec_prefix',\n",
       " 'base_prefix',\n",
       " 'breakpointhook',\n",
       " 'builtin_module_names',\n",
       " 'byteorder',\n",
       " 'call_tracing',\n",
       " 'copyright',\n",
       " 'displayhook',\n",
       " 'dllhandle',\n",
       " 'dont_write_bytecode',\n",
       " 'exc_info',\n",
       " 'excepthook',\n",
       " 'exception',\n",
       " 'exec_prefix',\n",
       " 'executable',\n",
       " 'exit',\n",
       " 'flags',\n",
       " 'float_info',\n",
       " 'float_repr_style',\n",
       " 'get_asyncgen_hooks',\n",
       " 'get_coroutine_origin_tracking_depth',\n",
       " 'get_int_max_str_digits',\n",
       " 'getallocatedblocks',\n",
       " 'getdefaultencoding',\n",
       " 'getfilesystemencodeerrors',\n",
       " 'getfilesystemencoding',\n",
       " 'getprofile',\n",
       " 'getrecursionlimit',\n",
       " 'getrefcount',\n",
       " 'getsizeof',\n",
       " 'getswitchinterval',\n",
       " 'gettrace',\n",
       " 'getwindowsversion',\n",
       " 'hash_info',\n",
       " 'hexversion',\n",
       " 'implementation',\n",
       " 'int_info',\n",
       " 'intern',\n",
       " 'is_finalizing',\n",
       " 'maxsize',\n",
       " 'maxunicode',\n",
       " 'meta_path',\n",
       " 'modules',\n",
       " 'orig_argv',\n",
       " 'path',\n",
       " 'path_hooks',\n",
       " 'path_importer_cache',\n",
       " 'platform',\n",
       " 'platlibdir',\n",
       " 'prefix',\n",
       " 'ps1',\n",
       " 'ps2',\n",
       " 'ps3',\n",
       " 'pycache_prefix',\n",
       " 'set_asyncgen_hooks',\n",
       " 'set_coroutine_origin_tracking_depth',\n",
       " 'set_int_max_str_digits',\n",
       " 'setprofile',\n",
       " 'setrecursionlimit',\n",
       " 'setswitchinterval',\n",
       " 'settrace',\n",
       " 'stderr',\n",
       " 'stdin',\n",
       " 'stdlib_module_names',\n",
       " 'stdout',\n",
       " 'thread_info',\n",
       " 'unraisablehook',\n",
       " 'version',\n",
       " 'version_info',\n",
       " 'warnoptions',\n",
       " 'winver']"
      ]
     },
     "execution_count": 1,
     "metadata": {},
     "output_type": "execute_result"
    }
   ],
   "source": [
    "import sys\n",
    "dir(sys)"
   ]
  },
  {
   "cell_type": "markdown",
   "id": "6ccc308a",
   "metadata": {},
   "source": [
    "What happened here?<br>\n",
    "When you wrote `import sys`, it imported Python’s sys module, which is\n",
    "useful for figuring out such things as what arguments were passed to a Python script, adding an audit hook, and more.\n",
    "\n",
    "You can read all the nitty gritty details [here](https://docs.python.org/3/library/sys.html)\n",
    "\n",
    "You used Python’s dir() command to see what is available to you in the sys library. This is known as introspection in Python."
   ]
  },
  {
   "cell_type": "code",
   "execution_count": 3,
   "id": "318b5e76",
   "metadata": {
    "ExecuteTime": {
     "end_time": "2024-02-05T18:56:56.859725Z",
     "start_time": "2024-02-05T18:56:56.804988Z"
    }
   },
   "outputs": [
    {
     "name": "stdout",
     "output_type": "stream",
     "text": [
      "The Zen of Python, by Tim Peters\n",
      "\n",
      "Beautiful is better than ugly.\n",
      "Explicit is better than implicit.\n",
      "Simple is better than complex.\n",
      "Complex is better than complicated.\n",
      "Flat is better than nested.\n",
      "Sparse is better than dense.\n",
      "Readability counts.\n",
      "Special cases aren't special enough to break the rules.\n",
      "Although practicality beats purity.\n",
      "Errors should never pass silently.\n",
      "Unless explicitly silenced.\n",
      "In the face of ambiguity, refuse the temptation to guess.\n",
      "There should be one-- and preferably only one --obvious way to do it.\n",
      "Although that way may not be obvious at first unless you're Dutch.\n",
      "Now is better than never.\n",
      "Although never is often better than *right* now.\n",
      "If the implementation is hard to explain, it's a bad idea.\n",
      "If the implementation is easy to explain, it may be a good idea.\n",
      "Namespaces are one honking great idea -- let's do more of those!\n"
     ]
    }
   ],
   "source": [
    "import this"
   ]
  },
  {
   "cell_type": "markdown",
   "id": "f3b03544",
   "metadata": {},
   "source": [
    "When you run that code, it prints out the “Zen of Python”, which is a fun little set of “rules” that describe the “best” way to write Python.\n",
    "\n",
    "You can also import multiple libraries in one line of code:"
   ]
  },
  {
   "cell_type": "code",
   "execution_count": 4,
   "id": "ea3e9a6b",
   "metadata": {
    "ExecuteTime": {
     "end_time": "2024-02-05T18:59:03.465510Z",
     "start_time": "2024-02-05T18:59:03.460170Z"
    }
   },
   "outputs": [],
   "source": [
    "import math, os"
   ]
  },
  {
   "cell_type": "markdown",
   "id": "01e4a3eb",
   "metadata": {},
   "source": [
    "This is usually discouraged, but it is certainly allowed. If you want to follow Python’s style guide, PEP8, then you really shouldn’t do this. But if it is okay with your organization, then it’s up to you.<br>\n",
    "Just be consistent!<br>\n",
    "Once you have imported a library, you can call its functions and classes.<br>\n",
    "For example:"
   ]
  },
  {
   "cell_type": "code",
   "execution_count": 6,
   "id": "03f0592f",
   "metadata": {
    "ExecuteTime": {
     "end_time": "2024-02-05T19:00:40.203749Z",
     "start_time": "2024-02-05T19:00:40.196654Z"
    }
   },
   "outputs": [
    {
     "data": {
      "text/plain": [
       "3.872983346207417"
      ]
     },
     "execution_count": 6,
     "metadata": {},
     "output_type": "execute_result"
    }
   ],
   "source": [
    "import math\n",
    "math.sqrt(15)"
   ]
  },
  {
   "cell_type": "markdown",
   "id": "08986f4a",
   "metadata": {},
   "source": [
    "Here you called the `sqrt()` function that was in the `math` module to get the square root of 4. Sometimes you may want to import just bits and pieces from a module. Let’s find out how to do that next!"
   ]
  },
  {
   "cell_type": "markdown",
   "id": "f2fa5497",
   "metadata": {},
   "source": [
    "**Using** `from` **to Import Specific Bits & Pieces**"
   ]
  },
  {
   "cell_type": "markdown",
   "id": "496da9a0",
   "metadata": {},
   "source": [
    "There are times when it is nice to import parts of a library. Python supports this using the following syntax:\n",
    "\n",
    "    from module import fuction\n",
    "You can import functions, classes, and variables from a module.<br>\n",
    "Let's look at a more realistic example"
   ]
  },
  {
   "cell_type": "code",
   "execution_count": 7,
   "id": "2817797a",
   "metadata": {
    "ExecuteTime": {
     "end_time": "2024-02-05T19:04:08.913163Z",
     "start_time": "2024-02-05T19:04:08.908736Z"
    }
   },
   "outputs": [],
   "source": [
    "from math import sin, cos, tan"
   ]
  },
  {
   "cell_type": "markdown",
   "id": "859336a7",
   "metadata": {},
   "source": [
    "In this example, you import the sin(), cos(), and tan() functions, which are used for find the sine, cosine, and tangent of an angle.<br>\n",
    "Besides importing individual functions, you can also import anything else in that module:\n",
    "- variables\n",
    "- enumerations\n",
    "- classes\n",
    "- sub-modules\n",
    "\n",
    "For example, the `http` module has (sub-)modules of its own:"
   ]
  },
  {
   "cell_type": "code",
   "execution_count": 8,
   "id": "9051a45e",
   "metadata": {
    "ExecuteTime": {
     "end_time": "2024-02-05T19:05:57.487783Z",
     "start_time": "2024-02-05T19:05:57.480581Z"
    }
   },
   "outputs": [
    {
     "data": {
      "text/plain": [
       "module"
      ]
     },
     "execution_count": 8,
     "metadata": {},
     "output_type": "execute_result"
    }
   ],
   "source": [
    "import http\n",
    "type(http)"
   ]
  },
  {
   "cell_type": "code",
   "execution_count": 9,
   "id": "230196ca",
   "metadata": {
    "ExecuteTime": {
     "end_time": "2024-02-05T19:06:16.271262Z",
     "start_time": "2024-02-05T19:06:16.263134Z"
    }
   },
   "outputs": [
    {
     "data": {
      "text/plain": [
       "module"
      ]
     },
     "execution_count": 9,
     "metadata": {},
     "output_type": "execute_result"
    }
   ],
   "source": [
    "from http import client\n",
    "type(client)"
   ]
  },
  {
   "cell_type": "markdown",
   "id": "3b187deb",
   "metadata": {},
   "source": [
    "When you use many functions from a module, it can be helpful if that module has a shorter name.\n",
    "Let’s find out how to do that!"
   ]
  },
  {
   "cell_type": "markdown",
   "id": "f5530549",
   "metadata": {},
   "source": [
    "**Using** `as` **to Assign a New Name**"
   ]
  },
  {
   "cell_type": "markdown",
   "id": "112f2b9b",
   "metadata": {},
   "source": [
    "You can use as to assign a different name for things you import. For example, if you are using many `math` functions and don’t want to have to type `math` many times, you can do this:"
   ]
  },
  {
   "cell_type": "code",
   "execution_count": 10,
   "id": "cef33cbf",
   "metadata": {
    "ExecuteTime": {
     "end_time": "2024-02-05T19:08:01.318495Z",
     "start_time": "2024-02-05T19:08:01.307786Z"
    }
   },
   "outputs": [
    {
     "data": {
      "text/plain": [
       "2.449489742783178"
      ]
     },
     "execution_count": 10,
     "metadata": {},
     "output_type": "execute_result"
    }
   ],
   "source": [
    "import math as m\n",
    "m.sqrt(6)"
   ]
  },
  {
   "cell_type": "markdown",
   "id": "79ee5a4e",
   "metadata": {},
   "source": [
    "Likewise, if you would rather have sine, cosine, and tangent spelled out, you would do the following:"
   ]
  },
  {
   "cell_type": "code",
   "execution_count": 11,
   "id": "1f3b2b25",
   "metadata": {
    "ExecuteTime": {
     "end_time": "2024-02-05T19:09:36.100807Z",
     "start_time": "2024-02-05T19:09:36.091377Z"
    }
   },
   "outputs": [
    {
     "data": {
      "text/plain": [
       "0.8509035245341184"
      ]
     },
     "execution_count": 11,
     "metadata": {},
     "output_type": "execute_result"
    }
   ],
   "source": [
    "from math import sin as sine, cos as cosine, tan as tangent\n",
    "sine(45)"
   ]
  },
  {
   "cell_type": "markdown",
   "id": "973f9cec",
   "metadata": {},
   "source": [
    "This is known as aliasing"
   ]
  },
  {
   "cell_type": "markdown",
   "id": "087a6d6b",
   "metadata": {},
   "source": [
    "**Importing Everything**"
   ]
  },
  {
   "cell_type": "markdown",
   "id": "26ecbf1a",
   "metadata": {},
   "source": [
    "You can import all the functions and variables in one go as well. However, you really shouldn’t do this. The reason is that when you import everything, you don’t always know what you import. This can cause **namespace contamination**, which is a fancy term for importing a function or variable and then accidentally re-using one of those names yourself, or overwriting one of your own previously imported functions."
   ]
  },
  {
   "cell_type": "code",
   "execution_count": 12,
   "id": "0df605f7",
   "metadata": {
    "ExecuteTime": {
     "end_time": "2024-02-05T19:11:32.495676Z",
     "start_time": "2024-02-05T19:11:31.908919Z"
    }
   },
   "outputs": [
    {
     "ename": "TypeError",
     "evalue": "'int' object is not callable",
     "output_type": "error",
     "traceback": [
      "\u001b[1;31m---------------------------------------------------------------------------\u001b[0m",
      "\u001b[1;31mTypeError\u001b[0m                                 Traceback (most recent call last)",
      "Cell \u001b[1;32mIn[12], line 3\u001b[0m\n\u001b[0;32m      1\u001b[0m \u001b[38;5;28;01mfrom\u001b[39;00m \u001b[38;5;21;01mmath\u001b[39;00m \u001b[38;5;28;01mimport\u001b[39;00m \u001b[38;5;241m*\u001b[39m\n\u001b[0;32m      2\u001b[0m tan \u001b[38;5;241m=\u001b[39m \u001b[38;5;241m5\u001b[39m\n\u001b[1;32m----> 3\u001b[0m tan(\u001b[38;5;241m10\u001b[39m)\n",
      "\u001b[1;31mTypeError\u001b[0m: 'int' object is not callable"
     ]
    }
   ],
   "source": [
    "from math import *\n",
    "tan = 5\n",
    "tan(10)"
   ]
  },
  {
   "cell_type": "markdown",
   "id": "33cd92a7",
   "metadata": {},
   "source": [
    "Here you import everything from the math library via the `*` wildcard. The asterisk tells Python to import everything in the module.<br>\n",
    "Then you decide to create a variable called tan. What you may not realize is that you imported tan from the math module. If you try to call the tan function, you’ll get a TypeError because you overwrote the tan function with your own variable, tan. This is known as shadowing.<br>\n",
    "The only time from ... import * is acceptable is when the module is specifically designed to support it. <br>\n",
    "Overall, though, it is recommended that you avoid importing everything using the wildcard because it can make debugging issues like this very difficult. One of the few examples that you will find in Python where importing everything is done often is with the Tkinter library.<br>\n",
    "Tkinter is a built-in cross-platform GUI library for Python that you can use to create desktop applications. <br>\n",
    "The variables, functions, and classes that you import from Tkinter are fairly unusual, so the likelihood of\n",
    "you accidentally overwriting / shadowing one of them is low. However it is still not recommended\n",
    "even in this case."
   ]
  }
 ],
 "metadata": {
  "kernelspec": {
   "display_name": "Python 3 (ipykernel)",
   "language": "python",
   "name": "python3"
  },
  "language_info": {
   "codemirror_mode": {
    "name": "ipython",
    "version": 3
   },
   "file_extension": ".py",
   "mimetype": "text/x-python",
   "name": "python",
   "nbconvert_exporter": "python",
   "pygments_lexer": "ipython3",
   "version": "3.11.5"
  },
  "toc": {
   "base_numbering": 1,
   "nav_menu": {},
   "number_sections": true,
   "sideBar": true,
   "skip_h1_title": false,
   "title_cell": "Table of Contents",
   "title_sidebar": "Contents",
   "toc_cell": false,
   "toc_position": {},
   "toc_section_display": true,
   "toc_window_display": false
  },
  "varInspector": {
   "cols": {
    "lenName": 16,
    "lenType": 16,
    "lenVar": 40
   },
   "kernels_config": {
    "python": {
     "delete_cmd_postfix": "",
     "delete_cmd_prefix": "del ",
     "library": "var_list.py",
     "varRefreshCmd": "print(var_dic_list())"
    },
    "r": {
     "delete_cmd_postfix": ") ",
     "delete_cmd_prefix": "rm(",
     "library": "var_list.r",
     "varRefreshCmd": "cat(var_dic_list()) "
    }
   },
   "types_to_exclude": [
    "module",
    "function",
    "builtin_function_or_method",
    "instance",
    "_Feature"
   ],
   "window_display": false
  }
 },
 "nbformat": 4,
 "nbformat_minor": 5
}
