{
 "cells": [
  {
   "cell_type": "markdown",
   "id": "97963568",
   "metadata": {},
   "source": [
    "**FUNCTIONS**"
   ]
  },
  {
   "cell_type": "markdown",
   "id": "31eee065",
   "metadata": {},
   "source": [
    "Functions are reusable pieces of code.<br>\n",
    "Anytime you find yourself writing the same code twice, that code should probably go in a function. You have actually used some functions in previous chapters.\n",
    "For example, Python has many built-in functions, such as `dir()` and `sum()`.<br>\n",
    "You also imported the `math` module and used its square root function, `sqrt()`."
   ]
  },
  {
   "cell_type": "markdown",
   "id": "846cee9c",
   "metadata": {},
   "source": [
    "In this chapter, you'll learn about:\n",
    "- Creating a function\n",
    "- Calling a function\n",
    "- Passing arguments\n",
    "- Type hinting your arguments\n",
    "- Passing keyword arguments\n",
    "- Required and default arguments\n",
    "- `*args` and `**kwargs`\n",
    "- Positional-only arguments\n",
    "- Scope\n",
    "\n",
    "Let's get started!"
   ]
  },
  {
   "cell_type": "markdown",
   "id": "5c1c5f45",
   "metadata": {},
   "source": [
    "**Creating a Function**<br>\n",
    "A function starts with the keyword, `def` followed by the name of the function, two parentheses - () and then a colon - :.<br>\n",
    "Next you indent one or more lines of code under the function to form the function \"block\".<br>\n",
    "Here is an empty function:"
   ]
  },
  {
   "cell_type": "code",
   "execution_count": 1,
   "id": "66ed83d7",
   "metadata": {
    "ExecuteTime": {
     "end_time": "2024-02-06T11:59:56.369700Z",
     "start_time": "2024-02-06T11:59:56.364370Z"
    }
   },
   "outputs": [],
   "source": [
    "def my_function():\n",
    "    pass"
   ]
  },
  {
   "cell_type": "markdown",
   "id": "a89dcd21",
   "metadata": {},
   "source": [
    "When you create a function, it is usually recommended that the name of the function is all lowercase with words separated by underscores. This is called snake-case.<br>\n",
    "The pass is a keyword in Python that Python knows to ignore. You can also define an empty function\n",
    "like this:"
   ]
  },
  {
   "cell_type": "code",
   "execution_count": 2,
   "id": "fc782157",
   "metadata": {
    "ExecuteTime": {
     "end_time": "2024-02-06T11:59:56.566702Z",
     "start_time": "2024-02-06T11:59:56.372711Z"
    }
   },
   "outputs": [],
   "source": [
    "def my_function():\n",
    "    ..."
   ]
  },
  {
   "cell_type": "markdown",
   "id": "5ae4331e",
   "metadata": {},
   "source": [
    "**Calling a Function**"
   ]
  },
  {
   "cell_type": "code",
   "execution_count": 3,
   "id": "f1181612",
   "metadata": {
    "ExecuteTime": {
     "end_time": "2024-02-06T11:59:56.574466Z",
     "start_time": "2024-02-06T11:59:56.571030Z"
    }
   },
   "outputs": [],
   "source": [
    "def my_function():\n",
    "    print('My first Python function')"
   ]
  },
  {
   "cell_type": "markdown",
   "id": "565ac909",
   "metadata": {},
   "source": [
    "Now instead of an empty function or the keyword `pass`, you have a function that prints out a message.<br>\n",
    "To call a function, you need to write out its name followed by parentheses:"
   ]
  },
  {
   "cell_type": "code",
   "execution_count": 4,
   "id": "84b5671f",
   "metadata": {
    "ExecuteTime": {
     "end_time": "2024-02-06T11:59:56.600687Z",
     "start_time": "2024-02-06T11:59:56.577032Z"
    }
   },
   "outputs": [
    {
     "name": "stdout",
     "output_type": "stream",
     "text": [
      "My first Python function\n"
     ]
    }
   ],
   "source": [
    "my_function()"
   ]
  },
  {
   "cell_type": "markdown",
   "id": "77b67034",
   "metadata": {},
   "source": [
    "**Passing Arguments**"
   ]
  },
  {
   "cell_type": "markdown",
   "id": "b05697a9",
   "metadata": {},
   "source": [
    "Most functions let you pass arguments to them. The reason for this is that you will normally want to pass one or more positional arguments to a function so that the function can do something with them.<br>\n",
    "Let's create a function that takes an argument called name and then prints out a welcome message:"
   ]
  },
  {
   "cell_type": "code",
   "execution_count": 5,
   "id": "e82fd5e6",
   "metadata": {
    "ExecuteTime": {
     "end_time": "2024-02-06T11:59:56.651825Z",
     "start_time": "2024-02-06T11:59:56.603698Z"
    }
   },
   "outputs": [],
   "source": [
    "def greet(name):\n",
    "    print(f'Hello {name}')"
   ]
  },
  {
   "cell_type": "code",
   "execution_count": 6,
   "id": "30f1130b",
   "metadata": {
    "ExecuteTime": {
     "end_time": "2024-02-06T11:59:56.667119Z",
     "start_time": "2024-02-06T11:59:56.652833Z"
    }
   },
   "outputs": [
    {
     "name": "stdout",
     "output_type": "stream",
     "text": [
      "Hello Keylor\n"
     ]
    }
   ],
   "source": [
    "greet('Keylor')"
   ]
  },
  {
   "cell_type": "markdown",
   "id": "a814de0a",
   "metadata": {},
   "source": [
    "If you have used other programming languages, you might know that some of them require functions to return something. Python automatically returns `None` if you do not specify a return value.\n",
    "Let's try calling the function and assigning its result to a variable called return_value:"
   ]
  },
  {
   "cell_type": "code",
   "execution_count": 7,
   "id": "ef5cba8f",
   "metadata": {
    "ExecuteTime": {
     "end_time": "2024-02-06T11:59:56.679437Z",
     "start_time": "2024-02-06T11:59:56.669128Z"
    }
   },
   "outputs": [
    {
     "name": "stdout",
     "output_type": "stream",
     "text": [
      "Hello James\n",
      "None\n"
     ]
    }
   ],
   "source": [
    "def greet(name):\n",
    "    print(f'Hello {name}')\n",
    "    \n",
    "return_value = greet('James')\n",
    "print(return_value)"
   ]
  },
  {
   "cell_type": "markdown",
   "id": "67b2a8dc",
   "metadata": {},
   "source": [
    "**Type Hinting Your Arguments**"
   ]
  },
  {
   "cell_type": "markdown",
   "id": "0fab3abb",
   "metadata": {},
   "source": [
    "Some programming languages use static types so that when you compile your code, the compiler will warn you of type related errors. Python is a dynamically typed language, so that doesn't happen until run time.\n",
    "\n",
    "However, in Python 3.5, the typing module was added to Python to allow developers to add type hinting to their code. This allows you to specify the types of arguments and return values in your code, but does not enforce it. You can use external utilities, such as  [mypy](http://mypy-lang.org/) to check that your code base is following the type hints that you have set.\n",
    "\n",
    "Type hinting is not required in Python and it is not enforced by the language, but it is useful when working with teams of developers,  specially when the teams are made up of people who are unfamiliar with Python.\n",
    "\n",
    "Let's rewrite that last example so that it uses type hinting:"
   ]
  },
  {
   "cell_type": "code",
   "execution_count": 8,
   "id": "4614b24d",
   "metadata": {
    "ExecuteTime": {
     "end_time": "2024-02-06T11:59:56.711337Z",
     "start_time": "2024-02-06T11:59:56.681445Z"
    }
   },
   "outputs": [
    {
     "name": "stdout",
     "output_type": "stream",
     "text": [
      "Hello Rasmus\n"
     ]
    }
   ],
   "source": [
    "def greet(name: str) -> None:\n",
    "    print(f'Hello {name}')\n",
    "    \n",
    "greet('Rasmus')"
   ]
  },
  {
   "cell_type": "markdown",
   "id": "9c8e432d",
   "metadata": {},
   "source": [
    "This time when you put in the name argument, you end it with a colon (:) followed by the type that you expect. In this case, you expect a string type to be passed in. After that you will note the -> None: bit of code. The -> is special syntax to indicate what the return value is expected to be. For this code, the return value is None.\n",
    "\n",
    "If you want to return a value explicitly, then you can use the return keyword followed by what you wish to return.\n",
    "\n",
    "When you run the code, it executes in exactly the same manner as before.\n",
    "\n",
    "To demonstrate that type hinting is not enforced, you can tell Python to return an integer by using the return keyword:"
   ]
  },
  {
   "cell_type": "code",
   "execution_count": 9,
   "id": "4bda55fe",
   "metadata": {
    "ExecuteTime": {
     "end_time": "2024-02-06T11:59:56.731791Z",
     "start_time": "2024-02-06T11:59:56.715921Z"
    }
   },
   "outputs": [
    {
     "name": "stdout",
     "output_type": "stream",
     "text": [
      "Hello Mason\n"
     ]
    },
    {
     "data": {
      "text/plain": [
       "5"
      ]
     },
     "execution_count": 9,
     "metadata": {},
     "output_type": "execute_result"
    }
   ],
   "source": [
    "def greet(name: str) -> None:\n",
    "    print(f'Hello {name}')\n",
    "    return 5\n",
    "\n",
    "greet('Mason')"
   ]
  },
  {
   "cell_type": "markdown",
   "id": "651cc0cf",
   "metadata": {},
   "source": [
    "When you run this code, you can see the type hint says that the return value should be None, but you coded it such that it returns the integer 5. Python does not throw an exception.\n",
    "\n",
    "You can use the `mypy` tool against this code to verify that it is following the type hinting. If you do so, you will find that it does show an issue.\n",
    "\n",
    "The main takeaway here is that Python supports type hinting. Python does not enforce types though.<br>\n",
    "However, some Python editors can use type hinting internally to warn you about issues related to types, or you can use mypy manually to find issues.\n",
    "\n",
    "Now let's learn what else you can pass to a function."
   ]
  },
  {
   "cell_type": "markdown",
   "id": "626a477d",
   "metadata": {},
   "source": [
    "**Passing Keyword Arguemnts**"
   ]
  },
  {
   "cell_type": "markdown",
   "id": "f948850d",
   "metadata": {},
   "source": [
    "Python also allows you to pass in keyword arguments. A keyword argument is specified by passing in a named argument, for example you might pass in age = 10.\n",
    "\n",
    "Let's create a new example that shows a regular argument and a single keyword argument:"
   ]
  },
  {
   "cell_type": "code",
   "execution_count": 10,
   "id": "070fcf11",
   "metadata": {
    "ExecuteTime": {
     "end_time": "2024-02-06T11:59:56.750682Z",
     "start_time": "2024-02-06T11:59:56.734805Z"
    }
   },
   "outputs": [
    {
     "name": "stdout",
     "output_type": "stream",
     "text": [
      "Hello Michael. You are 15 years.\n"
     ]
    }
   ],
   "source": [
    "def greet(name: str, age: int = 15) -> None:\n",
    "    print(f'Hello {name}. You are {age} years.')\n",
    "    \n",
    "greet('Michael')"
   ]
  },
  {
   "cell_type": "markdown",
   "id": "8e35593a",
   "metadata": {},
   "source": [
    "This example has a regular argument, name and a keyword argument, age, which is defaulted to 15.<br>\n",
    "When you call this code without specifying the age, you see that it defaults to 15.\n",
    "\n",
    "To make things extra clear, here's a different way you can call it:"
   ]
  },
  {
   "cell_type": "code",
   "execution_count": 11,
   "id": "43e32d11",
   "metadata": {
    "ExecuteTime": {
     "end_time": "2024-02-06T11:59:56.766254Z",
     "start_time": "2024-02-06T11:59:56.753718Z"
    }
   },
   "outputs": [
    {
     "name": "stdout",
     "output_type": "stream",
     "text": [
      "Hello Michael. You are 24 years.\n"
     ]
    }
   ],
   "source": [
    "def greet(name: str, age: int) -> None:\n",
    "    print(f'Hello {name}. You are {age} years.')\n",
    "    \n",
    "greet(age = 24, name = 'Michael')"
   ]
  },
  {
   "cell_type": "markdown",
   "id": "7d24dd66",
   "metadata": {},
   "source": [
    "In this example, you specified both age and name parameters. When you do that, you can specify them in any order.<br>\n",
    "For example, here you specified them in reverse order and Python still understood what you meant because you specified BOTH values.\n",
    "\n",
    "Let’s see what happens when you don’t use keyword arguments:"
   ]
  },
  {
   "cell_type": "code",
   "execution_count": 12,
   "id": "c373bfd5",
   "metadata": {
    "ExecuteTime": {
     "end_time": "2024-02-06T11:59:56.784895Z",
     "start_time": "2024-02-06T11:59:56.769318Z"
    }
   },
   "outputs": [
    {
     "name": "stdout",
     "output_type": "stream",
     "text": [
      "Hello 24. You are Michael years.\n"
     ]
    }
   ],
   "source": [
    "def greet(name: str, age: int) -> None:\n",
    "    print(f'Hello {name}. You are {age} years.')\n",
    "    \n",
    "greet(24, 'Michael')"
   ]
  },
  {
   "cell_type": "markdown",
   "id": "d5d8ce3f",
   "metadata": {},
   "source": [
    "When you pass in values without specifying where they should go, they will be passed in order.<br>\n",
    "So name becomes 12 and age becomes 'Mike'."
   ]
  },
  {
   "cell_type": "markdown",
   "id": "9b2428ed",
   "metadata": {},
   "source": [
    "**Required and Default Arguments**"
   ]
  },
  {
   "cell_type": "markdown",
   "id": "68a91150",
   "metadata": {},
   "source": [
    "**Default arguments** are a handy way to make your function callable with less arguments, whereas **required arguments** are ones that you have to pass into the function for the function to execute.\n",
    "\n",
    "Let's look at an example that has one required argument and one default argument:"
   ]
  },
  {
   "cell_type": "code",
   "execution_count": 13,
   "id": "8be95458",
   "metadata": {
    "ExecuteTime": {
     "end_time": "2024-02-06T11:59:56.797261Z",
     "start_time": "2024-02-06T11:59:56.788436Z"
    }
   },
   "outputs": [
    {
     "data": {
      "text/plain": [
       "25"
      ]
     },
     "execution_count": 13,
     "metadata": {},
     "output_type": "execute_result"
    }
   ],
   "source": [
    "def multiply_by_5(x: int, y: int = 5) -> int:\n",
    "    return x * y\n",
    "\n",
    "multiply_by_5(5)"
   ]
  },
  {
   "cell_type": "markdown",
   "id": "71bd7cf9",
   "metadata": {},
   "source": [
    "**What are** `*args` **and** `**kwargs?`"
   ]
  },
  {
   "cell_type": "markdown",
   "id": "7d2047ca",
   "metadata": {},
   "source": [
    "Most of the time, you will want your functions to only accept a small number of arguments, keyword arguments or both. You normally don’t want too many arguments as it becomes more complicated to change your function later.\n",
    "\n",
    "However Python does support the concept of any number of arguments or keyword arguments.\n",
    "\n",
    "You can use this special syntax in your functions:\n",
    "- `*args` - An arbitrary number of arguments\n",
    "- `**kwargs` - An arbitrary number of keyword arguments\n",
    "\n",
    "The bit that you need to pay attention to is the `*` and the `**`. The name, `arg` or `kwarg` can be anything, but it is a convention to name them `args and kwargs`. In other words, most Python developers call them `*args` or `**kwargs`. While you aren’t forced to do so, you probably should so that the code is easy to recognize and understand.\n",
    "\n",
    "Let’s look at an example:"
   ]
  },
  {
   "cell_type": "code",
   "execution_count": 20,
   "id": "0497ef17",
   "metadata": {
    "ExecuteTime": {
     "end_time": "2024-02-06T12:10:26.367269Z",
     "start_time": "2024-02-06T12:10:26.358154Z"
    }
   },
   "outputs": [
    {
     "name": "stdout",
     "output_type": "stream",
     "text": [
      "(1, 2, 3, 4, 5)\n",
      "(1, 'Ella', '$100')\n",
      "(0, 'zero', 0)\n"
     ]
    }
   ],
   "source": [
    "def any_args(*args):\n",
    "    print(args)\n",
    "\n",
    "any_args(1, 2, 3, 4, 5)\n",
    "any_args(1, 'Ella', '$100')\n",
    "any_args(0, 'zero', 00)"
   ]
  },
  {
   "cell_type": "markdown",
   "id": "21bafe1e",
   "metadata": {},
   "source": [
    "Here you created any_args() which accepts any number of arguments including zero and prints them out.\n",
    "\n",
    "You can actually create a function that has a required argument plus any number of additional arguments:"
   ]
  },
  {
   "cell_type": "code",
   "execution_count": 21,
   "id": "0135f9d0",
   "metadata": {
    "ExecuteTime": {
     "end_time": "2024-02-06T12:11:40.682742Z",
     "start_time": "2024-02-06T12:11:40.677670Z"
    }
   },
   "outputs": [
    {
     "name": "stdout",
     "output_type": "stream",
     "text": [
      "required = 'jkabsd'\n",
      "(12, 13.231)\n"
     ]
    }
   ],
   "source": [
    "def one_required_arg(required, *args):\n",
    "    print(f'{required = }')\n",
    "    print(args)\n",
    "    \n",
    "one_required_arg('jkabsd', 12, 13.231)"
   ]
  },
  {
   "cell_type": "markdown",
   "id": "1e0806b2",
   "metadata": {},
   "source": [
    "So in this example, your function's first argument is required. If you were to call one_required_arg() without any arguments, you would get an error.\n",
    "\n",
    "Now let’s try adding keyword arguments:"
   ]
  },
  {
   "cell_type": "code",
   "execution_count": 22,
   "id": "c80c70b2",
   "metadata": {
    "ExecuteTime": {
     "end_time": "2024-02-06T12:13:35.298365Z",
     "start_time": "2024-02-06T12:13:35.259903Z"
    }
   },
   "outputs": [
    {
     "ename": "TypeError",
     "evalue": "any_keyword_args() takes 0 positional arguments but 3 were given",
     "output_type": "error",
     "traceback": [
      "\u001b[1;31m---------------------------------------------------------------------------\u001b[0m",
      "\u001b[1;31mTypeError\u001b[0m                                 Traceback (most recent call last)",
      "Cell \u001b[1;32mIn[22], line 4\u001b[0m\n\u001b[0;32m      1\u001b[0m \u001b[38;5;28;01mdef\u001b[39;00m \u001b[38;5;21many_keyword_args\u001b[39m(\u001b[38;5;241m*\u001b[39m\u001b[38;5;241m*\u001b[39mkwargs):\n\u001b[0;32m      2\u001b[0m     \u001b[38;5;28mprint\u001b[39m(kwargs)\n\u001b[1;32m----> 4\u001b[0m any_keyword_args(\u001b[38;5;241m1\u001b[39m, \u001b[38;5;241m2\u001b[39m, \u001b[38;5;241m3\u001b[39m)\n",
      "\u001b[1;31mTypeError\u001b[0m: any_keyword_args() takes 0 positional arguments but 3 were given"
     ]
    }
   ],
   "source": [
    "def any_keyword_args(**kwargs):\n",
    "    print(kwargs)\n",
    "\n",
    "any_keyword_args(1, 2, 3)"
   ]
  },
  {
   "cell_type": "markdown",
   "id": "ea83e119",
   "metadata": {},
   "source": [
    "Oops! You created the function to accept keyword arguments but only passed in normal arguments. This caused a `TypeError` to be thrown.\n",
    "\n",
    "Let’s try passing in the same values as keyword arguments:"
   ]
  },
  {
   "cell_type": "code",
   "execution_count": 23,
   "id": "adeefb11",
   "metadata": {
    "ExecuteTime": {
     "end_time": "2024-02-06T12:14:46.816797Z",
     "start_time": "2024-02-06T12:14:46.811262Z"
    }
   },
   "outputs": [
    {
     "name": "stdout",
     "output_type": "stream",
     "text": [
      "{'one': 1, 'two': 2, 'three': 3}\n"
     ]
    }
   ],
   "source": [
    "def any_keyword_args(**kwargs):\n",
    "    print(kwargs)\n",
    "\n",
    "any_keyword_args(one = 1, two = 2, three = 3)"
   ]
  },
  {
   "cell_type": "markdown",
   "id": "004f26dd",
   "metadata": {},
   "source": [
    "This time it worked the way you would expect it to.\n",
    "\n",
    "Now let's inspect our `*args` and `**kwargs` and see what they are:"
   ]
  },
  {
   "cell_type": "code",
   "execution_count": 24,
   "id": "1fcc3f8a",
   "metadata": {
    "ExecuteTime": {
     "end_time": "2024-02-06T12:17:12.242853Z",
     "start_time": "2024-02-06T12:17:12.234863Z"
    }
   },
   "outputs": [
    {
     "name": "stdout",
     "output_type": "stream",
     "text": [
      "args are of type <class 'tuple'>\n",
      "kwargs are of type <class 'dict'>\n"
     ]
    }
   ],
   "source": [
    "def arg_inspector(*args, **kwargs):\n",
    "    print(f'args are of type {type(args)}')\n",
    "    print(f'kwargs are of type {type(kwargs)}')\n",
    "    \n",
    "arg_inspector(1, 2, 3, x = 'test', y = 5)"
   ]
  },
  {
   "cell_type": "markdown",
   "id": "1a99bbed",
   "metadata": {},
   "source": [
    "What this means is that args is a tuple and kwargs are a dict.\n",
    "\n",
    "Let’s see if we can pass our function a tuple and dict for the `*args` and `**kwargs`:"
   ]
  },
  {
   "cell_type": "code",
   "execution_count": 26,
   "id": "8c42b492",
   "metadata": {
    "ExecuteTime": {
     "end_time": "2024-02-06T12:23:00.226242Z",
     "start_time": "2024-02-06T12:23:00.218566Z"
    }
   },
   "outputs": [
    {
     "name": "stdout",
     "output_type": "stream",
     "text": [
      "args = ((1, 2, 3), {'one': 1, 'two': 2, 'three': 3})\n",
      "kwargs = {}\n"
     ]
    }
   ],
   "source": [
    "my_tuple = (1, 2, 3)\n",
    "my_dict = {'one' : 1,\n",
    "           'two' : 2,\n",
    "           'three' : 3}\n",
    "\n",
    "def output(*args, **kwargs):\n",
    "    print(f'{args = }')\n",
    "    print(f'{kwargs = }')\n",
    "    \n",
    "output(my_tuple, my_dict)"
   ]
  },
  {
   "cell_type": "markdown",
   "id": "e62cbbc5",
   "metadata": {},
   "source": [
    "Well that didn't work quite right. Both the tuple and the dict ended up in the `*args`. Not only that, but the tuple stayed a tuple instead of being turned into three arguments.\n",
    "\n",
    "You can make this work if you use a special syntax though:"
   ]
  },
  {
   "cell_type": "code",
   "execution_count": 30,
   "id": "972f5e65",
   "metadata": {
    "ExecuteTime": {
     "end_time": "2024-02-06T12:25:45.386689Z",
     "start_time": "2024-02-06T12:25:45.381446Z"
    }
   },
   "outputs": [
    {
     "name": "stdout",
     "output_type": "stream",
     "text": [
      "args = (1, 2, 3)\n",
      "kwargs ={'one': 1, 'two': 2, 'three': 3}\n"
     ]
    }
   ],
   "source": [
    "def output(*args, **kwargs):\n",
    "    print(f'{args = }')\n",
    "    print(f'{kwargs =}')\n",
    "\n",
    "output(*my_tuple, **my_dict)"
   ]
  },
  {
   "cell_type": "markdown",
   "id": "1bc2e49b",
   "metadata": {},
   "source": [
    "In this example, you call `output()` with `*my_tuple`. Python will extract the individual values in the tuple and pass each of them in as arguments. Next you passed in `**my_dict`, which tells Python to\n",
    "pass in each key/value pair as keyword arguments.\n",
    "\n",
    "The final example passes in both the tuple and the dict.\n",
    "\n",
    "Pretty neat!\n"
   ]
  },
  {
   "cell_type": "markdown",
   "id": "1d3b40a2",
   "metadata": {},
   "source": [
    "**Positional-only Parameters**\n",
    "\n",
    "Python 3.8 added a new feature to functions known as positional-only parameters. These use a special syntax to tell Python that some parameters have to be positional and some have to be keyword."
   ]
  },
  {
   "cell_type": "code",
   "execution_count": 31,
   "id": "c6c19fc2",
   "metadata": {
    "ExecuteTime": {
     "end_time": "2024-02-06T12:36:03.582625Z",
     "start_time": "2024-02-06T12:36:03.577770Z"
    }
   },
   "outputs": [],
   "source": [
    "def positional(name, age, /, a, b, *, key):\n",
    "    print(name, age, a, b, key)"
   ]
  },
  {
   "cell_type": "markdown",
   "id": "806dadc4",
   "metadata": {},
   "source": [
    "The first two parameters, name and age are positional-only. They can't be passed in as keyword arguments, which is why you see the `TypeError` above. The arguments, a and b can be positional or keyword. Finally, key, is keyword-only.\n",
    "\n",
    "The forward slash, /, indicates to Python that all arguments before the forward slash as positional-only arguments. Anything following the forward slash are positional or keyword arguments up to the *. The asterisk indicates that everything following it as keyword-only arguments.\n",
    "\n",
    "Here is a valid way to call the function:"
   ]
  },
  {
   "cell_type": "code",
   "execution_count": 33,
   "id": "fdffb6bc",
   "metadata": {
    "ExecuteTime": {
     "end_time": "2024-02-06T12:37:55.993339Z",
     "start_time": "2024-02-06T12:37:55.988332Z"
    }
   },
   "outputs": [
    {
     "name": "stdout",
     "output_type": "stream",
     "text": [
      "Vanya 17 2 3 test\n"
     ]
    }
   ],
   "source": [
    "positional('Vanya', 17, 2, b = 3, key = 'test')"
   ]
  },
  {
   "cell_type": "markdown",
   "id": "b565325a",
   "metadata": {},
   "source": [
    "The main idea is that positional-only parameters allow the parameter name to change without breaking client code.\n",
    "\n",
    "You may also use the same name for positional-only arguments and `**kwargs`:"
   ]
  },
  {
   "cell_type": "code",
   "execution_count": 34,
   "id": "33461e81",
   "metadata": {
    "ExecuteTime": {
     "end_time": "2024-02-06T12:42:28.441051Z",
     "start_time": "2024-02-06T12:42:28.434357Z"
    }
   },
   "outputs": [
    {
     "name": "stdout",
     "output_type": "stream",
     "text": [
      "name = 'Susan'\n",
      "age = 29\n",
      "kwargs = {'surname': 'Harold'}\n"
     ]
    }
   ],
   "source": [
    "def positional(name, age, /, **kwargs):\n",
    "    print(f'{name = }')\n",
    "    print(f'{age = }')\n",
    "    print(f'{kwargs = }')\n",
    "\n",
    "positional('Susan', 29, surname = 'Harold')"
   ]
  },
  {
   "cell_type": "markdown",
   "id": "6e70c20a",
   "metadata": {},
   "source": [
    "You can read about the full implementation and reasoning behind the syntax [here](https://www.python.org/dev/peps/pep-0570)"
   ]
  },
  {
   "cell_type": "markdown",
   "id": "a41a7e8e",
   "metadata": {},
   "source": [
    "**Scope**"
   ]
  },
  {
   "cell_type": "markdown",
   "id": "880b329c",
   "metadata": {},
   "source": [
    "All programming languages have the idea of scope. Scope tells the programming language what variables or functions are available to them.\n",
    "Let's look at an example:"
   ]
  },
  {
   "cell_type": "code",
   "execution_count": 35,
   "id": "ca84d453",
   "metadata": {
    "ExecuteTime": {
     "end_time": "2024-02-08T14:24:43.105872Z",
     "start_time": "2024-02-08T14:24:43.098142Z"
    }
   },
   "outputs": [
    {
     "name": "stdout",
     "output_type": "stream",
     "text": [
      "Welcome James\n"
     ]
    }
   ],
   "source": [
    "name  = 'James'\n",
    "\n",
    "def welcome(name):\n",
    "    print(f'Welcome {name}')\n",
    "    \n",
    "welcome(name)"
   ]
  },
  {
   "cell_type": "code",
   "execution_count": 36,
   "id": "bd721ec3",
   "metadata": {
    "ExecuteTime": {
     "end_time": "2024-02-08T14:25:04.153091Z",
     "start_time": "2024-02-08T14:25:04.135021Z"
    }
   },
   "outputs": [
    {
     "ename": "TypeError",
     "evalue": "welcome() missing 1 required positional argument: 'name'",
     "output_type": "error",
     "traceback": [
      "\u001b[1;31m---------------------------------------------------------------------------\u001b[0m",
      "\u001b[1;31mTypeError\u001b[0m                                 Traceback (most recent call last)",
      "Cell \u001b[1;32mIn[36], line 1\u001b[0m\n\u001b[1;32m----> 1\u001b[0m welcome()\n",
      "\u001b[1;31mTypeError\u001b[0m: welcome() missing 1 required positional argument: 'name'"
     ]
    }
   ],
   "source": [
    "welcome()"
   ]
  },
  {
   "cell_type": "code",
   "execution_count": 37,
   "id": "526b14ba",
   "metadata": {
    "ExecuteTime": {
     "end_time": "2024-02-08T14:25:15.978371Z",
     "start_time": "2024-02-08T14:25:15.972392Z"
    }
   },
   "outputs": [
    {
     "name": "stdout",
     "output_type": "stream",
     "text": [
      "Welcome Kelsey\n"
     ]
    }
   ],
   "source": [
    "welcome('Kelsey')"
   ]
  },
  {
   "cell_type": "markdown",
   "id": "e8198157",
   "metadata": {},
   "source": [
    "The variable name is defined outside of the welcome() function. If you try to call welcome() without passing it an argument, it throws an error even though the argument matches the variable name. If you pass in a value to welcome(), that variable is only changed inside of the welcome() function. \n",
    "\n",
    "The name that you defined outside of the function remains unchanged.<br>\n",
    "Let's look at an example where you define variables inside of functions:"
   ]
  },
  {
   "cell_type": "code",
   "execution_count": 41,
   "id": "1822bde9",
   "metadata": {
    "ExecuteTime": {
     "end_time": "2024-02-08T14:28:46.520034Z",
     "start_time": "2024-02-08T14:28:46.474768Z"
    }
   },
   "outputs": [
    {
     "name": "stdout",
     "output_type": "stream",
     "text": [
      "5\n"
     ]
    },
    {
     "ename": "NameError",
     "evalue": "name 'b' is not defined",
     "output_type": "error",
     "traceback": [
      "\u001b[1;31m---------------------------------------------------------------------------\u001b[0m",
      "\u001b[1;31mNameError\u001b[0m                                 Traceback (most recent call last)",
      "Cell \u001b[1;32mIn[41], line 11\u001b[0m\n\u001b[0;32m      8\u001b[0m     \u001b[38;5;28;01mreturn\u001b[39;00m a \u001b[38;5;241m-\u001b[39m b\n\u001b[0;32m     10\u001b[0m \u001b[38;5;28mprint\u001b[39m(add())\n\u001b[1;32m---> 11\u001b[0m \u001b[38;5;28mprint\u001b[39m(subtract())\n",
      "Cell \u001b[1;32mIn[41], line 8\u001b[0m, in \u001b[0;36msubtract\u001b[1;34m()\u001b[0m\n\u001b[0;32m      6\u001b[0m \u001b[38;5;28;01mdef\u001b[39;00m \u001b[38;5;21msubtract\u001b[39m():\n\u001b[0;32m      7\u001b[0m     a \u001b[38;5;241m=\u001b[39m \u001b[38;5;241m4\u001b[39m\n\u001b[1;32m----> 8\u001b[0m     \u001b[38;5;28;01mreturn\u001b[39;00m a \u001b[38;5;241m-\u001b[39m b\n",
      "\u001b[1;31mNameError\u001b[0m: name 'b' is not defined"
     ]
    }
   ],
   "source": [
    "def add():\n",
    "    a = 2\n",
    "    b = 3\n",
    "    return a + b\n",
    "\n",
    "def subtract():\n",
    "    a = 4\n",
    "    return a - b\n",
    "\n",
    "print(add())\n",
    "print(subtract())"
   ]
  },
  {
   "cell_type": "markdown",
   "id": "8f19c075",
   "metadata": {},
   "source": [
    "In add(), you define a and b and add them together. The variables, a and b have local scope. That means they can only be used within the add() function.\n",
    "\n",
    "In subtract(), you only define a but try to use b. Python doesn’t check to see if b exists in the subtract() function until runtime.\n",
    "\n",
    "What this means is that Python does not warn you that you are missing something here until you actually call the subtract() function. That is why you don’t see any errors until there at the end.\n",
    "\n",
    "Python has a special global keyword that you can use to allow variables to be used across functions.\n",
    "\n",
    "Let’s update the code and see how it works:"
   ]
  },
  {
   "cell_type": "code",
   "execution_count": 43,
   "id": "87bc433a",
   "metadata": {
    "ExecuteTime": {
     "end_time": "2024-02-08T14:30:45.857996Z",
     "start_time": "2024-02-08T14:30:45.850414Z"
    }
   },
   "outputs": [
    {
     "name": "stdout",
     "output_type": "stream",
     "text": [
      "6\n",
      "-1\n"
     ]
    }
   ],
   "source": [
    "def add():\n",
    "    global b\n",
    "    a = 2\n",
    "    b = 4\n",
    "    return a + b\n",
    "\n",
    "def subtract():\n",
    "    a = 3\n",
    "    return a - b\n",
    "\n",
    "print(add())\n",
    "print(subtract())"
   ]
  },
  {
   "cell_type": "markdown",
   "id": "2b920734",
   "metadata": {},
   "source": [
    "This time you define b as global at the beginning of the add() function. This allows you to use b in subtract() even though you haven’t defined it there.\n",
    "\n",
    "Globals are usually not recommended. It is easy to overlook them in large code files, which makes tracking down subtle errors difficult – for example, if you had called subtract() before you called add() you would still get the error, because even though b is global, it doesn’t exist until add() has been run.\n",
    "\n",
    "In most cases where you would want to use a global, you can use a class instead. You will learn about classes in the next chapter.\n",
    "\n",
    "There is nothing wrong with using globals as long as you understand what you are doing. They can\n",
    "be helpful at times. But you should use them with care."
   ]
  },
  {
   "cell_type": "code",
   "execution_count": null,
   "id": "7e068f75",
   "metadata": {},
   "outputs": [],
   "source": []
  }
 ],
 "metadata": {
  "kernelspec": {
   "display_name": "Python 3 (ipykernel)",
   "language": "python",
   "name": "python3"
  },
  "language_info": {
   "codemirror_mode": {
    "name": "ipython",
    "version": 3
   },
   "file_extension": ".py",
   "mimetype": "text/x-python",
   "name": "python",
   "nbconvert_exporter": "python",
   "pygments_lexer": "ipython3",
   "version": "3.11.5"
  },
  "toc": {
   "base_numbering": 1,
   "nav_menu": {},
   "number_sections": true,
   "sideBar": true,
   "skip_h1_title": false,
   "title_cell": "Table of Contents",
   "title_sidebar": "Contents",
   "toc_cell": false,
   "toc_position": {},
   "toc_section_display": true,
   "toc_window_display": false
  },
  "varInspector": {
   "cols": {
    "lenName": 16,
    "lenType": 16,
    "lenVar": 40
   },
   "kernels_config": {
    "python": {
     "delete_cmd_postfix": "",
     "delete_cmd_prefix": "del ",
     "library": "var_list.py",
     "varRefreshCmd": "print(var_dic_list())"
    },
    "r": {
     "delete_cmd_postfix": ") ",
     "delete_cmd_prefix": "rm(",
     "library": "var_list.r",
     "varRefreshCmd": "cat(var_dic_list()) "
    }
   },
   "types_to_exclude": [
    "module",
    "function",
    "builtin_function_or_method",
    "instance",
    "_Feature"
   ],
   "window_display": false
  }
 },
 "nbformat": 4,
 "nbformat_minor": 5
}
