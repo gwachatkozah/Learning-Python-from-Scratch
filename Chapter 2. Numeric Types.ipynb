{
 "cells": [
  {
   "cell_type": "markdown",
   "id": "4e1d651d",
   "metadata": {},
   "source": [
    "Built in numeric types in python are:\n",
    "- int - Integer whole numbers\n",
    "- float - Floating(decimal) point\n",
    "- complex -"
   ]
  },
  {
   "cell_type": "code",
   "execution_count": 3,
   "id": "788118cb",
   "metadata": {
    "ExecuteTime": {
     "end_time": "2023-12-31T11:19:18.893203Z",
     "start_time": "2023-12-31T11:19:18.888682Z"
    }
   },
   "outputs": [],
   "source": [
    "my_integer = 3\n",
    "my_integer1 = int(3)"
   ]
  },
  {
   "cell_type": "code",
   "execution_count": 4,
   "id": "07f65619",
   "metadata": {
    "ExecuteTime": {
     "end_time": "2023-12-31T11:19:19.475911Z",
     "start_time": "2023-12-31T11:19:19.469891Z"
    }
   },
   "outputs": [],
   "source": [
    "my_float = 2.21\n",
    "my_float1 = float(2.21)"
   ]
  },
  {
   "cell_type": "code",
   "execution_count": 5,
   "id": "e3ed927d",
   "metadata": {
    "ExecuteTime": {
     "end_time": "2023-12-31T11:19:35.401107Z",
     "start_time": "2023-12-31T11:19:35.392680Z"
    }
   },
   "outputs": [
    {
     "data": {
      "text/plain": [
       "True"
      ]
     },
     "execution_count": 5,
     "metadata": {},
     "output_type": "execute_result"
    }
   ],
   "source": [
    "my_integer == my_integer1"
   ]
  },
  {
   "cell_type": "code",
   "execution_count": 6,
   "id": "0bb6057f",
   "metadata": {
    "ExecuteTime": {
     "end_time": "2023-12-31T11:19:42.617265Z",
     "start_time": "2023-12-31T11:19:42.610750Z"
    }
   },
   "outputs": [
    {
     "data": {
      "text/plain": [
       "True"
      ]
     },
     "execution_count": 6,
     "metadata": {},
     "output_type": "execute_result"
    }
   ],
   "source": [
    "my_float == my_float1"
   ]
  },
  {
   "cell_type": "code",
   "execution_count": 7,
   "id": "8b2cbe22",
   "metadata": {
    "ExecuteTime": {
     "end_time": "2023-12-31T11:20:24.396957Z",
     "start_time": "2023-12-31T11:20:24.386900Z"
    }
   },
   "outputs": [
    {
     "data": {
      "text/plain": [
       "complex"
      ]
     },
     "execution_count": 7,
     "metadata": {},
     "output_type": "execute_result"
    }
   ],
   "source": [
    "comp = 1 + 2j\n",
    "type(comp)"
   ]
  },
  {
   "cell_type": "code",
   "execution_count": 8,
   "id": "77f1ba0b",
   "metadata": {
    "ExecuteTime": {
     "end_time": "2023-12-31T11:20:31.027452Z",
     "start_time": "2023-12-31T11:20:31.020392Z"
    }
   },
   "outputs": [
    {
     "data": {
      "text/plain": [
       "1.0"
      ]
     },
     "execution_count": 8,
     "metadata": {},
     "output_type": "execute_result"
    }
   ],
   "source": [
    "comp.real"
   ]
  },
  {
   "cell_type": "code",
   "execution_count": 9,
   "id": "464b0929",
   "metadata": {
    "ExecuteTime": {
     "end_time": "2023-12-31T11:20:36.866333Z",
     "start_time": "2023-12-31T11:20:36.859339Z"
    }
   },
   "outputs": [
    {
     "data": {
      "text/plain": [
       "2.0"
      ]
     },
     "execution_count": 9,
     "metadata": {},
     "output_type": "execute_result"
    }
   ],
   "source": [
    "comp.imag"
   ]
  },
  {
   "cell_type": "code",
   "execution_count": 12,
   "id": "8fb47d2f",
   "metadata": {
    "ExecuteTime": {
     "end_time": "2023-12-31T11:21:27.175221Z",
     "start_time": "2023-12-31T11:21:27.168215Z"
    }
   },
   "outputs": [
    {
     "data": {
      "text/plain": [
       "(1+2j)"
      ]
     },
     "execution_count": 12,
     "metadata": {},
     "output_type": "execute_result"
    }
   ],
   "source": [
    "complex(1, 2)"
   ]
  },
  {
   "cell_type": "markdown",
   "id": "2f8db18a",
   "metadata": {},
   "source": [
    "**Numeric Operations**"
   ]
  },
  {
   "cell_type": "markdown",
   "id": "1a2ce376",
   "metadata": {},
   "source": [
    "- sum(+)\n",
    "- difference(-)\n",
    "- product(*)\n",
    "- quotient(/)\n",
    "- floored quotient(//)\n",
    "- remainder of quotient(%)\n",
    "- absolute value(abs())\n",
    "- integer casting(int())\n",
    "- float casting(float())\n",
    "- complex casting(complex(re, im))"
   ]
  },
  {
   "cell_type": "markdown",
   "id": "c6161770",
   "metadata": {},
   "source": [
    "**Augmented Assignment Operators**"
   ]
  },
  {
   "cell_type": "code",
   "execution_count": 13,
   "id": "5a4bf6d6",
   "metadata": {
    "ExecuteTime": {
     "end_time": "2024-01-01T12:10:01.580509Z",
     "start_time": "2024-01-01T12:10:01.486647Z"
    }
   },
   "outputs": [
    {
     "data": {
      "text/plain": [
       "7"
      ]
     },
     "execution_count": 13,
     "metadata": {},
     "output_type": "execute_result"
    }
   ],
   "source": [
    "a = 2\n",
    "a += 5\n",
    "a"
   ]
  },
  {
   "cell_type": "code",
   "execution_count": 15,
   "id": "f2d56219",
   "metadata": {
    "ExecuteTime": {
     "end_time": "2024-01-01T12:18:11.377158Z",
     "start_time": "2024-01-01T12:18:11.370136Z"
    }
   },
   "outputs": [
    {
     "data": {
      "text/plain": [
       "10"
      ]
     },
     "execution_count": 15,
     "metadata": {},
     "output_type": "execute_result"
    }
   ],
   "source": [
    "a = 2\n",
    "a *= 5\n",
    "a"
   ]
  },
  {
   "cell_type": "code",
   "execution_count": 16,
   "id": "52871d8d",
   "metadata": {
    "ExecuteTime": {
     "end_time": "2024-01-01T12:54:25.293525Z",
     "start_time": "2024-01-01T12:54:25.283305Z"
    }
   },
   "outputs": [
    {
     "data": {
      "text/plain": [
       "-3"
      ]
     },
     "execution_count": 16,
     "metadata": {},
     "output_type": "execute_result"
    }
   ],
   "source": [
    "a = 2\n",
    "a -= 5\n",
    "a"
   ]
  },
  {
   "cell_type": "code",
   "execution_count": 20,
   "id": "9db257e0",
   "metadata": {
    "ExecuteTime": {
     "end_time": "2024-01-01T12:55:09.558953Z",
     "start_time": "2024-01-01T12:55:09.551178Z"
    }
   },
   "outputs": [
    {
     "data": {
      "text/plain": [
       "0.5"
      ]
     },
     "execution_count": 20,
     "metadata": {},
     "output_type": "execute_result"
    }
   ],
   "source": [
    "a = 2\n",
    "a /= 4\n",
    "a"
   ]
  },
  {
   "cell_type": "code",
   "execution_count": 21,
   "id": "aeec2a7b",
   "metadata": {
    "ExecuteTime": {
     "end_time": "2024-01-01T12:55:28.116675Z",
     "start_time": "2024-01-01T12:55:28.108155Z"
    }
   },
   "outputs": [
    {
     "data": {
      "text/plain": [
       "16"
      ]
     },
     "execution_count": 21,
     "metadata": {},
     "output_type": "execute_result"
    }
   ],
   "source": [
    "a = 2\n",
    "a **= 4\n",
    "a"
   ]
  },
  {
   "cell_type": "code",
   "execution_count": 23,
   "id": "27002dc1",
   "metadata": {
    "ExecuteTime": {
     "end_time": "2024-01-01T12:55:45.970136Z",
     "start_time": "2024-01-01T12:55:45.963852Z"
    }
   },
   "outputs": [
    {
     "data": {
      "text/plain": [
       "64"
      ]
     },
     "execution_count": 23,
     "metadata": {},
     "output_type": "execute_result"
    }
   ],
   "source": [
    "a = 2\n",
    "a <<= 5\n",
    "a"
   ]
  },
  {
   "cell_type": "code",
   "execution_count": 24,
   "id": "2234f8b6",
   "metadata": {
    "ExecuteTime": {
     "end_time": "2024-01-01T12:57:40.157195Z",
     "start_time": "2024-01-01T12:57:40.148780Z"
    }
   },
   "outputs": [
    {
     "data": {
      "text/plain": [
       "0"
      ]
     },
     "execution_count": 24,
     "metadata": {},
     "output_type": "execute_result"
    }
   ],
   "source": [
    "a = 2\n",
    "a >>= 5\n",
    "a"
   ]
  },
  {
   "cell_type": "code",
   "execution_count": 26,
   "id": "8d03bf37",
   "metadata": {
    "ExecuteTime": {
     "end_time": "2024-01-01T12:58:12.001399Z",
     "start_time": "2024-01-01T12:58:11.994073Z"
    }
   },
   "outputs": [
    {
     "data": {
      "text/plain": [
       "0"
      ]
     },
     "execution_count": 26,
     "metadata": {},
     "output_type": "execute_result"
    }
   ],
   "source": [
    "a = 2\n",
    "a &= 5\n",
    "a"
   ]
  },
  {
   "cell_type": "code",
   "execution_count": null,
   "id": "1e30862e",
   "metadata": {},
   "outputs": [],
   "source": []
  }
 ],
 "metadata": {
  "kernelspec": {
   "display_name": "Python 3 (ipykernel)",
   "language": "python",
   "name": "python3"
  },
  "language_info": {
   "codemirror_mode": {
    "name": "ipython",
    "version": 3
   },
   "file_extension": ".py",
   "mimetype": "text/x-python",
   "name": "python",
   "nbconvert_exporter": "python",
   "pygments_lexer": "ipython3",
   "version": "3.11.5"
  },
  "toc": {
   "base_numbering": 1,
   "nav_menu": {},
   "number_sections": true,
   "sideBar": true,
   "skip_h1_title": false,
   "title_cell": "Table of Contents",
   "title_sidebar": "Contents",
   "toc_cell": false,
   "toc_position": {},
   "toc_section_display": true,
   "toc_window_display": false
  },
  "varInspector": {
   "cols": {
    "lenName": 16,
    "lenType": 16,
    "lenVar": 40
   },
   "kernels_config": {
    "python": {
     "delete_cmd_postfix": "",
     "delete_cmd_prefix": "del ",
     "library": "var_list.py",
     "varRefreshCmd": "print(var_dic_list())"
    },
    "r": {
     "delete_cmd_postfix": ") ",
     "delete_cmd_prefix": "rm(",
     "library": "var_list.r",
     "varRefreshCmd": "cat(var_dic_list()) "
    }
   },
   "types_to_exclude": [
    "module",
    "function",
    "builtin_function_or_method",
    "instance",
    "_Feature"
   ],
   "window_display": false
  }
 },
 "nbformat": 4,
 "nbformat_minor": 5
}
