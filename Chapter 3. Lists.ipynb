{
 "cells": [
  {
   "cell_type": "code",
   "execution_count": 1,
   "id": "8bd9e18c",
   "metadata": {
    "ExecuteTime": {
     "end_time": "2024-01-01T13:00:20.513906Z",
     "start_time": "2024-01-01T13:00:20.498460Z"
    }
   },
   "outputs": [
    {
     "data": {
      "text/plain": [
       "[1, 2, 3]"
      ]
     },
     "execution_count": 1,
     "metadata": {},
     "output_type": "execute_result"
    }
   ],
   "source": [
    "my_list = [1,2,3]\n",
    "my_list"
   ]
  },
  {
   "cell_type": "code",
   "execution_count": 3,
   "id": "6ac98e33",
   "metadata": {
    "ExecuteTime": {
     "end_time": "2024-01-01T13:01:28.088436Z",
     "start_time": "2024-01-01T13:01:28.079066Z"
    }
   },
   "outputs": [
    {
     "data": {
      "text/plain": [
       "['a', 'b', 'c']"
      ]
     },
     "execution_count": 3,
     "metadata": {},
     "output_type": "execute_result"
    }
   ],
   "source": [
    "string = 'a','b','c'\n",
    "casted_list = list(string)\n",
    "casted_list"
   ]
  },
  {
   "cell_type": "markdown",
   "id": "cc6b8b22",
   "metadata": {},
   "source": [
    "**LIST METHODS**"
   ]
  },
  {
   "cell_type": "code",
   "execution_count": 8,
   "id": "d3de17d1",
   "metadata": {
    "ExecuteTime": {
     "end_time": "2024-01-01T13:04:01.970728Z",
     "start_time": "2024-01-01T13:04:01.956107Z"
    }
   },
   "outputs": [
    {
     "data": {
      "text/plain": [
       "['__add__',\n",
       " '__class__',\n",
       " '__class_getitem__',\n",
       " '__contains__',\n",
       " '__delattr__',\n",
       " '__delitem__',\n",
       " '__dir__',\n",
       " '__doc__',\n",
       " '__eq__',\n",
       " '__format__',\n",
       " '__ge__',\n",
       " '__getattribute__',\n",
       " '__getitem__',\n",
       " '__getstate__',\n",
       " '__gt__',\n",
       " '__hash__',\n",
       " '__iadd__',\n",
       " '__imul__',\n",
       " '__init__',\n",
       " '__init_subclass__',\n",
       " '__iter__',\n",
       " '__le__',\n",
       " '__len__',\n",
       " '__lt__',\n",
       " '__mul__',\n",
       " '__ne__',\n",
       " '__new__',\n",
       " '__reduce__',\n",
       " '__reduce_ex__',\n",
       " '__repr__',\n",
       " '__reversed__',\n",
       " '__rmul__',\n",
       " '__setattr__',\n",
       " '__setitem__',\n",
       " '__sizeof__',\n",
       " '__str__',\n",
       " '__subclasshook__',\n",
       " 'append',\n",
       " 'clear',\n",
       " 'copy',\n",
       " 'count',\n",
       " 'extend',\n",
       " 'index',\n",
       " 'insert',\n",
       " 'pop',\n",
       " 'remove',\n",
       " 'reverse',\n",
       " 'sort']"
      ]
     },
     "execution_count": 8,
     "metadata": {},
     "output_type": "execute_result"
    }
   ],
   "source": [
    "dir(list)"
   ]
  },
  {
   "cell_type": "code",
   "execution_count": 4,
   "id": "6d9e5bc4",
   "metadata": {
    "ExecuteTime": {
     "end_time": "2024-01-01T13:03:10.520070Z",
     "start_time": "2024-01-01T13:03:10.513645Z"
    }
   },
   "outputs": [
    {
     "data": {
      "text/plain": [
       "['James', 'Anna', 'Lauren', 'Vanya', 'Sarah']"
      ]
     },
     "execution_count": 4,
     "metadata": {},
     "output_type": "execute_result"
    }
   ],
   "source": [
    "#using append()\n",
    "\n",
    "my_list = ['James', 'Anna', 'Lauren', 'Vanya']\n",
    "my_list.append('Sarah')\n",
    "my_list"
   ]
  },
  {
   "cell_type": "code",
   "execution_count": 7,
   "id": "24d77d30",
   "metadata": {
    "ExecuteTime": {
     "end_time": "2024-01-01T13:03:38.776939Z",
     "start_time": "2024-01-01T13:03:38.768284Z"
    }
   },
   "outputs": [
    {
     "data": {
      "text/plain": [
       "[]"
      ]
     },
     "execution_count": 7,
     "metadata": {},
     "output_type": "execute_result"
    }
   ],
   "source": [
    "# using clear()\n",
    "my_list.clear()\n",
    "my_list"
   ]
  },
  {
   "cell_type": "code",
   "execution_count": 24,
   "id": "fb01ad7c",
   "metadata": {
    "ExecuteTime": {
     "end_time": "2024-01-01T13:08:37.833019Z",
     "start_time": "2024-01-01T13:08:37.824199Z"
    }
   },
   "outputs": [
    {
     "data": {
      "text/plain": [
       "['James', 'Anna', 'Lauren', 'Vanya']"
      ]
     },
     "execution_count": 24,
     "metadata": {},
     "output_type": "execute_result"
    }
   ],
   "source": [
    "# using copy()\n",
    "my_list = ['James', 'Anna', 'Lauren', 'Vanya']\n",
    "my_list_copy = my_list.copy()\n",
    "my_list_copy"
   ]
  },
  {
   "cell_type": "code",
   "execution_count": 19,
   "id": "f8646578",
   "metadata": {
    "ExecuteTime": {
     "end_time": "2024-01-01T13:07:39.297892Z",
     "start_time": "2024-01-01T13:07:39.291213Z"
    }
   },
   "outputs": [
    {
     "data": {
      "text/plain": [
       "1"
      ]
     },
     "execution_count": 19,
     "metadata": {},
     "output_type": "execute_result"
    }
   ],
   "source": [
    "# using index()\n",
    "my_list.index('Anna')"
   ]
  },
  {
   "cell_type": "code",
   "execution_count": 25,
   "id": "66b6081f",
   "metadata": {
    "ExecuteTime": {
     "end_time": "2024-01-01T13:08:40.348952Z",
     "start_time": "2024-01-01T13:08:40.336675Z"
    }
   },
   "outputs": [
    {
     "data": {
      "text/plain": [
       "['James', 'Anna', 'Stephanie', 'Lauren', 'Vanya']"
      ]
     },
     "execution_count": 25,
     "metadata": {},
     "output_type": "execute_result"
    }
   ],
   "source": [
    "# using insert\n",
    "my_list.insert(2, 'Stephanie')\n",
    "my_list"
   ]
  },
  {
   "cell_type": "code",
   "execution_count": 26,
   "id": "76cc8566",
   "metadata": {
    "ExecuteTime": {
     "end_time": "2024-01-01T13:08:41.867232Z",
     "start_time": "2024-01-01T13:08:41.861120Z"
    }
   },
   "outputs": [
    {
     "data": {
      "text/plain": [
       "['James', 'Anna', 'Stephanie', 'Vanya']"
      ]
     },
     "execution_count": 26,
     "metadata": {},
     "output_type": "execute_result"
    }
   ],
   "source": [
    "# using pop()\n",
    "my_list.pop(3)\n",
    "my_list"
   ]
  },
  {
   "cell_type": "code",
   "execution_count": 27,
   "id": "99e1ca2b",
   "metadata": {
    "ExecuteTime": {
     "end_time": "2024-01-01T13:08:44.793164Z",
     "start_time": "2024-01-01T13:08:44.786173Z"
    }
   },
   "outputs": [
    {
     "data": {
      "text/plain": [
       "['James', 'Stephanie', 'Vanya']"
      ]
     },
     "execution_count": 27,
     "metadata": {},
     "output_type": "execute_result"
    }
   ],
   "source": [
    "# using remoove()\n",
    "my_list.remove('Anna')\n",
    "my_list"
   ]
  },
  {
   "cell_type": "code",
   "execution_count": 30,
   "id": "8126ad59",
   "metadata": {
    "ExecuteTime": {
     "end_time": "2024-01-01T13:09:18.714152Z",
     "start_time": "2024-01-01T13:09:18.707126Z"
    }
   },
   "outputs": [
    {
     "data": {
      "text/plain": [
       "['Vanya', 'Stephanie', 'James']"
      ]
     },
     "execution_count": 30,
     "metadata": {},
     "output_type": "execute_result"
    }
   ],
   "source": [
    "#using reverse()\n",
    "my_list.reverse()\n",
    "my_list"
   ]
  },
  {
   "cell_type": "code",
   "execution_count": 32,
   "id": "d557f090",
   "metadata": {
    "ExecuteTime": {
     "end_time": "2024-01-01T13:09:39.074575Z",
     "start_time": "2024-01-01T13:09:39.068348Z"
    }
   },
   "outputs": [
    {
     "data": {
      "text/plain": [
       "['James', 'Stephanie', 'Vanya']"
      ]
     },
     "execution_count": 32,
     "metadata": {},
     "output_type": "execute_result"
    }
   ],
   "source": [
    "my_list.sort()\n",
    "my_list"
   ]
  },
  {
   "cell_type": "code",
   "execution_count": 34,
   "id": "8d61b8bf",
   "metadata": {
    "ExecuteTime": {
     "end_time": "2024-01-01T13:10:29.961508Z",
     "start_time": "2024-01-01T13:10:29.955216Z"
    }
   },
   "outputs": [
    {
     "data": {
      "text/plain": [
       "1"
      ]
     },
     "execution_count": 34,
     "metadata": {},
     "output_type": "execute_result"
    }
   ],
   "source": [
    "my_list.count('James')"
   ]
  },
  {
   "cell_type": "markdown",
   "id": "f5a0f0c1",
   "metadata": {},
   "source": [
    "**ADDING TO A LIST**\n",
    "- append()\n",
    "- extend()\n",
    "- insert()"
   ]
  },
  {
   "cell_type": "code",
   "execution_count": 37,
   "id": "2cc3fca6",
   "metadata": {
    "ExecuteTime": {
     "end_time": "2024-01-01T13:12:42.231157Z",
     "start_time": "2024-01-01T13:12:42.220297Z"
    }
   },
   "outputs": [
    {
     "data": {
      "text/plain": [
       "['James', 'Stephanie', 'Vanya', 'Jerry']"
      ]
     },
     "execution_count": 37,
     "metadata": {},
     "output_type": "execute_result"
    }
   ],
   "source": [
    "my_list"
   ]
  },
  {
   "cell_type": "code",
   "execution_count": 38,
   "id": "ddcf7ffa",
   "metadata": {
    "ExecuteTime": {
     "end_time": "2024-01-01T13:12:46.068304Z",
     "start_time": "2024-01-01T13:12:46.055841Z"
    }
   },
   "outputs": [
    {
     "data": {
      "text/plain": [
       "['James', 'Stephanie', 'Vanya', 'Jerry', 'Jerry']"
      ]
     },
     "execution_count": 38,
     "metadata": {},
     "output_type": "execute_result"
    }
   ],
   "source": [
    "my_list.append('Jerry')\n",
    "my_list"
   ]
  },
  {
   "cell_type": "code",
   "execution_count": 40,
   "id": "500327e6",
   "metadata": {
    "ExecuteTime": {
     "end_time": "2024-01-01T13:14:43.390490Z",
     "start_time": "2024-01-01T13:14:43.375105Z"
    }
   },
   "outputs": [
    {
     "data": {
      "text/plain": [
       "[1, 2, 3, 4, 5, 6, 7, 8, 9, 10]"
      ]
     },
     "execution_count": 40,
     "metadata": {},
     "output_type": "execute_result"
    }
   ],
   "source": [
    "my_list1 = [1,2,3,4,5]\n",
    "my_list2 = [6,7,8,9,10]\n",
    "\n",
    "my_list1.extend(my_list2)\n",
    "my_list1"
   ]
  },
  {
   "cell_type": "code",
   "execution_count": 41,
   "id": "dff539fb",
   "metadata": {
    "ExecuteTime": {
     "end_time": "2024-01-01T13:15:41.202690Z",
     "start_time": "2024-01-01T13:15:41.190596Z"
    }
   },
   "outputs": [
    {
     "data": {
      "text/plain": [
       "[1, 2, 3, 4, 5, 6, 7, 8, 9, 10, 6, 7, 8, 9, 10]"
      ]
     },
     "execution_count": 41,
     "metadata": {},
     "output_type": "execute_result"
    }
   ],
   "source": [
    "combined_list = my_list1 + my_list2\n",
    "combined_list"
   ]
  },
  {
   "cell_type": "code",
   "execution_count": null,
   "id": "2b919dec",
   "metadata": {},
   "outputs": [],
   "source": []
  }
 ],
 "metadata": {
  "kernelspec": {
   "display_name": "Python 3 (ipykernel)",
   "language": "python",
   "name": "python3"
  },
  "language_info": {
   "codemirror_mode": {
    "name": "ipython",
    "version": 3
   },
   "file_extension": ".py",
   "mimetype": "text/x-python",
   "name": "python",
   "nbconvert_exporter": "python",
   "pygments_lexer": "ipython3",
   "version": "3.11.5"
  },
  "toc": {
   "base_numbering": 1,
   "nav_menu": {},
   "number_sections": true,
   "sideBar": true,
   "skip_h1_title": false,
   "title_cell": "Table of Contents",
   "title_sidebar": "Contents",
   "toc_cell": false,
   "toc_position": {},
   "toc_section_display": true,
   "toc_window_display": false
  },
  "varInspector": {
   "cols": {
    "lenName": 16,
    "lenType": 16,
    "lenVar": 40
   },
   "kernels_config": {
    "python": {
     "delete_cmd_postfix": "",
     "delete_cmd_prefix": "del ",
     "library": "var_list.py",
     "varRefreshCmd": "print(var_dic_list())"
    },
    "r": {
     "delete_cmd_postfix": ") ",
     "delete_cmd_prefix": "rm(",
     "library": "var_list.r",
     "varRefreshCmd": "cat(var_dic_list()) "
    }
   },
   "types_to_exclude": [
    "module",
    "function",
    "builtin_function_or_method",
    "instance",
    "_Feature"
   ],
   "window_display": false
  }
 },
 "nbformat": 4,
 "nbformat_minor": 5
}
