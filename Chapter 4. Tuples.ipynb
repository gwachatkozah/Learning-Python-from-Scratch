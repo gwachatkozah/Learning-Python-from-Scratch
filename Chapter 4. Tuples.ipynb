{
 "cells": [
  {
   "cell_type": "code",
   "execution_count": 1,
   "id": "2b58ff86",
   "metadata": {
    "ExecuteTime": {
     "end_time": "2024-01-05T15:02:37.347362Z",
     "start_time": "2024-01-05T15:02:37.331535Z"
    }
   },
   "outputs": [
    {
     "data": {
      "text/plain": [
       "tuple"
      ]
     },
     "execution_count": 1,
     "metadata": {},
     "output_type": "execute_result"
    }
   ],
   "source": [
    "my_tuple = (1,2,3,4,5)\n",
    "type(my_tuple)"
   ]
  },
  {
   "cell_type": "code",
   "execution_count": 2,
   "id": "d96ca171",
   "metadata": {
    "ExecuteTime": {
     "end_time": "2024-01-05T15:02:37.364660Z",
     "start_time": "2024-01-05T15:02:37.354924Z"
    }
   },
   "outputs": [
    {
     "data": {
      "text/plain": [
       "tuple"
      ]
     },
     "execution_count": 2,
     "metadata": {},
     "output_type": "execute_result"
    }
   ],
   "source": [
    "my_tuple1 = 1,2,3,4,5\n",
    "type(my_tuple1)"
   ]
  },
  {
   "cell_type": "code",
   "execution_count": 3,
   "id": "c5bf416a",
   "metadata": {
    "ExecuteTime": {
     "end_time": "2024-01-05T15:02:37.379121Z",
     "start_time": "2024-01-05T15:02:37.371977Z"
    }
   },
   "outputs": [
    {
     "data": {
      "text/plain": [
       "(12, 432, 21)"
      ]
     },
     "execution_count": 3,
     "metadata": {},
     "output_type": "execute_result"
    }
   ],
   "source": [
    "casted_tuple = tuple([12,432,21])\n",
    "casted_tuple"
   ]
  },
  {
   "cell_type": "code",
   "execution_count": 4,
   "id": "a895bc9f",
   "metadata": {
    "ExecuteTime": {
     "end_time": "2024-01-05T15:02:37.395093Z",
     "start_time": "2024-01-05T15:02:37.385166Z"
    }
   },
   "outputs": [
    {
     "data": {
      "text/plain": [
       "['__add__',\n",
       " '__class__',\n",
       " '__class_getitem__',\n",
       " '__contains__',\n",
       " '__delattr__',\n",
       " '__dir__',\n",
       " '__doc__',\n",
       " '__eq__',\n",
       " '__format__',\n",
       " '__ge__',\n",
       " '__getattribute__',\n",
       " '__getitem__',\n",
       " '__getnewargs__',\n",
       " '__getstate__',\n",
       " '__gt__',\n",
       " '__hash__',\n",
       " '__init__',\n",
       " '__init_subclass__',\n",
       " '__iter__',\n",
       " '__le__',\n",
       " '__len__',\n",
       " '__lt__',\n",
       " '__mul__',\n",
       " '__ne__',\n",
       " '__new__',\n",
       " '__reduce__',\n",
       " '__reduce_ex__',\n",
       " '__repr__',\n",
       " '__rmul__',\n",
       " '__setattr__',\n",
       " '__sizeof__',\n",
       " '__str__',\n",
       " '__subclasshook__',\n",
       " 'count',\n",
       " 'index']"
      ]
     },
     "execution_count": 4,
     "metadata": {},
     "output_type": "execute_result"
    }
   ],
   "source": [
    "dir(tuple)"
   ]
  },
  {
   "cell_type": "code",
   "execution_count": 5,
   "id": "85ea9028",
   "metadata": {
    "ExecuteTime": {
     "end_time": "2024-01-05T15:02:37.408963Z",
     "start_time": "2024-01-05T15:02:37.401662Z"
    }
   },
   "outputs": [
    {
     "data": {
      "text/plain": [
       "(1, 2, 3, 4, 5)"
      ]
     },
     "execution_count": 5,
     "metadata": {},
     "output_type": "execute_result"
    }
   ],
   "source": [
    "my_tuple"
   ]
  },
  {
   "cell_type": "code",
   "execution_count": 6,
   "id": "83bab11e",
   "metadata": {
    "ExecuteTime": {
     "end_time": "2024-01-05T15:02:37.424345Z",
     "start_time": "2024-01-05T15:02:37.412975Z"
    }
   },
   "outputs": [
    {
     "data": {
      "text/plain": [
       "1"
      ]
     },
     "execution_count": 6,
     "metadata": {},
     "output_type": "execute_result"
    }
   ],
   "source": [
    "my_tuple.count(3)"
   ]
  },
  {
   "cell_type": "code",
   "execution_count": 7,
   "id": "f5ef935b",
   "metadata": {
    "ExecuteTime": {
     "end_time": "2024-01-05T15:02:37.438924Z",
     "start_time": "2024-01-05T15:02:37.426357Z"
    }
   },
   "outputs": [
    {
     "data": {
      "text/plain": [
       "1"
      ]
     },
     "execution_count": 7,
     "metadata": {},
     "output_type": "execute_result"
    }
   ],
   "source": [
    "my_tuple.index(2)"
   ]
  },
  {
   "cell_type": "code",
   "execution_count": 8,
   "id": "6bedf848",
   "metadata": {
    "ExecuteTime": {
     "end_time": "2024-01-05T15:02:37.450846Z",
     "start_time": "2024-01-05T15:02:37.441933Z"
    }
   },
   "outputs": [
    {
     "data": {
      "text/plain": [
       "4"
      ]
     },
     "execution_count": 8,
     "metadata": {},
     "output_type": "execute_result"
    }
   ],
   "source": [
    "my_tuple[3]"
   ]
  },
  {
   "cell_type": "markdown",
   "id": "cf9cc458",
   "metadata": {},
   "source": [
    "**CONCATENATING TUPLES**"
   ]
  },
  {
   "cell_type": "code",
   "execution_count": 9,
   "id": "e769ff2b",
   "metadata": {
    "ExecuteTime": {
     "end_time": "2024-01-05T15:05:12.906268Z",
     "start_time": "2024-01-05T15:05:12.901804Z"
    }
   },
   "outputs": [],
   "source": [
    "tuple_a = (1,2,3,4,5,6)\n",
    "tuple_b = (7,8,9,10,12)"
   ]
  },
  {
   "cell_type": "code",
   "execution_count": 16,
   "id": "b2e31bb7",
   "metadata": {
    "ExecuteTime": {
     "end_time": "2024-01-05T15:08:06.887589Z",
     "start_time": "2024-01-05T15:08:06.882556Z"
    }
   },
   "outputs": [
    {
     "name": "stdout",
     "output_type": "stream",
     "text": [
      "tuple_a ID: 1638038321664\n",
      "tuple_b ID: 1638039784960\n"
     ]
    }
   ],
   "source": [
    "print(f\"tuple_a ID: {id(tuple_a)}\\ntuple_b ID: {id(tuple_b)}\")"
   ]
  },
  {
   "cell_type": "code",
   "execution_count": 17,
   "id": "1bcd5aae",
   "metadata": {
    "ExecuteTime": {
     "end_time": "2024-01-05T15:08:33.944558Z",
     "start_time": "2024-01-05T15:08:33.937545Z"
    }
   },
   "outputs": [
    {
     "data": {
      "text/plain": [
       "1638059561536"
      ]
     },
     "execution_count": 17,
     "metadata": {},
     "output_type": "execute_result"
    }
   ],
   "source": [
    "tuple_a2 = (1,2,3,4,5,6)\n",
    "id(tuple_a2)"
   ]
  },
  {
   "cell_type": "markdown",
   "id": "9b30ee2c",
   "metadata": {},
   "source": [
    "**SPECIAL CASE TUPLES**"
   ]
  },
  {
   "cell_type": "markdown",
   "id": "18081dab",
   "metadata": {},
   "source": [
    "_There are two(2) special case tuples:_\n",
    "- A tuple with zero(0) items.\n",
    "- A tuple with one item."
   ]
  }
 ],
 "metadata": {
  "kernelspec": {
   "display_name": "Python 3 (ipykernel)",
   "language": "python",
   "name": "python3"
  },
  "language_info": {
   "codemirror_mode": {
    "name": "ipython",
    "version": 3
   },
   "file_extension": ".py",
   "mimetype": "text/x-python",
   "name": "python",
   "nbconvert_exporter": "python",
   "pygments_lexer": "ipython3",
   "version": "3.11.5"
  },
  "toc": {
   "base_numbering": 1,
   "nav_menu": {},
   "number_sections": true,
   "sideBar": true,
   "skip_h1_title": false,
   "title_cell": "Table of Contents",
   "title_sidebar": "Contents",
   "toc_cell": false,
   "toc_position": {},
   "toc_section_display": true,
   "toc_window_display": false
  },
  "varInspector": {
   "cols": {
    "lenName": 16,
    "lenType": 16,
    "lenVar": 40
   },
   "kernels_config": {
    "python": {
     "delete_cmd_postfix": "",
     "delete_cmd_prefix": "del ",
     "library": "var_list.py",
     "varRefreshCmd": "print(var_dic_list())"
    },
    "r": {
     "delete_cmd_postfix": ") ",
     "delete_cmd_prefix": "rm(",
     "library": "var_list.r",
     "varRefreshCmd": "cat(var_dic_list()) "
    }
   },
   "types_to_exclude": [
    "module",
    "function",
    "builtin_function_or_method",
    "instance",
    "_Feature"
   ],
   "window_display": false
  }
 },
 "nbformat": 4,
 "nbformat_minor": 5
}
