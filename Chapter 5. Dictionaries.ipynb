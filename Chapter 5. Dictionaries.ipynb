{
 "cells": [
  {
   "cell_type": "markdown",
   "id": "bc1009f8",
   "metadata": {},
   "source": [
    "**CREATING DICTIONARIES**"
   ]
  },
  {
   "cell_type": "code",
   "execution_count": 1,
   "id": "7d60c2e3",
   "metadata": {
    "ExecuteTime": {
     "end_time": "2024-01-05T15:31:25.021233Z",
     "start_time": "2024-01-05T15:31:25.008223Z"
    }
   },
   "outputs": [
    {
     "data": {
      "text/plain": [
       "{'First Name': 'Gwachat',\n",
       " 'Last Name': 'Kozah',\n",
       " 'Age': 17,\n",
       " 'Gender': 'Male',\n",
       " 'Email': 'gwachatkozah04@gmail.com'}"
      ]
     },
     "execution_count": 1,
     "metadata": {},
     "output_type": "execute_result"
    }
   ],
   "source": [
    "my_dict = {'First Name': 'Gwachat', 'Last Name': 'Kozah', 'Age': 17, 'Gender': 'Male', 'Email': 'gwachatkozah04@gmail.com'}\n",
    "my_dict"
   ]
  },
  {
   "cell_type": "code",
   "execution_count": 5,
   "id": "0cfa10f9",
   "metadata": {
    "ExecuteTime": {
     "end_time": "2024-01-05T15:32:08.668718Z",
     "start_time": "2024-01-05T15:32:08.657497Z"
    }
   },
   "outputs": [
    {
     "data": {
      "text/plain": [
       "{'FirstName': 'Gwachat',\n",
       " 'LastName': 'Kozah',\n",
       " 'Age': 18,\n",
       " 'Gender': 'Male',\n",
       " 'Email': 'gwachatkozah04@gmail.com'}"
      ]
     },
     "execution_count": 5,
     "metadata": {},
     "output_type": "execute_result"
    }
   ],
   "source": [
    "my_dict1 = dict(FirstName = 'Gwachat', LastName = 'Kozah', Age = 18, Gender = 'Male', Email = 'gwachatkozah04@gmail.com')\n",
    "my_dict1"
   ]
  },
  {
   "cell_type": "code",
   "execution_count": 10,
   "id": "f374a951",
   "metadata": {
    "ExecuteTime": {
     "end_time": "2024-01-05T15:34:44.240821Z",
     "start_time": "2024-01-05T15:34:44.232744Z"
    },
    "scrolled": true
   },
   "outputs": [
    {
     "data": {
      "text/plain": [
       "{'FirstName': 'Gwachat',\n",
       " 'LastName': 'Kozah',\n",
       " 'Age': 18,\n",
       " 'Gender': 'Male',\n",
       " 'Email': 'gwachatkozah04@gmail.com'}"
      ]
     },
     "execution_count": 10,
     "metadata": {},
     "output_type": "execute_result"
    }
   ],
   "source": [
    "my_dict2 = dict([('FirstName', 'Gwachat'), ('LastName', 'Kozah'), ('Age', 18), ('Gender', 'Male'), ('Email', 'gwachatkozah04@gmail.com')])\n",
    "my_dict2"
   ]
  },
  {
   "cell_type": "markdown",
   "id": "ac32a37e",
   "metadata": {
    "ExecuteTime": {
     "end_time": "2024-01-05T15:31:25.044913Z",
     "start_time": "2024-01-05T15:31:25.044913Z"
    }
   },
   "source": [
    "**ACCESSING ELEMENTS IN DICTIONARIES**"
   ]
  },
  {
   "cell_type": "code",
   "execution_count": 11,
   "id": "7957058c",
   "metadata": {
    "ExecuteTime": {
     "end_time": "2024-01-05T15:35:27.493280Z",
     "start_time": "2024-01-05T15:35:27.485377Z"
    }
   },
   "outputs": [
    {
     "data": {
      "text/plain": [
       "{'First Name': 'Gwachat',\n",
       " 'Last Name': 'Kozah',\n",
       " 'Age': 17,\n",
       " 'Gender': 'Male',\n",
       " 'Email': 'gwachatkozah04@gmail.com'}"
      ]
     },
     "execution_count": 11,
     "metadata": {},
     "output_type": "execute_result"
    }
   ],
   "source": [
    "my_dict"
   ]
  },
  {
   "cell_type": "code",
   "execution_count": 12,
   "id": "91f1d9f8",
   "metadata": {
    "ExecuteTime": {
     "end_time": "2024-01-05T15:35:38.860594Z",
     "start_time": "2024-01-05T15:35:38.849934Z"
    }
   },
   "outputs": [
    {
     "data": {
      "text/plain": [
       "17"
      ]
     },
     "execution_count": 12,
     "metadata": {},
     "output_type": "execute_result"
    }
   ],
   "source": [
    "my_dict['Age']"
   ]
  },
  {
   "cell_type": "code",
   "execution_count": 15,
   "id": "c3ebb4eb",
   "metadata": {
    "ExecuteTime": {
     "end_time": "2024-01-05T15:36:55.542757Z",
     "start_time": "2024-01-05T15:36:55.536720Z"
    }
   },
   "outputs": [
    {
     "data": {
      "text/plain": [
       "False"
      ]
     },
     "execution_count": 15,
     "metadata": {},
     "output_type": "execute_result"
    }
   ],
   "source": [
    "'Job' in my_dict"
   ]
  },
  {
   "cell_type": "code",
   "execution_count": 16,
   "id": "51d71bbb",
   "metadata": {
    "ExecuteTime": {
     "end_time": "2024-01-05T15:36:58.127251Z",
     "start_time": "2024-01-05T15:36:58.120191Z"
    }
   },
   "outputs": [
    {
     "data": {
      "text/plain": [
       "True"
      ]
     },
     "execution_count": 16,
     "metadata": {},
     "output_type": "execute_result"
    }
   ],
   "source": [
    "'Job' not in my_dict"
   ]
  },
  {
   "cell_type": "markdown",
   "id": "c7ac4393",
   "metadata": {},
   "source": [
    "**DICTIONARY METHODS**"
   ]
  },
  {
   "cell_type": "markdown",
   "id": "78f7b6a2",
   "metadata": {},
   "source": [
    "`D.get(key[, default])`"
   ]
  },
  {
   "cell_type": "code",
   "execution_count": 17,
   "id": "542148af",
   "metadata": {
    "ExecuteTime": {
     "end_time": "2024-01-05T15:38:14.609807Z",
     "start_time": "2024-01-05T15:38:14.602347Z"
    }
   },
   "outputs": [
    {
     "data": {
      "text/plain": [
       "'Gwachat'"
      ]
     },
     "execution_count": 17,
     "metadata": {},
     "output_type": "execute_result"
    }
   ],
   "source": [
    "my_dict.get('First Name')"
   ]
  },
  {
   "cell_type": "code",
   "execution_count": 19,
   "id": "2d1d67a0",
   "metadata": {
    "ExecuteTime": {
     "end_time": "2024-01-05T15:38:50.075667Z",
     "start_time": "2024-01-05T15:38:50.067676Z"
    }
   },
   "outputs": [
    {
     "name": "stdout",
     "output_type": "stream",
     "text": [
      "None\n"
     ]
    }
   ],
   "source": [
    "print(my_dict.get('Middle Name'))"
   ]
  },
  {
   "cell_type": "code",
   "execution_count": 21,
   "id": "524d5ea3",
   "metadata": {
    "ExecuteTime": {
     "end_time": "2024-01-05T15:39:20.315847Z",
     "start_time": "2024-01-05T15:39:20.309883Z"
    }
   },
   "outputs": [
    {
     "data": {
      "text/plain": [
       "(None, 'Not Found')"
      ]
     },
     "execution_count": 21,
     "metadata": {},
     "output_type": "execute_result"
    }
   ],
   "source": [
    "my_dict.get('Middle Name'), 'Not Found'"
   ]
  },
  {
   "cell_type": "markdown",
   "id": "b84cfb9f",
   "metadata": {},
   "source": [
    "`D.clear()`"
   ]
  },
  {
   "cell_type": "code",
   "execution_count": 22,
   "id": "aae54367",
   "metadata": {
    "ExecuteTime": {
     "end_time": "2024-01-05T15:40:52.623832Z",
     "start_time": "2024-01-05T15:40:52.617963Z"
    }
   },
   "outputs": [
    {
     "data": {
      "text/plain": [
       "{}"
      ]
     },
     "execution_count": 22,
     "metadata": {},
     "output_type": "execute_result"
    }
   ],
   "source": [
    "my_dict.clear()\n",
    "my_dict"
   ]
  },
  {
   "cell_type": "markdown",
   "id": "720a4f60",
   "metadata": {},
   "source": [
    "`D.copy()`"
   ]
  },
  {
   "cell_type": "code",
   "execution_count": 23,
   "id": "ac756092",
   "metadata": {
    "ExecuteTime": {
     "end_time": "2024-01-05T15:41:43.818549Z",
     "start_time": "2024-01-05T15:41:43.812151Z"
    }
   },
   "outputs": [
    {
     "data": {
      "text/plain": [
       "{'FirstName': 'Gwachat',\n",
       " 'LastName': 'Kozah',\n",
       " 'Age': 18,\n",
       " 'Gender': 'Male',\n",
       " 'Email': 'gwachatkozah04@gmail.com'}"
      ]
     },
     "execution_count": 23,
     "metadata": {},
     "output_type": "execute_result"
    }
   ],
   "source": [
    "my_dict1_copy = my_dict1.copy()\n",
    "my_dict1_copy"
   ]
  },
  {
   "cell_type": "markdown",
   "id": "4899b115",
   "metadata": {},
   "source": [
    "`D.items()`"
   ]
  },
  {
   "cell_type": "code",
   "execution_count": 24,
   "id": "a12caea1",
   "metadata": {
    "ExecuteTime": {
     "end_time": "2024-01-05T15:41:55.261673Z",
     "start_time": "2024-01-05T15:41:55.254070Z"
    },
    "scrolled": false
   },
   "outputs": [
    {
     "data": {
      "text/plain": [
       "dict_items([('FirstName', 'Gwachat'), ('LastName', 'Kozah'), ('Age', 18), ('Gender', 'Male'), ('Email', 'gwachatkozah04@gmail.com')])"
      ]
     },
     "execution_count": 24,
     "metadata": {},
     "output_type": "execute_result"
    }
   ],
   "source": [
    "my_dict1.items()"
   ]
  },
  {
   "cell_type": "markdown",
   "id": "e989ca56",
   "metadata": {},
   "source": [
    "`D.keys()`"
   ]
  },
  {
   "cell_type": "code",
   "execution_count": 25,
   "id": "a17adcea",
   "metadata": {
    "ExecuteTime": {
     "end_time": "2024-01-05T15:42:43.539254Z",
     "start_time": "2024-01-05T15:42:43.533431Z"
    }
   },
   "outputs": [
    {
     "data": {
      "text/plain": [
       "dict_keys(['FirstName', 'LastName', 'Age', 'Gender', 'Email'])"
      ]
     },
     "execution_count": 25,
     "metadata": {},
     "output_type": "execute_result"
    }
   ],
   "source": [
    "my_dict1.keys()"
   ]
  },
  {
   "cell_type": "markdown",
   "id": "b0ec11fd",
   "metadata": {
    "ExecuteTime": {
     "end_time": "2024-01-05T15:43:18.511196Z",
     "start_time": "2024-01-05T15:43:18.502133Z"
    }
   },
   "source": [
    "`D.values()`"
   ]
  },
  {
   "cell_type": "code",
   "execution_count": 27,
   "id": "545aaf06",
   "metadata": {
    "ExecuteTime": {
     "end_time": "2024-01-05T15:43:30.471896Z",
     "start_time": "2024-01-05T15:43:30.465164Z"
    }
   },
   "outputs": [
    {
     "data": {
      "text/plain": [
       "dict_values(['Gwachat', 'Kozah', 18, 'Male', 'gwachatkozah04@gmail.com'])"
      ]
     },
     "execution_count": 27,
     "metadata": {},
     "output_type": "execute_result"
    }
   ],
   "source": [
    "my_dict1.values()"
   ]
  },
  {
   "cell_type": "markdown",
   "id": "2e8061d8",
   "metadata": {},
   "source": [
    "`D.pop(key[, default])`"
   ]
  },
  {
   "cell_type": "code",
   "execution_count": 28,
   "id": "d1f37640",
   "metadata": {
    "ExecuteTime": {
     "end_time": "2024-01-05T15:50:54.999124Z",
     "start_time": "2024-01-05T15:50:54.987615Z"
    }
   },
   "outputs": [
    {
     "data": {
      "text/plain": [
       "'gwachatkozah04@gmail.com'"
      ]
     },
     "execution_count": 28,
     "metadata": {},
     "output_type": "execute_result"
    }
   ],
   "source": [
    "my_dict1.pop('Email')"
   ]
  },
  {
   "cell_type": "code",
   "execution_count": 29,
   "id": "b4103238",
   "metadata": {
    "ExecuteTime": {
     "end_time": "2024-01-05T15:51:08.071523Z",
     "start_time": "2024-01-05T15:51:08.064547Z"
    }
   },
   "outputs": [
    {
     "data": {
      "text/plain": [
       "{'FirstName': 'Gwachat', 'LastName': 'Kozah', 'Age': 18, 'Gender': 'Male'}"
      ]
     },
     "execution_count": 29,
     "metadata": {},
     "output_type": "execute_result"
    }
   ],
   "source": [
    "my_dict1"
   ]
  },
  {
   "cell_type": "markdown",
   "id": "140e3107",
   "metadata": {},
   "source": [
    "`D.popitem()`"
   ]
  },
  {
   "cell_type": "code",
   "execution_count": 31,
   "id": "b2fb229e",
   "metadata": {
    "ExecuteTime": {
     "end_time": "2024-01-05T16:22:55.123089Z",
     "start_time": "2024-01-05T16:22:55.116719Z"
    }
   },
   "outputs": [
    {
     "data": {
      "text/plain": [
       "('Gender', 'Male')"
      ]
     },
     "execution_count": 31,
     "metadata": {},
     "output_type": "execute_result"
    }
   ],
   "source": [
    "my_dict1.popitem()"
   ]
  },
  {
   "cell_type": "markdown",
   "id": "f1426f9e",
   "metadata": {},
   "source": [
    "`D.update()`"
   ]
  },
  {
   "cell_type": "code",
   "execution_count": 32,
   "id": "59fdae99",
   "metadata": {
    "ExecuteTime": {
     "end_time": "2024-01-05T16:23:44.450910Z",
     "start_time": "2024-01-05T16:23:44.443707Z"
    }
   },
   "outputs": [
    {
     "data": {
      "text/plain": [
       "{'FirstName': 'Gwachat',\n",
       " 'LastName': 'Kozah',\n",
       " 'Age': 18,\n",
       " 'Gender': 'Male',\n",
       " 'Email': 'gwachatkozah04@gmail.com'}"
      ]
     },
     "execution_count": 32,
     "metadata": {},
     "output_type": "execute_result"
    }
   ],
   "source": [
    "my_dict1_copy"
   ]
  },
  {
   "cell_type": "code",
   "execution_count": 34,
   "id": "8aed6cd3",
   "metadata": {
    "ExecuteTime": {
     "end_time": "2024-01-05T16:25:35.702425Z",
     "start_time": "2024-01-05T16:25:35.696072Z"
    }
   },
   "outputs": [
    {
     "data": {
      "text/plain": [
       "{'FirstName': 'Gwachat',\n",
       " 'LastName': 'Kozah',\n",
       " 'Age': 18,\n",
       " 'Gender': 'Male',\n",
       " 'Email': 'gwachatkozah04@gmail.com',\n",
       " 'Occupation': 'Data Scientist'}"
      ]
     },
     "execution_count": 34,
     "metadata": {},
     "output_type": "execute_result"
    }
   ],
   "source": [
    "my_dict1_copy.update([('Occupation', 'Data Scientist')])\n",
    "my_dict1_copy"
   ]
  },
  {
   "cell_type": "code",
   "execution_count": 35,
   "id": "5cebcac7",
   "metadata": {
    "ExecuteTime": {
     "end_time": "2024-01-05T16:27:11.442402Z",
     "start_time": "2024-01-05T16:27:11.435562Z"
    }
   },
   "outputs": [
    {
     "data": {
      "text/plain": [
       "{'FirstName': 'Gwazachat',\n",
       " 'LastName': 'Kozah',\n",
       " 'Age': 18,\n",
       " 'Gender': 'Male',\n",
       " 'Email': 'gwachatkozah04@gmail.com',\n",
       " 'Occupation': 'Data Scientist'}"
      ]
     },
     "execution_count": 35,
     "metadata": {},
     "output_type": "execute_result"
    }
   ],
   "source": [
    "my_dict1_copy.update([('FirstName', 'Gwazachat')])\n",
    "my_dict1_copy"
   ]
  },
  {
   "cell_type": "markdown",
   "id": "99b3c762",
   "metadata": {},
   "source": [
    "**MODIFYING YOUR DICTIONARY**"
   ]
  },
  {
   "cell_type": "code",
   "execution_count": 38,
   "id": "07a64e20",
   "metadata": {
    "ExecuteTime": {
     "end_time": "2024-01-05T16:28:14.818792Z",
     "start_time": "2024-01-05T16:28:14.807678Z"
    }
   },
   "outputs": [
    {
     "data": {
      "text/plain": [
       "{'FirstName': 'Gwachat',\n",
       " 'LastName': 'Kozah',\n",
       " 'Age': 18,\n",
       " 'Gender': 'Male',\n",
       " 'Email': 'gwachatkozah04@gmail.com'}"
      ]
     },
     "execution_count": 38,
     "metadata": {},
     "output_type": "execute_result"
    }
   ],
   "source": [
    "my_dict2"
   ]
  },
  {
   "cell_type": "code",
   "execution_count": 39,
   "id": "e5eb263b",
   "metadata": {
    "ExecuteTime": {
     "end_time": "2024-01-05T16:29:09.150569Z",
     "start_time": "2024-01-05T16:29:09.139231Z"
    }
   },
   "outputs": [
    {
     "data": {
      "text/plain": [
       "{'FirstName': 'Gwachat',\n",
       " 'LastName': 'Kozah',\n",
       " 'Age': 18,\n",
       " 'Gender': 'Male',\n",
       " 'Email': 'gwachatkozah04@gmail.com',\n",
       " 'Marital Status': 'Single'}"
      ]
     },
     "execution_count": 39,
     "metadata": {},
     "output_type": "execute_result"
    }
   ],
   "source": [
    "my_dict2['Marital Status'] = 'Single'\n",
    "my_dict2"
   ]
  },
  {
   "cell_type": "markdown",
   "id": "8c2aa812",
   "metadata": {},
   "source": [
    "**DELETING ITEMS**"
   ]
  },
  {
   "cell_type": "code",
   "execution_count": 41,
   "id": "fe390be5",
   "metadata": {
    "ExecuteTime": {
     "end_time": "2024-01-05T16:47:05.696924Z",
     "start_time": "2024-01-05T16:47:05.691417Z"
    }
   },
   "outputs": [
    {
     "data": {
      "text/plain": [
       "{'FirstName': 'Gwachat',\n",
       " 'LastName': 'Kozah',\n",
       " 'Age': 18,\n",
       " 'Gender': 'Male',\n",
       " 'Email': 'gwachatkozah04@gmail.com',\n",
       " 'Marital Status': 'Single'}"
      ]
     },
     "execution_count": 41,
     "metadata": {},
     "output_type": "execute_result"
    }
   ],
   "source": [
    "my_dict2"
   ]
  },
  {
   "cell_type": "code",
   "execution_count": 42,
   "id": "58ac4a6c",
   "metadata": {
    "ExecuteTime": {
     "end_time": "2024-01-05T16:47:34.638030Z",
     "start_time": "2024-01-05T16:47:34.625025Z"
    }
   },
   "outputs": [
    {
     "data": {
      "text/plain": [
       "{'FirstName': 'Gwachat',\n",
       " 'LastName': 'Kozah',\n",
       " 'Age': 18,\n",
       " 'Gender': 'Male',\n",
       " 'Marital Status': 'Single'}"
      ]
     },
     "execution_count": 42,
     "metadata": {},
     "output_type": "execute_result"
    }
   ],
   "source": [
    "del my_dict2['Email']\n",
    "my_dict2"
   ]
  },
  {
   "cell_type": "code",
   "execution_count": 43,
   "id": "90230611",
   "metadata": {
    "ExecuteTime": {
     "end_time": "2024-01-05T16:49:04.775041Z",
     "start_time": "2024-01-05T16:49:04.769267Z"
    },
    "scrolled": true
   },
   "outputs": [
    {
     "data": {
      "text/plain": [
       "{'first_name': 'James', 'last_name': 'Smith', 'email': 'jdoe@gmail.com'}"
      ]
     },
     "execution_count": 43,
     "metadata": {},
     "output_type": "execute_result"
    }
   ],
   "source": [
    "dict_ex = {'first_name': 'James', 'last_name': 'Doe', 'email': 'jdoe@gmail.com'}\n",
    "dict_ex['last_name'] = 'Smith'\n",
    "dict_ex"
   ]
  },
  {
   "cell_type": "code",
   "execution_count": 44,
   "id": "5cc9a1e7",
   "metadata": {
    "ExecuteTime": {
     "end_time": "2024-01-05T16:49:33.337741Z",
     "start_time": "2024-01-05T16:49:33.330080Z"
    }
   },
   "outputs": [
    {
     "data": {
      "text/plain": [
       "{'first_name': 'James', 'last_name': 'Smith'}"
      ]
     },
     "execution_count": 44,
     "metadata": {},
     "output_type": "execute_result"
    }
   ],
   "source": [
    "del dict_ex['email']\n",
    "dict_ex"
   ]
  },
  {
   "cell_type": "code",
   "execution_count": 45,
   "id": "505b2de1",
   "metadata": {
    "ExecuteTime": {
     "end_time": "2024-01-05T16:49:45.622406Z",
     "start_time": "2024-01-05T16:49:45.615608Z"
    }
   },
   "outputs": [
    {
     "data": {
      "text/plain": [
       "dict_values(['James', 'Smith'])"
      ]
     },
     "execution_count": 45,
     "metadata": {},
     "output_type": "execute_result"
    }
   ],
   "source": [
    "dict_ex.values()"
   ]
  },
  {
   "cell_type": "code",
   "execution_count": null,
   "id": "ae16ada7",
   "metadata": {},
   "outputs": [],
   "source": []
  }
 ],
 "metadata": {
  "kernelspec": {
   "display_name": "Python 3 (ipykernel)",
   "language": "python",
   "name": "python3"
  },
  "language_info": {
   "codemirror_mode": {
    "name": "ipython",
    "version": 3
   },
   "file_extension": ".py",
   "mimetype": "text/x-python",
   "name": "python",
   "nbconvert_exporter": "python",
   "pygments_lexer": "ipython3",
   "version": "3.11.5"
  },
  "toc": {
   "base_numbering": 1,
   "nav_menu": {},
   "number_sections": true,
   "sideBar": true,
   "skip_h1_title": false,
   "title_cell": "Table of Contents",
   "title_sidebar": "Contents",
   "toc_cell": false,
   "toc_position": {},
   "toc_section_display": true,
   "toc_window_display": false
  },
  "varInspector": {
   "cols": {
    "lenName": 16,
    "lenType": 16,
    "lenVar": 40
   },
   "kernels_config": {
    "python": {
     "delete_cmd_postfix": "",
     "delete_cmd_prefix": "del ",
     "library": "var_list.py",
     "varRefreshCmd": "print(var_dic_list())"
    },
    "r": {
     "delete_cmd_postfix": ") ",
     "delete_cmd_prefix": "rm(",
     "library": "var_list.r",
     "varRefreshCmd": "cat(var_dic_list()) "
    }
   },
   "types_to_exclude": [
    "module",
    "function",
    "builtin_function_or_method",
    "instance",
    "_Feature"
   ],
   "window_display": false
  }
 },
 "nbformat": 4,
 "nbformat_minor": 5
}
