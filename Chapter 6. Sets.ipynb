{
 "cells": [
  {
   "cell_type": "code",
   "execution_count": 3,
   "id": "412aa8e0",
   "metadata": {
    "ExecuteTime": {
     "end_time": "2024-01-05T16:52:05.509979Z",
     "start_time": "2024-01-05T16:52:05.503439Z"
    }
   },
   "outputs": [
    {
     "data": {
      "text/plain": [
       "{'a', 'b', 'c', 'd'}"
      ]
     },
     "execution_count": 3,
     "metadata": {},
     "output_type": "execute_result"
    }
   ],
   "source": [
    "my_set = {'a', 'b', 'c', 'd', 'c'}\n",
    "my_set"
   ]
  },
  {
   "cell_type": "code",
   "execution_count": 4,
   "id": "ce08db9b",
   "metadata": {
    "ExecuteTime": {
     "end_time": "2024-01-05T16:52:08.137034Z",
     "start_time": "2024-01-05T16:52:08.129380Z"
    }
   },
   "outputs": [
    {
     "data": {
      "text/plain": [
       "set"
      ]
     },
     "execution_count": 4,
     "metadata": {},
     "output_type": "execute_result"
    }
   ],
   "source": [
    "type(my_set)"
   ]
  },
  {
   "cell_type": "markdown",
   "id": "417bb93d",
   "metadata": {},
   "source": [
    "**ACCESSING SET ELEMENTS**"
   ]
  },
  {
   "cell_type": "code",
   "execution_count": 5,
   "id": "e16dcc34",
   "metadata": {
    "ExecuteTime": {
     "end_time": "2024-01-05T16:52:45.350454Z",
     "start_time": "2024-01-05T16:52:45.339713Z"
    }
   },
   "outputs": [
    {
     "data": {
      "text/plain": [
       "{'a', 'b', 'c', 'd'}"
      ]
     },
     "execution_count": 5,
     "metadata": {},
     "output_type": "execute_result"
    }
   ],
   "source": [
    "my_set"
   ]
  },
  {
   "cell_type": "code",
   "execution_count": 6,
   "id": "a29e9837",
   "metadata": {
    "ExecuteTime": {
     "end_time": "2024-01-05T16:52:53.847827Z",
     "start_time": "2024-01-05T16:52:53.841473Z"
    }
   },
   "outputs": [
    {
     "data": {
      "text/plain": [
       "True"
      ]
     },
     "execution_count": 6,
     "metadata": {},
     "output_type": "execute_result"
    }
   ],
   "source": [
    "'b' in my_set"
   ]
  },
  {
   "cell_type": "code",
   "execution_count": 7,
   "id": "360be273",
   "metadata": {
    "ExecuteTime": {
     "end_time": "2024-01-05T16:53:16.728836Z",
     "start_time": "2024-01-05T16:53:16.723033Z"
    }
   },
   "outputs": [
    {
     "name": "stdout",
     "output_type": "stream",
     "text": [
      "b\n",
      "c\n",
      "d\n",
      "a\n"
     ]
    }
   ],
   "source": [
    "for item in my_set:\n",
    "    print(item)"
   ]
  },
  {
   "cell_type": "markdown",
   "id": "5a19320b",
   "metadata": {},
   "source": [
    "**ADDING ELEMENTS**"
   ]
  },
  {
   "cell_type": "markdown",
   "id": "e43eeca3",
   "metadata": {},
   "source": [
    "- `add()`"
   ]
  },
  {
   "cell_type": "code",
   "execution_count": 10,
   "id": "7fa508ae",
   "metadata": {
    "ExecuteTime": {
     "end_time": "2024-01-05T16:57:24.949804Z",
     "start_time": "2024-01-05T16:57:24.943262Z"
    }
   },
   "outputs": [
    {
     "data": {
      "text/plain": [
       "{'a', 'b', 'c', 'd', 'e'}"
      ]
     },
     "execution_count": 10,
     "metadata": {},
     "output_type": "execute_result"
    }
   ],
   "source": [
    "my_set.add('e')\n",
    "my_set"
   ]
  },
  {
   "cell_type": "markdown",
   "id": "e06f713f",
   "metadata": {},
   "source": [
    "- `update()`"
   ]
  },
  {
   "cell_type": "code",
   "execution_count": 11,
   "id": "05a46bb5",
   "metadata": {
    "ExecuteTime": {
     "end_time": "2024-01-05T16:58:26.851434Z",
     "start_time": "2024-01-05T16:58:26.844376Z"
    }
   },
   "outputs": [
    {
     "data": {
      "text/plain": [
       "{'a', 'b', 'c', 'd', 'e', 'f', 'g', 'h'}"
      ]
     },
     "execution_count": 11,
     "metadata": {},
     "output_type": "execute_result"
    }
   ],
   "source": [
    "my_set.update('f','g','h')\n",
    "my_set"
   ]
  },
  {
   "cell_type": "markdown",
   "id": "05f784aa",
   "metadata": {},
   "source": [
    "**REMOVING ITEMS**"
   ]
  },
  {
   "cell_type": "markdown",
   "id": "ebff3e6a",
   "metadata": {},
   "source": [
    "- `remove()`"
   ]
  },
  {
   "cell_type": "code",
   "execution_count": 12,
   "id": "7b446d14",
   "metadata": {
    "ExecuteTime": {
     "end_time": "2024-01-05T17:00:11.762828Z",
     "start_time": "2024-01-05T17:00:11.755675Z"
    }
   },
   "outputs": [
    {
     "data": {
      "text/plain": [
       "{'a', 'b', 'd', 'e', 'f', 'g', 'h'}"
      ]
     },
     "execution_count": 12,
     "metadata": {},
     "output_type": "execute_result"
    }
   ],
   "source": [
    "my_set.remove('c')\n",
    "my_set"
   ]
  },
  {
   "cell_type": "code",
   "execution_count": 13,
   "id": "f9ee0ef2",
   "metadata": {
    "ExecuteTime": {
     "end_time": "2024-01-05T17:01:37.919568Z",
     "start_time": "2024-01-05T17:01:37.896014Z"
    }
   },
   "outputs": [
    {
     "ename": "KeyError",
     "evalue": "'z'",
     "output_type": "error",
     "traceback": [
      "\u001b[1;31m---------------------------------------------------------------------------\u001b[0m",
      "\u001b[1;31mKeyError\u001b[0m                                  Traceback (most recent call last)",
      "Cell \u001b[1;32mIn[13], line 1\u001b[0m\n\u001b[1;32m----> 1\u001b[0m my_set\u001b[38;5;241m.\u001b[39mremove(\u001b[38;5;124m'\u001b[39m\u001b[38;5;124mz\u001b[39m\u001b[38;5;124m'\u001b[39m)\n",
      "\u001b[1;31mKeyError\u001b[0m: 'z'"
     ]
    }
   ],
   "source": [
    "my_set.remove('z')"
   ]
  },
  {
   "cell_type": "markdown",
   "id": "37d83eed",
   "metadata": {},
   "source": [
    "- `discard()`"
   ]
  },
  {
   "cell_type": "code",
   "execution_count": 14,
   "id": "d624c266",
   "metadata": {
    "ExecuteTime": {
     "end_time": "2024-01-05T17:01:52.437450Z",
     "start_time": "2024-01-05T17:01:52.427657Z"
    }
   },
   "outputs": [
    {
     "data": {
      "text/plain": [
       "{'a', 'b', 'd', 'e', 'f', 'g'}"
      ]
     },
     "execution_count": 14,
     "metadata": {},
     "output_type": "execute_result"
    }
   ],
   "source": [
    "my_set.discard('h')\n",
    "my_set"
   ]
  },
  {
   "cell_type": "code",
   "execution_count": 15,
   "id": "b2f43112",
   "metadata": {
    "ExecuteTime": {
     "end_time": "2024-01-05T17:02:01.248159Z",
     "start_time": "2024-01-05T17:02:01.242399Z"
    }
   },
   "outputs": [],
   "source": [
    "my_set.discard('z')"
   ]
  },
  {
   "cell_type": "markdown",
   "id": "fbebcbdb",
   "metadata": {},
   "source": [
    "- `pop()`"
   ]
  },
  {
   "cell_type": "code",
   "execution_count": 16,
   "id": "1ef98a0b",
   "metadata": {
    "ExecuteTime": {
     "end_time": "2024-01-05T17:02:36.688621Z",
     "start_time": "2024-01-05T17:02:36.682727Z"
    }
   },
   "outputs": [
    {
     "data": {
      "text/plain": [
       "'f'"
      ]
     },
     "execution_count": 16,
     "metadata": {},
     "output_type": "execute_result"
    }
   ],
   "source": [
    "my_set.pop()"
   ]
  },
  {
   "cell_type": "markdown",
   "id": "04c7c814",
   "metadata": {},
   "source": [
    "**CLEARING/DELETING A SET**"
   ]
  },
  {
   "cell_type": "code",
   "execution_count": 17,
   "id": "664fde33",
   "metadata": {
    "ExecuteTime": {
     "end_time": "2024-01-05T17:04:01.598860Z",
     "start_time": "2024-01-05T17:04:01.591474Z"
    }
   },
   "outputs": [
    {
     "data": {
      "text/plain": [
       "{'a', 'b', 'd', 'e', 'g'}"
      ]
     },
     "execution_count": 17,
     "metadata": {},
     "output_type": "execute_result"
    }
   ],
   "source": [
    "my_set"
   ]
  },
  {
   "cell_type": "code",
   "execution_count": 18,
   "id": "f898069c",
   "metadata": {
    "ExecuteTime": {
     "end_time": "2024-01-05T17:04:23.536087Z",
     "start_time": "2024-01-05T17:04:23.530815Z"
    }
   },
   "outputs": [],
   "source": [
    "my_set1 = my_set.copy()"
   ]
  },
  {
   "cell_type": "code",
   "execution_count": 19,
   "id": "bae4e71f",
   "metadata": {
    "ExecuteTime": {
     "end_time": "2024-01-05T17:04:27.747085Z",
     "start_time": "2024-01-05T17:04:27.739606Z"
    }
   },
   "outputs": [
    {
     "data": {
      "text/plain": [
       "{'a', 'b', 'd', 'e', 'g'}"
      ]
     },
     "execution_count": 19,
     "metadata": {},
     "output_type": "execute_result"
    }
   ],
   "source": [
    "my_set1"
   ]
  },
  {
   "cell_type": "code",
   "execution_count": 20,
   "id": "d728b47f",
   "metadata": {
    "ExecuteTime": {
     "end_time": "2024-01-05T17:05:49.498309Z",
     "start_time": "2024-01-05T17:05:49.491619Z"
    }
   },
   "outputs": [
    {
     "data": {
      "text/plain": [
       "set()"
      ]
     },
     "execution_count": 20,
     "metadata": {},
     "output_type": "execute_result"
    }
   ],
   "source": [
    "my_set.clear()\n",
    "my_set"
   ]
  },
  {
   "cell_type": "code",
   "execution_count": 21,
   "id": "ed2d8cf2",
   "metadata": {
    "ExecuteTime": {
     "end_time": "2024-01-05T17:06:06.086962Z",
     "start_time": "2024-01-05T17:06:06.065883Z"
    }
   },
   "outputs": [
    {
     "ename": "NameError",
     "evalue": "name 'my_set1' is not defined",
     "output_type": "error",
     "traceback": [
      "\u001b[1;31m---------------------------------------------------------------------------\u001b[0m",
      "\u001b[1;31mNameError\u001b[0m                                 Traceback (most recent call last)",
      "Cell \u001b[1;32mIn[21], line 2\u001b[0m\n\u001b[0;32m      1\u001b[0m \u001b[38;5;28;01mdel\u001b[39;00m(my_set1)\n\u001b[1;32m----> 2\u001b[0m my_set1\n",
      "\u001b[1;31mNameError\u001b[0m: name 'my_set1' is not defined"
     ]
    }
   ],
   "source": [
    "del(my_set1)\n",
    "my_set1"
   ]
  },
  {
   "cell_type": "markdown",
   "id": "6d3a762f",
   "metadata": {},
   "source": [
    "**SET OPERATIONS**"
   ]
  },
  {
   "cell_type": "markdown",
   "id": "715c0d4f",
   "metadata": {},
   "source": [
    "- `union()`"
   ]
  },
  {
   "cell_type": "code",
   "execution_count": 22,
   "id": "71b1b842",
   "metadata": {
    "ExecuteTime": {
     "end_time": "2024-01-05T17:08:06.140465Z",
     "start_time": "2024-01-05T17:08:06.132810Z"
    }
   },
   "outputs": [
    {
     "data": {
      "text/plain": [
       "{1, 2, 3, 4, 5, 6, 7, 8, 9, 10}"
      ]
     },
     "execution_count": 22,
     "metadata": {},
     "output_type": "execute_result"
    }
   ],
   "source": [
    "set1 = {1,2,3,4,5}\n",
    "set2 = {6,7,8,9,10}\n",
    "\n",
    "set1.union(set2)"
   ]
  },
  {
   "cell_type": "code",
   "execution_count": 23,
   "id": "db858061",
   "metadata": {
    "ExecuteTime": {
     "end_time": "2024-01-05T17:09:00.644279Z",
     "start_time": "2024-01-05T17:09:00.632232Z"
    }
   },
   "outputs": [
    {
     "data": {
      "text/plain": [
       "{1, 2, 3, 4, 5}"
      ]
     },
     "execution_count": 23,
     "metadata": {},
     "output_type": "execute_result"
    }
   ],
   "source": [
    "set1"
   ]
  },
  {
   "cell_type": "markdown",
   "id": "92a9fa22",
   "metadata": {},
   "source": [
    "- `intersection`"
   ]
  },
  {
   "cell_type": "code",
   "execution_count": 24,
   "id": "2bd400c5",
   "metadata": {
    "ExecuteTime": {
     "end_time": "2024-01-05T17:09:36.284362Z",
     "start_time": "2024-01-05T17:09:36.278093Z"
    }
   },
   "outputs": [
    {
     "data": {
      "text/plain": [
       "set()"
      ]
     },
     "execution_count": 24,
     "metadata": {},
     "output_type": "execute_result"
    }
   ],
   "source": [
    "set1.intersection(set2)"
   ]
  },
  {
   "cell_type": "markdown",
   "id": "6437b8ce",
   "metadata": {},
   "source": [
    "Returned an empty set because both sets have no similar elements."
   ]
  },
  {
   "cell_type": "code",
   "execution_count": 25,
   "id": "bd4161b9",
   "metadata": {
    "ExecuteTime": {
     "end_time": "2024-01-05T17:11:35.230498Z",
     "start_time": "2024-01-05T17:11:35.221571Z"
    }
   },
   "outputs": [
    {
     "data": {
      "text/plain": [
       "{2, 4, 6, 8, 10}"
      ]
     },
     "execution_count": 25,
     "metadata": {},
     "output_type": "execute_result"
    }
   ],
   "source": [
    "set1 = {1,2,3,4,5,6,7,8,9,10}\n",
    "set2 = {2,4,6,8,10,12,14,16,18,20}\n",
    "set1.intersection(set2)"
   ]
  },
  {
   "cell_type": "markdown",
   "id": "b1a58789",
   "metadata": {},
   "source": [
    "- `difference()`"
   ]
  },
  {
   "cell_type": "code",
   "execution_count": 26,
   "id": "8d75f5be",
   "metadata": {
    "ExecuteTime": {
     "end_time": "2024-01-05T17:12:00.641683Z",
     "start_time": "2024-01-05T17:12:00.634120Z"
    }
   },
   "outputs": [
    {
     "data": {
      "text/plain": [
       "{1, 3, 5, 7, 9}"
      ]
     },
     "execution_count": 26,
     "metadata": {},
     "output_type": "execute_result"
    }
   ],
   "source": [
    "set1.difference(set2)"
   ]
  },
  {
   "cell_type": "code",
   "execution_count": 27,
   "id": "030fe963",
   "metadata": {
    "ExecuteTime": {
     "end_time": "2024-01-05T17:12:23.377551Z",
     "start_time": "2024-01-05T17:12:23.369755Z"
    }
   },
   "outputs": [
    {
     "data": {
      "text/plain": [
       "{12, 14, 16, 18, 20}"
      ]
     },
     "execution_count": 27,
     "metadata": {},
     "output_type": "execute_result"
    }
   ],
   "source": [
    "set2.difference(set1)"
   ]
  },
  {
   "cell_type": "code",
   "execution_count": null,
   "id": "e90870db",
   "metadata": {},
   "outputs": [],
   "source": []
  }
 ],
 "metadata": {
  "kernelspec": {
   "display_name": "Python 3 (ipykernel)",
   "language": "python",
   "name": "python3"
  },
  "language_info": {
   "codemirror_mode": {
    "name": "ipython",
    "version": 3
   },
   "file_extension": ".py",
   "mimetype": "text/x-python",
   "name": "python",
   "nbconvert_exporter": "python",
   "pygments_lexer": "ipython3",
   "version": "3.11.5"
  },
  "toc": {
   "base_numbering": 1,
   "nav_menu": {},
   "number_sections": true,
   "sideBar": true,
   "skip_h1_title": false,
   "title_cell": "Table of Contents",
   "title_sidebar": "Contents",
   "toc_cell": false,
   "toc_position": {},
   "toc_section_display": true,
   "toc_window_display": false
  },
  "varInspector": {
   "cols": {
    "lenName": 16,
    "lenType": 16,
    "lenVar": 40
   },
   "kernels_config": {
    "python": {
     "delete_cmd_postfix": "",
     "delete_cmd_prefix": "del ",
     "library": "var_list.py",
     "varRefreshCmd": "print(var_dic_list())"
    },
    "r": {
     "delete_cmd_postfix": ") ",
     "delete_cmd_prefix": "rm(",
     "library": "var_list.r",
     "varRefreshCmd": "cat(var_dic_list()) "
    }
   },
   "types_to_exclude": [
    "module",
    "function",
    "builtin_function_or_method",
    "instance",
    "_Feature"
   ],
   "window_display": false
  }
 },
 "nbformat": 4,
 "nbformat_minor": 5
}
