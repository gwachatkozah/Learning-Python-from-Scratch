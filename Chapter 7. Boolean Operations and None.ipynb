{
 "cells": [
  {
   "cell_type": "code",
   "execution_count": 1,
   "id": "e9119667",
   "metadata": {
    "ExecuteTime": {
     "end_time": "2024-01-05T17:14:37.183024Z",
     "start_time": "2024-01-05T17:14:37.172036Z"
    }
   },
   "outputs": [
    {
     "data": {
      "text/plain": [
       "True"
      ]
     },
     "execution_count": 1,
     "metadata": {},
     "output_type": "execute_result"
    }
   ],
   "source": [
    "True == 1"
   ]
  },
  {
   "cell_type": "code",
   "execution_count": 2,
   "id": "5363f416",
   "metadata": {
    "ExecuteTime": {
     "end_time": "2024-01-05T17:14:46.378613Z",
     "start_time": "2024-01-05T17:14:46.372895Z"
    }
   },
   "outputs": [
    {
     "data": {
      "text/plain": [
       "True"
      ]
     },
     "execution_count": 2,
     "metadata": {},
     "output_type": "execute_result"
    }
   ],
   "source": [
    "False == 0"
   ]
  },
  {
   "cell_type": "code",
   "execution_count": 3,
   "id": "7a81f7a4",
   "metadata": {
    "ExecuteTime": {
     "end_time": "2024-01-05T17:14:59.393199Z",
     "start_time": "2024-01-05T17:14:59.386337Z"
    }
   },
   "outputs": [
    {
     "data": {
      "text/plain": [
       "True"
      ]
     },
     "execution_count": 3,
     "metadata": {},
     "output_type": "execute_result"
    }
   ],
   "source": [
    "True and True"
   ]
  },
  {
   "cell_type": "code",
   "execution_count": 4,
   "id": "7b2fbe50",
   "metadata": {
    "ExecuteTime": {
     "end_time": "2024-01-05T17:15:05.658766Z",
     "start_time": "2024-01-05T17:15:05.653073Z"
    }
   },
   "outputs": [
    {
     "data": {
      "text/plain": [
       "False"
      ]
     },
     "execution_count": 4,
     "metadata": {},
     "output_type": "execute_result"
    }
   ],
   "source": [
    "True and False"
   ]
  },
  {
   "cell_type": "code",
   "execution_count": 5,
   "id": "10681935",
   "metadata": {
    "ExecuteTime": {
     "end_time": "2024-01-05T17:15:11.528030Z",
     "start_time": "2024-01-05T17:15:11.521099Z"
    }
   },
   "outputs": [
    {
     "data": {
      "text/plain": [
       "False"
      ]
     },
     "execution_count": 5,
     "metadata": {},
     "output_type": "execute_result"
    }
   ],
   "source": [
    "False and False"
   ]
  },
  {
   "cell_type": "code",
   "execution_count": 6,
   "id": "84011290",
   "metadata": {
    "ExecuteTime": {
     "end_time": "2024-01-05T17:15:17.910919Z",
     "start_time": "2024-01-05T17:15:17.904837Z"
    }
   },
   "outputs": [
    {
     "data": {
      "text/plain": [
       "True"
      ]
     },
     "execution_count": 6,
     "metadata": {},
     "output_type": "execute_result"
    }
   ],
   "source": [
    "True or True"
   ]
  },
  {
   "cell_type": "code",
   "execution_count": 7,
   "id": "3526557b",
   "metadata": {
    "ExecuteTime": {
     "end_time": "2024-01-05T17:15:28.867578Z",
     "start_time": "2024-01-05T17:15:28.857006Z"
    }
   },
   "outputs": [
    {
     "data": {
      "text/plain": [
       "True"
      ]
     },
     "execution_count": 7,
     "metadata": {},
     "output_type": "execute_result"
    }
   ],
   "source": [
    "True or False"
   ]
  },
  {
   "cell_type": "code",
   "execution_count": 8,
   "id": "6f9743c6",
   "metadata": {
    "ExecuteTime": {
     "end_time": "2024-01-05T17:15:33.623587Z",
     "start_time": "2024-01-05T17:15:33.616435Z"
    }
   },
   "outputs": [
    {
     "data": {
      "text/plain": [
       "False"
      ]
     },
     "execution_count": 8,
     "metadata": {},
     "output_type": "execute_result"
    }
   ],
   "source": [
    "False or False"
   ]
  },
  {
   "cell_type": "code",
   "execution_count": 9,
   "id": "d44667fd",
   "metadata": {
    "ExecuteTime": {
     "end_time": "2024-01-05T17:15:39.565405Z",
     "start_time": "2024-01-05T17:15:39.517599Z"
    }
   },
   "outputs": [
    {
     "data": {
      "text/plain": [
       "True"
      ]
     },
     "execution_count": 9,
     "metadata": {},
     "output_type": "execute_result"
    }
   ],
   "source": [
    "not False"
   ]
  },
  {
   "cell_type": "code",
   "execution_count": 10,
   "id": "74725562",
   "metadata": {
    "ExecuteTime": {
     "end_time": "2024-01-05T17:15:43.734776Z",
     "start_time": "2024-01-05T17:15:43.728340Z"
    }
   },
   "outputs": [
    {
     "data": {
      "text/plain": [
       "False"
      ]
     },
     "execution_count": 10,
     "metadata": {},
     "output_type": "execute_result"
    }
   ],
   "source": [
    "not True"
   ]
  },
  {
   "cell_type": "code",
   "execution_count": 13,
   "id": "1afe6eee",
   "metadata": {
    "ExecuteTime": {
     "end_time": "2024-01-05T17:16:50.089514Z",
     "start_time": "2024-01-05T17:16:50.080720Z"
    }
   },
   "outputs": [
    {
     "data": {
      "text/plain": [
       "True"
      ]
     },
     "execution_count": 13,
     "metadata": {},
     "output_type": "execute_result"
    }
   ],
   "source": [
    "bool('4')"
   ]
  },
  {
   "cell_type": "code",
   "execution_count": 14,
   "id": "8a12b830",
   "metadata": {
    "ExecuteTime": {
     "end_time": "2024-01-05T17:16:59.174053Z",
     "start_time": "2024-01-05T17:16:59.167110Z"
    }
   },
   "outputs": [
    {
     "data": {
      "text/plain": [
       "True"
      ]
     },
     "execution_count": 14,
     "metadata": {},
     "output_type": "execute_result"
    }
   ],
   "source": [
    "bool('0')"
   ]
  },
  {
   "cell_type": "code",
   "execution_count": 15,
   "id": "8c7df376",
   "metadata": {
    "ExecuteTime": {
     "end_time": "2024-01-05T17:17:18.401604Z",
     "start_time": "2024-01-05T17:17:18.392457Z"
    }
   },
   "outputs": [
    {
     "data": {
      "text/plain": [
       "False"
      ]
     },
     "execution_count": 15,
     "metadata": {},
     "output_type": "execute_result"
    }
   ],
   "source": [
    "bool('')"
   ]
  },
  {
   "cell_type": "code",
   "execution_count": 16,
   "id": "6f89c8d3",
   "metadata": {
    "ExecuteTime": {
     "end_time": "2024-01-05T17:17:30.156392Z",
     "start_time": "2024-01-05T17:17:30.150352Z"
    }
   },
   "outputs": [
    {
     "data": {
      "text/plain": [
       "True"
      ]
     },
     "execution_count": 16,
     "metadata": {},
     "output_type": "execute_result"
    }
   ],
   "source": [
    "bool('something')"
   ]
  },
  {
   "cell_type": "markdown",
   "id": "c3f3a95f",
   "metadata": {},
   "source": [
    "**NONE**"
   ]
  },
  {
   "cell_type": "code",
   "execution_count": 17,
   "id": "3677df52",
   "metadata": {
    "ExecuteTime": {
     "end_time": "2024-01-05T17:18:28.535871Z",
     "start_time": "2024-01-05T17:18:28.529236Z"
    }
   },
   "outputs": [
    {
     "data": {
      "text/plain": [
       "False"
      ]
     },
     "execution_count": 17,
     "metadata": {},
     "output_type": "execute_result"
    }
   ],
   "source": [
    "None == 1"
   ]
  },
  {
   "cell_type": "code",
   "execution_count": 18,
   "id": "25feda71",
   "metadata": {
    "ExecuteTime": {
     "end_time": "2024-01-05T17:18:33.549949Z",
     "start_time": "2024-01-05T17:18:33.538913Z"
    }
   },
   "outputs": [
    {
     "data": {
      "text/plain": [
       "False"
      ]
     },
     "execution_count": 18,
     "metadata": {},
     "output_type": "execute_result"
    }
   ],
   "source": [
    "None == False"
   ]
  },
  {
   "cell_type": "code",
   "execution_count": 19,
   "id": "faafacb3",
   "metadata": {
    "ExecuteTime": {
     "end_time": "2024-01-05T17:18:40.278002Z",
     "start_time": "2024-01-05T17:18:40.268708Z"
    }
   },
   "outputs": [
    {
     "data": {
      "text/plain": [
       "False"
      ]
     },
     "execution_count": 19,
     "metadata": {},
     "output_type": "execute_result"
    }
   ],
   "source": [
    "None == ''"
   ]
  },
  {
   "cell_type": "code",
   "execution_count": 20,
   "id": "0ef9307b",
   "metadata": {
    "ExecuteTime": {
     "end_time": "2024-01-05T17:19:05.755321Z",
     "start_time": "2024-01-05T17:19:05.748763Z"
    }
   },
   "outputs": [],
   "source": [
    "x = None\n",
    "y = None"
   ]
  },
  {
   "cell_type": "code",
   "execution_count": 21,
   "id": "439214ab",
   "metadata": {
    "ExecuteTime": {
     "end_time": "2024-01-05T17:19:10.441280Z",
     "start_time": "2024-01-05T17:19:10.431751Z"
    }
   },
   "outputs": [
    {
     "data": {
      "text/plain": [
       "140723144387312"
      ]
     },
     "execution_count": 21,
     "metadata": {},
     "output_type": "execute_result"
    }
   ],
   "source": [
    "id(x)"
   ]
  },
  {
   "cell_type": "code",
   "execution_count": 22,
   "id": "2c792c59",
   "metadata": {
    "ExecuteTime": {
     "end_time": "2024-01-05T17:19:14.143615Z",
     "start_time": "2024-01-05T17:19:14.136765Z"
    }
   },
   "outputs": [
    {
     "data": {
      "text/plain": [
       "140723144387312"
      ]
     },
     "execution_count": 22,
     "metadata": {},
     "output_type": "execute_result"
    }
   ],
   "source": [
    "id(y)"
   ]
  },
  {
   "cell_type": "code",
   "execution_count": null,
   "id": "4423e909",
   "metadata": {},
   "outputs": [],
   "source": []
  }
 ],
 "metadata": {
  "kernelspec": {
   "display_name": "Python 3 (ipykernel)",
   "language": "python",
   "name": "python3"
  },
  "language_info": {
   "codemirror_mode": {
    "name": "ipython",
    "version": 3
   },
   "file_extension": ".py",
   "mimetype": "text/x-python",
   "name": "python",
   "nbconvert_exporter": "python",
   "pygments_lexer": "ipython3",
   "version": "3.11.5"
  },
  "toc": {
   "base_numbering": 1,
   "nav_menu": {},
   "number_sections": true,
   "sideBar": true,
   "skip_h1_title": false,
   "title_cell": "Table of Contents",
   "title_sidebar": "Contents",
   "toc_cell": false,
   "toc_position": {},
   "toc_section_display": true,
   "toc_window_display": false
  },
  "varInspector": {
   "cols": {
    "lenName": 16,
    "lenType": 16,
    "lenVar": 40
   },
   "kernels_config": {
    "python": {
     "delete_cmd_postfix": "",
     "delete_cmd_prefix": "del ",
     "library": "var_list.py",
     "varRefreshCmd": "print(var_dic_list())"
    },
    "r": {
     "delete_cmd_postfix": ") ",
     "delete_cmd_prefix": "rm(",
     "library": "var_list.r",
     "varRefreshCmd": "cat(var_dic_list()) "
    }
   },
   "types_to_exclude": [
    "module",
    "function",
    "builtin_function_or_method",
    "instance",
    "_Feature"
   ],
   "window_display": false
  }
 },
 "nbformat": 4,
 "nbformat_minor": 5
}
