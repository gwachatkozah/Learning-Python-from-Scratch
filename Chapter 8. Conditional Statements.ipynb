{
 "cells": [
  {
   "cell_type": "code",
   "execution_count": 6,
   "id": "a185d07a",
   "metadata": {
    "ExecuteTime": {
     "end_time": "2024-01-05T17:21:09.887546Z",
     "start_time": "2024-01-05T17:21:09.880871Z"
    }
   },
   "outputs": [
    {
     "data": {
      "text/plain": [
       "True"
      ]
     },
     "execution_count": 6,
     "metadata": {},
     "output_type": "execute_result"
    }
   ],
   "source": [
    "a = 4\n",
    "b = 2\n",
    "a > b"
   ]
  },
  {
   "cell_type": "code",
   "execution_count": 2,
   "id": "f214c99f",
   "metadata": {
    "ExecuteTime": {
     "end_time": "2024-01-05T17:20:36.725910Z",
     "start_time": "2024-01-05T17:20:36.717704Z"
    }
   },
   "outputs": [
    {
     "data": {
      "text/plain": [
       "False"
      ]
     },
     "execution_count": 2,
     "metadata": {},
     "output_type": "execute_result"
    }
   ],
   "source": [
    "a < b"
   ]
  },
  {
   "cell_type": "code",
   "execution_count": 3,
   "id": "2001fa11",
   "metadata": {
    "ExecuteTime": {
     "end_time": "2024-01-05T17:20:44.789168Z",
     "start_time": "2024-01-05T17:20:44.782724Z"
    }
   },
   "outputs": [
    {
     "data": {
      "text/plain": [
       "False"
      ]
     },
     "execution_count": 3,
     "metadata": {},
     "output_type": "execute_result"
    }
   ],
   "source": [
    "a <= b"
   ]
  },
  {
   "cell_type": "code",
   "execution_count": 4,
   "id": "e37df9b8",
   "metadata": {
    "ExecuteTime": {
     "end_time": "2024-01-05T17:20:52.665553Z",
     "start_time": "2024-01-05T17:20:52.657860Z"
    }
   },
   "outputs": [
    {
     "data": {
      "text/plain": [
       "True"
      ]
     },
     "execution_count": 4,
     "metadata": {},
     "output_type": "execute_result"
    }
   ],
   "source": [
    "a >= b"
   ]
  },
  {
   "cell_type": "code",
   "execution_count": 7,
   "id": "e97f2c9f",
   "metadata": {
    "ExecuteTime": {
     "end_time": "2024-01-05T17:21:12.119924Z",
     "start_time": "2024-01-05T17:21:12.108800Z"
    }
   },
   "outputs": [
    {
     "data": {
      "text/plain": [
       "True"
      ]
     },
     "execution_count": 7,
     "metadata": {},
     "output_type": "execute_result"
    }
   ],
   "source": [
    "a != b"
   ]
  },
  {
   "cell_type": "markdown",
   "id": "981f97f4",
   "metadata": {},
   "source": [
    "**CREATING SIMPLE CONDITIONAL**"
   ]
  },
  {
   "cell_type": "code",
   "execution_count": 8,
   "id": "080d7eb7",
   "metadata": {
    "ExecuteTime": {
     "end_time": "2024-01-05T17:22:22.490947Z",
     "start_time": "2024-01-05T17:22:22.482432Z"
    }
   },
   "outputs": [
    {
     "name": "stdout",
     "output_type": "stream",
     "text": [
      "Logged in successfully!\n"
     ]
    }
   ],
   "source": [
    "authenticated = True\n",
    "if authenticated:\n",
    "    print('Logged in successfully!')"
   ]
  },
  {
   "cell_type": "code",
   "execution_count": 9,
   "id": "70043fa2",
   "metadata": {
    "ExecuteTime": {
     "end_time": "2024-01-05T17:23:49.063025Z",
     "start_time": "2024-01-05T17:23:49.057849Z"
    }
   },
   "outputs": [
    {
     "name": "stdout",
     "output_type": "stream",
     "text": [
      "Login unsuccessful :/\n"
     ]
    }
   ],
   "source": [
    "authenticated = False\n",
    "\n",
    "if authenticated:\n",
    "    print('Logged in successfully')\n",
    "else:\n",
    "    print('Login unsuccessful :/')"
   ]
  },
  {
   "cell_type": "code",
   "execution_count": 11,
   "id": "0dc733fd",
   "metadata": {
    "ExecuteTime": {
     "end_time": "2024-01-05T17:28:19.468282Z",
     "start_time": "2024-01-05T17:28:15.909701Z"
    }
   },
   "outputs": [
    {
     "name": "stdout",
     "output_type": "stream",
     "text": [
      "Enter Your Age: 25\n",
      "You can vote in all elections\n"
     ]
    }
   ],
   "source": [
    "'''\n",
    "Conditional statement that will check your age\n",
    "and let you know how you can participate in elections depending on that factor\n",
    "'''\n",
    "age = int(input('Enter Your Age: '))\n",
    "if age < 18:\n",
    "    print('You are not eligible to vote')\n",
    "elif age < 35:\n",
    "    print('You can vote in all elections')\n",
    "elif age >= 35:\n",
    "    print('You can contest for any election')"
   ]
  },
  {
   "cell_type": "markdown",
   "id": "92189d59",
   "metadata": {},
   "source": [
    "**NESTING CONDITIONALS**"
   ]
  },
  {
   "cell_type": "code",
   "execution_count": 14,
   "id": "6622214c",
   "metadata": {
    "ExecuteTime": {
     "end_time": "2024-01-05T17:31:37.692848Z",
     "start_time": "2024-01-05T17:31:37.686565Z"
    }
   },
   "outputs": [
    {
     "name": "stdout",
     "output_type": "stream",
     "text": [
      "You buy Japanese cars\n"
     ]
    }
   ],
   "source": [
    "age = 18\n",
    "car = 'Toyota'\n",
    "\n",
    "if age >= 18:\n",
    "    if car in ['Honda', 'Toyota']:\n",
    "        print('You buy Japanese cars')\n",
    "    elif car in ['Ford', 'Chevrolet']:\n",
    "        print('You buy American cars')\n",
    "else:\n",
    "    print('You are too young to buy cars')"
   ]
  },
  {
   "cell_type": "markdown",
   "id": "68b62de3",
   "metadata": {},
   "source": [
    "**LOGICAL OPERATORS**\n",
    "- `and` - Only True if **`both`** the operands are true.\n",
    "- `or` - True if **`any`** of the operands are true.\n",
    "- `not` - **`negates`** the operand."
   ]
  },
  {
   "cell_type": "code",
   "execution_count": 18,
   "id": "004e5a6d",
   "metadata": {
    "ExecuteTime": {
     "end_time": "2024-01-05T17:36:58.564031Z",
     "start_time": "2024-01-05T17:36:58.556712Z"
    }
   },
   "outputs": [
    {
     "name": "stdout",
     "output_type": "stream",
     "text": [
      "You buy Japanese cars\n"
     ]
    }
   ],
   "source": [
    "age = 19\n",
    "car = 'Toyota'\n",
    "\n",
    "if age >= 18 and car in ['Honda', 'Toyota']:\n",
    "    print('You buy Japanese cars')\n",
    "elif age >= 18 and car in ['Ford', 'Chevrolet']:\n",
    "    print('You buy American cars')\n",
    "else:\n",
    "    print('You are too young to buy cars')"
   ]
  },
  {
   "cell_type": "markdown",
   "id": "12659584",
   "metadata": {},
   "source": [
    "**SPECIAL OPERATORS**"
   ]
  },
  {
   "cell_type": "markdown",
   "id": "6134da95",
   "metadata": {},
   "source": [
    "- `is` - True when the operands are identical(i.e have the same id).\n",
    "- `is not` - True when the operands are not identical.\n",
    "- `in` - True when the value is in a collection(list, tuple, dictionaries, etc.).\n",
    "- `not in` - True when values is not in a collection."
   ]
  },
  {
   "cell_type": "code",
   "execution_count": 19,
   "id": "a0bb8538",
   "metadata": {
    "ExecuteTime": {
     "end_time": "2024-01-05T17:41:50.905138Z",
     "start_time": "2024-01-05T17:41:50.899126Z"
    }
   },
   "outputs": [
    {
     "data": {
      "text/plain": [
       "True"
      ]
     },
     "execution_count": 19,
     "metadata": {},
     "output_type": "execute_result"
    }
   ],
   "source": [
    "x = [1,2,3]\n",
    "y = [1,2,3]\n",
    "x == y"
   ]
  },
  {
   "cell_type": "code",
   "execution_count": 20,
   "id": "a1c87969",
   "metadata": {
    "ExecuteTime": {
     "end_time": "2024-01-05T17:41:58.235638Z",
     "start_time": "2024-01-05T17:41:58.229621Z"
    }
   },
   "outputs": [
    {
     "data": {
      "text/plain": [
       "False"
      ]
     },
     "execution_count": 20,
     "metadata": {},
     "output_type": "execute_result"
    }
   ],
   "source": [
    "x is y"
   ]
  },
  {
   "cell_type": "code",
   "execution_count": 21,
   "id": "c791b249",
   "metadata": {
    "ExecuteTime": {
     "end_time": "2024-01-05T17:42:05.765264Z",
     "start_time": "2024-01-05T17:42:05.757576Z"
    }
   },
   "outputs": [
    {
     "data": {
      "text/plain": [
       "1878298561536"
      ]
     },
     "execution_count": 21,
     "metadata": {},
     "output_type": "execute_result"
    }
   ],
   "source": [
    "id(x)"
   ]
  },
  {
   "cell_type": "code",
   "execution_count": 22,
   "id": "759470e2",
   "metadata": {
    "ExecuteTime": {
     "end_time": "2024-01-05T17:42:09.072718Z",
     "start_time": "2024-01-05T17:42:09.066903Z"
    }
   },
   "outputs": [
    {
     "data": {
      "text/plain": [
       "1878298574080"
      ]
     },
     "execution_count": 22,
     "metadata": {},
     "output_type": "execute_result"
    }
   ],
   "source": [
    "id(y)"
   ]
  }
 ],
 "metadata": {
  "kernelspec": {
   "display_name": "Python 3 (ipykernel)",
   "language": "python",
   "name": "python3"
  },
  "language_info": {
   "codemirror_mode": {
    "name": "ipython",
    "version": 3
   },
   "file_extension": ".py",
   "mimetype": "text/x-python",
   "name": "python",
   "nbconvert_exporter": "python",
   "pygments_lexer": "ipython3",
   "version": "3.11.5"
  },
  "toc": {
   "base_numbering": 1,
   "nav_menu": {},
   "number_sections": true,
   "sideBar": true,
   "skip_h1_title": false,
   "title_cell": "Table of Contents",
   "title_sidebar": "Contents",
   "toc_cell": false,
   "toc_position": {},
   "toc_section_display": true,
   "toc_window_display": false
  },
  "varInspector": {
   "cols": {
    "lenName": 16,
    "lenType": 16,
    "lenVar": 40
   },
   "kernels_config": {
    "python": {
     "delete_cmd_postfix": "",
     "delete_cmd_prefix": "del ",
     "library": "var_list.py",
     "varRefreshCmd": "print(var_dic_list())"
    },
    "r": {
     "delete_cmd_postfix": ") ",
     "delete_cmd_prefix": "rm(",
     "library": "var_list.r",
     "varRefreshCmd": "cat(var_dic_list()) "
    }
   },
   "types_to_exclude": [
    "module",
    "function",
    "builtin_function_or_method",
    "instance",
    "_Feature"
   ],
   "window_display": false
  }
 },
 "nbformat": 4,
 "nbformat_minor": 5
}
