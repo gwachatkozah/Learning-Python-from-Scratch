{
 "cells": [
  {
   "cell_type": "markdown",
   "id": "aaa18b77",
   "metadata": {},
   "source": [
    "**`for` LOOPS**"
   ]
  },
  {
   "cell_type": "code",
   "execution_count": 1,
   "id": "d739bdb9",
   "metadata": {
    "ExecuteTime": {
     "end_time": "2024-01-06T11:24:41.150455Z",
     "start_time": "2024-01-06T11:24:41.144264Z"
    }
   },
   "outputs": [],
   "source": [
    "#for x in iterable:\n",
    "    # do something"
   ]
  },
  {
   "cell_type": "code",
   "execution_count": 2,
   "id": "cd94df22",
   "metadata": {
    "ExecuteTime": {
     "end_time": "2024-01-06T11:24:41.595175Z",
     "start_time": "2024-01-06T11:24:41.581238Z"
    }
   },
   "outputs": [
    {
     "name": "stdout",
     "output_type": "stream",
     "text": [
      "1\n",
      "2\n",
      "3\n",
      "4\n",
      "5\n",
      "6\n",
      "7\n",
      "8\n",
      "9\n",
      "10\n"
     ]
    }
   ],
   "source": [
    "my_list = [1,2,3,4,5,6,7,8,9,10]\n",
    "\n",
    "for item in my_list:\n",
    "    print(item)"
   ]
  },
  {
   "cell_type": "code",
   "execution_count": 4,
   "id": "ed064c33",
   "metadata": {
    "ExecuteTime": {
     "end_time": "2024-01-06T11:24:48.601387Z",
     "start_time": "2024-01-06T11:24:48.592089Z"
    }
   },
   "outputs": [
    {
     "name": "stdout",
     "output_type": "stream",
     "text": [
      "2\n",
      "4\n",
      "6\n",
      "8\n",
      "10\n",
      "12\n",
      "14\n",
      "16\n",
      "18\n",
      "20\n"
     ]
    }
   ],
   "source": [
    "for item in my_list:\n",
    "    print(f'{item *2}')"
   ]
  },
  {
   "cell_type": "code",
   "execution_count": 5,
   "id": "a1df9495",
   "metadata": {
    "ExecuteTime": {
     "end_time": "2024-01-06T11:24:49.195251Z",
     "start_time": "2024-01-06T11:24:49.182809Z"
    }
   },
   "outputs": [
    {
     "name": "stdout",
     "output_type": "stream",
     "text": [
      "2 is an even number\n",
      "4 is an even number\n",
      "6 is an even number\n",
      "8 is an even number\n",
      "10 is an even number\n"
     ]
    }
   ],
   "source": [
    "for item in my_list:\n",
    "    if item % 2 == 0:\n",
    "        print(f'{item} is an even number')"
   ]
  },
  {
   "cell_type": "markdown",
   "id": "2101d35b",
   "metadata": {},
   "source": [
    "**Looping over string**"
   ]
  },
  {
   "cell_type": "code",
   "execution_count": 6,
   "id": "0c1bdd86",
   "metadata": {
    "ExecuteTime": {
     "end_time": "2024-01-06T11:24:50.160023Z",
     "start_time": "2024-01-06T11:24:50.144946Z"
    }
   },
   "outputs": [
    {
     "name": "stdout",
     "output_type": "stream",
     "text": [
      "A\n",
      "m\n",
      "a\n",
      "l\n",
      "a\n",
      " \n",
      "a\n",
      "t\n",
      "i\n",
      " \n",
      "e\n",
      "w\n",
      "e\n",
      "d\n",
      "u\n"
     ]
    }
   ],
   "source": [
    "my_string = 'Amala ati ewedu'\n",
    "for letter in my_string:\n",
    "    print(letter)"
   ]
  },
  {
   "cell_type": "markdown",
   "id": "9c592be3",
   "metadata": {},
   "source": [
    "**Looping over a Dictionary**"
   ]
  },
  {
   "cell_type": "code",
   "execution_count": 7,
   "id": "4712dbde",
   "metadata": {
    "ExecuteTime": {
     "end_time": "2024-01-06T11:24:51.245991Z",
     "start_time": "2024-01-06T11:24:51.237337Z"
    }
   },
   "outputs": [
    {
     "name": "stdout",
     "output_type": "stream",
     "text": [
      "Name\n",
      "Job\n",
      "Marital Status\n"
     ]
    }
   ],
   "source": [
    "user = {'Name': 'Phil Dunphy', 'Job': 'Real Estate Agent', 'Marital Status': 'Married'}\n",
    "\n",
    "for item in user:\n",
    "    print(item)"
   ]
  },
  {
   "cell_type": "code",
   "execution_count": 8,
   "id": "8259af10",
   "metadata": {
    "ExecuteTime": {
     "end_time": "2024-01-06T11:24:51.792498Z",
     "start_time": "2024-01-06T11:24:51.781976Z"
    }
   },
   "outputs": [
    {
     "name": "stdout",
     "output_type": "stream",
     "text": [
      "Name is Phil Dunphy\n",
      "Job is Real Estate Agent\n",
      "Marital Status is Married\n"
     ]
    }
   ],
   "source": [
    "for key, value in user.items():\n",
    "    print(f'{key} is {value}')"
   ]
  },
  {
   "cell_type": "markdown",
   "id": "9f1ab542",
   "metadata": {},
   "source": [
    "**Extracting Multiple Values in a Tuple While Looping**"
   ]
  },
  {
   "cell_type": "code",
   "execution_count": 9,
   "id": "0c9e8ec0",
   "metadata": {
    "ExecuteTime": {
     "end_time": "2024-01-06T11:24:52.827976Z",
     "start_time": "2024-01-06T11:24:52.810126Z"
    }
   },
   "outputs": [
    {
     "data": {
      "text/plain": [
       "[('0-12 months', 'Infant'),\n",
       " ('1-3 years', 'Toddlers'),\n",
       " ('5-13 years', 'Children'),\n",
       " ('13-18', 'Teenagers'),\n",
       " ('18 and above', 'Adults')]"
      ]
     },
     "execution_count": 9,
     "metadata": {},
     "output_type": "execute_result"
    }
   ],
   "source": [
    "list_of_tuples = [('0-12 months', 'Infant'), ('1-3 years', 'Toddlers'), ('5-13 years', 'Children'), ('13-18', 'Teenagers'), ('18 and above', 'Adults')]\n",
    "list_of_tuples"
   ]
  },
  {
   "cell_type": "code",
   "execution_count": 10,
   "id": "87898270",
   "metadata": {
    "ExecuteTime": {
     "end_time": "2024-01-06T11:24:53.360550Z",
     "start_time": "2024-01-06T11:24:53.349968Z"
    }
   },
   "outputs": [
    {
     "name": "stdout",
     "output_type": "stream",
     "text": [
      "0-12 months ----> Infant\n",
      "1-3 years ----> Toddlers\n",
      "5-13 years ----> Children\n",
      "13-18 ----> Teenagers\n",
      "18 and above ----> Adults\n"
     ]
    }
   ],
   "source": [
    "for age_group, stages in list_of_tuples:\n",
    "    print(f'{age_group} ----> {stages}')"
   ]
  },
  {
   "cell_type": "markdown",
   "id": "684d6169",
   "metadata": {},
   "source": [
    "**Using `enumerate()` with Loops**"
   ]
  },
  {
   "cell_type": "code",
   "execution_count": 11,
   "id": "24ccd697",
   "metadata": {
    "ExecuteTime": {
     "end_time": "2024-01-06T11:24:54.433570Z",
     "start_time": "2024-01-06T11:24:54.423213Z"
    }
   },
   "outputs": [
    {
     "data": {
      "text/plain": [
       "'Amala ati ewedu'"
      ]
     },
     "execution_count": 11,
     "metadata": {},
     "output_type": "execute_result"
    }
   ],
   "source": [
    "my_string"
   ]
  },
  {
   "cell_type": "code",
   "execution_count": 12,
   "id": "339d4575",
   "metadata": {
    "ExecuteTime": {
     "end_time": "2024-01-06T11:24:55.771425Z",
     "start_time": "2024-01-06T11:24:55.759931Z"
    }
   },
   "outputs": [
    {
     "name": "stdout",
     "output_type": "stream",
     "text": [
      "0 ---> A\n",
      "1 ---> m\n",
      "2 ---> a\n",
      "3 ---> l\n",
      "4 ---> a\n",
      "5 --->  \n",
      "6 ---> a\n",
      "7 ---> t\n",
      "8 ---> i\n",
      "9 --->  \n",
      "10 ---> e\n",
      "11 ---> w\n",
      "12 ---> e\n",
      "13 ---> d\n",
      "14 ---> u\n"
     ]
    }
   ],
   "source": [
    "for position, letter in enumerate(my_string):\n",
    "    print(f'{position} ---> {letter}')"
   ]
  },
  {
   "cell_type": "markdown",
   "id": "29c56b41",
   "metadata": {},
   "source": [
    "**WHILE LOOPS**"
   ]
  },
  {
   "cell_type": "code",
   "execution_count": 15,
   "id": "a26b7b56",
   "metadata": {
    "ExecuteTime": {
     "end_time": "2024-01-06T11:25:43.936592Z",
     "start_time": "2024-01-06T11:25:43.928167Z"
    }
   },
   "outputs": [
    {
     "name": "stdout",
     "output_type": "stream",
     "text": [
      "You have been slapped 0 times\n",
      "You have been slapped 1 times\n",
      "You have been slapped 2 times\n",
      "You have been slapped 3 times\n",
      "You have been slapped 4 times\n",
      "You have been slapped 5 times\n",
      "You have been slapped 6 times\n",
      "You have been slapped 7 times\n",
      "You have been slapped 8 times\n",
      "You have been slapped 9 times\n",
      "You have been slapped 10 times\n"
     ]
    }
   ],
   "source": [
    "slap = 0\n",
    "while slap <= 10:\n",
    "    print(f'You have been slapped {slap} times')\n",
    "    slap += 1"
   ]
  },
  {
   "cell_type": "markdown",
   "id": "86d2499c",
   "metadata": {},
   "source": [
    "**Breaking out of a while loop**"
   ]
  },
  {
   "cell_type": "markdown",
   "id": "3bcf6160",
   "metadata": {},
   "source": [
    "- using **`break`**"
   ]
  },
  {
   "cell_type": "code",
   "execution_count": 16,
   "id": "c435a6fa",
   "metadata": {
    "ExecuteTime": {
     "end_time": "2024-01-06T11:29:20.760548Z",
     "start_time": "2024-01-06T11:29:20.751257Z"
    }
   },
   "outputs": [
    {
     "name": "stdout",
     "output_type": "stream",
     "text": [
      "0\n",
      "1\n",
      "2\n",
      "3\n",
      "count = 4\n"
     ]
    }
   ],
   "source": [
    "count = 0\n",
    "while count < 10:\n",
    "    if count == 4:\n",
    "        print(f'{count = }')\n",
    "        break\n",
    "    print(count)\n",
    "    count += 1"
   ]
  },
  {
   "cell_type": "code",
   "execution_count": 18,
   "id": "7964f46c",
   "metadata": {
    "ExecuteTime": {
     "end_time": "2024-01-07T09:57:29.281064Z",
     "start_time": "2024-01-07T09:57:29.273189Z"
    }
   },
   "outputs": [
    {
     "name": "stdout",
     "output_type": "stream",
     "text": [
      "250 ---> Bread\n",
      "500 ---> Sardines\n",
      "100 ---> Eggs\n",
      "Butter is found and availabe!\n"
     ]
    }
   ],
   "source": [
    "list_of_tuples = [(250, 'Bread'), (500, 'Sardines'), (100, 'Eggs'), (200, 'Butter')]\n",
    "\n",
    "for price, item in list_of_tuples:\n",
    "    if item == 'Butter':\n",
    "        print('Butter is found and availabe!')\n",
    "        break\n",
    "    print(f'{price} ---> {item}')"
   ]
  },
  {
   "cell_type": "markdown",
   "id": "1fc9b1c9",
   "metadata": {},
   "source": [
    "- using **`continue`**"
   ]
  },
  {
   "cell_type": "code",
   "execution_count": 19,
   "id": "ae006af2",
   "metadata": {
    "ExecuteTime": {
     "end_time": "2024-01-07T10:00:51.948422Z",
     "start_time": "2024-01-07T10:00:51.940575Z"
    }
   },
   "outputs": [
    {
     "name": "stdout",
     "output_type": "stream",
     "text": [
      "3\n",
      "5\n",
      "7\n",
      "9\n",
      "11\n"
     ]
    }
   ],
   "source": [
    "for number in range(2,12):\n",
    "    if number % 2 == 0:\n",
    "        continue\n",
    "    print(number)"
   ]
  },
  {
   "cell_type": "markdown",
   "id": "119f4463",
   "metadata": {},
   "source": [
    "In the code above, we loop over a range of numbers starting at 2 and ending at 11. For each number in\n",
    "this range, you use the modulus operator, `%`, to get the remainder of the number divided by 2. If the\n",
    "remainder is zero, it’s an even number and you use the `continue` statement to continue to the next\n",
    "value in the sequence.<br> This effectively skips even numbers so that you only print out the odd ones."
   ]
  },
  {
   "cell_type": "markdown",
   "id": "ce80105d",
   "metadata": {},
   "source": [
    "**Loops & the `else` statement**"
   ]
  },
  {
   "cell_type": "markdown",
   "id": "14d3baa9",
   "metadata": {},
   "source": [
    "A little known feature about Python loops is that you can add an else statement to them like you do\n",
    "with an if/else statement. The else statement only gets executed when no break statement occurs.<br>\n",
    "Another way to look at it is that the else statement only executes if the loop completes successfully.\n",
    "The primary use case for the else statement in a loop is for searching for an item in a collection.<br> You\n",
    "could use the else statement to raise an exception if the item was not found, or create the missing\n",
    "item, or whatever is appropriate for your use-case.<br>\n",
    "\n",
    "Let’s look at a quick example:"
   ]
  },
  {
   "cell_type": "code",
   "execution_count": 49,
   "id": "dd3cb747",
   "metadata": {
    "ExecuteTime": {
     "end_time": "2024-01-07T11:29:40.149716Z",
     "start_time": "2024-01-07T11:29:40.143088Z"
    }
   },
   "outputs": [],
   "source": [
    "my_list = [1,2,3]"
   ]
  },
  {
   "cell_type": "code",
   "execution_count": 50,
   "id": "e172c506",
   "metadata": {
    "ExecuteTime": {
     "end_time": "2024-01-07T11:29:41.719335Z",
     "start_time": "2024-01-07T11:29:41.713693Z"
    }
   },
   "outputs": [
    {
     "name": "stdout",
     "output_type": "stream",
     "text": [
      "1\n",
      "2\n",
      "3\n",
      "Number 4 was not found\n"
     ]
    }
   ],
   "source": [
    "for number in my_list:\n",
    "    if number == 4:\n",
    "        print('Found number 4!')\n",
    "        break\n",
    "    print(number)\n",
    "else:\n",
    "    print('Number 4 was not found')"
   ]
  },
  {
   "cell_type": "code",
   "execution_count": 47,
   "id": "a71c054d",
   "metadata": {
    "ExecuteTime": {
     "end_time": "2024-01-07T11:29:25.031372Z",
     "start_time": "2024-01-07T11:29:25.026381Z"
    }
   },
   "outputs": [],
   "source": [
    "my_list2 = [1,2,3,4]"
   ]
  },
  {
   "cell_type": "code",
   "execution_count": 48,
   "id": "a74fe15a",
   "metadata": {
    "ExecuteTime": {
     "end_time": "2024-01-07T11:29:27.557595Z",
     "start_time": "2024-01-07T11:29:27.551389Z"
    }
   },
   "outputs": [
    {
     "name": "stdout",
     "output_type": "stream",
     "text": [
      "1\n",
      "2\n",
      "3\n",
      "Found number 4!\n"
     ]
    }
   ],
   "source": [
    "for number in my_list2:\n",
    "    if number == 4:\n",
    "        print('Found number 4!')\n",
    "        break\n",
    "    print(number)\n",
    "else:\n",
    "    print('Number 4 was not found')"
   ]
  },
  {
   "cell_type": "markdown",
   "id": "107566f6",
   "metadata": {},
   "source": [
    "**Nested Loops**"
   ]
  },
  {
   "cell_type": "code",
   "execution_count": 51,
   "id": "35417880",
   "metadata": {
    "ExecuteTime": {
     "end_time": "2024-01-07T11:38:24.677241Z",
     "start_time": "2024-01-07T11:38:24.653452Z"
    }
   },
   "outputs": [
    {
     "data": {
      "text/plain": [
       "[['Gerald', 'March 23'], ['Elma', 'January 7'], ['Divine', 'September 14']]"
      ]
     },
     "execution_count": 51,
     "metadata": {},
     "output_type": "execute_result"
    }
   ],
   "source": [
    "nested_list = [['Gerald', 'March 23'], ['Elma', 'January 7'], ['Divine', 'September 14']]\n",
    "nested_list"
   ]
  },
  {
   "cell_type": "code",
   "execution_count": 60,
   "id": "0062c2ba",
   "metadata": {
    "ExecuteTime": {
     "end_time": "2024-01-07T11:45:49.594863Z",
     "start_time": "2024-01-07T11:45:49.586482Z"
    }
   },
   "outputs": [
    {
     "name": "stdout",
     "output_type": "stream",
     "text": [
      "List = ['Gerald', 'March 23']\n",
      "Items in list ---> Gerald\n",
      "Items in list ---> March 23\n",
      "List = ['Elma', 'January 7']\n",
      "Items in list ---> Elma\n",
      "Items in list ---> January 7\n",
      "List = ['Divine', 'September 14']\n",
      "Items in list ---> Divine\n",
      "Items in list ---> September 14\n"
     ]
    }
   ],
   "source": [
    "for lst in nested_list:\n",
    "    print(f'List = {lst}')\n",
    "    for item in lst:\n",
    "        print(f\"Items in list ---> {item}\")"
   ]
  },
  {
   "cell_type": "code",
   "execution_count": null,
   "id": "ccfb9cb0",
   "metadata": {},
   "outputs": [],
   "source": []
  }
 ],
 "metadata": {
  "kernelspec": {
   "display_name": "Python 3 (ipykernel)",
   "language": "python",
   "name": "python3"
  },
  "language_info": {
   "codemirror_mode": {
    "name": "ipython",
    "version": 3
   },
   "file_extension": ".py",
   "mimetype": "text/x-python",
   "name": "python",
   "nbconvert_exporter": "python",
   "pygments_lexer": "ipython3",
   "version": "3.11.5"
  },
  "toc": {
   "base_numbering": 1,
   "nav_menu": {},
   "number_sections": true,
   "sideBar": true,
   "skip_h1_title": false,
   "title_cell": "Table of Contents",
   "title_sidebar": "Contents",
   "toc_cell": false,
   "toc_position": {},
   "toc_section_display": true,
   "toc_window_display": false
  },
  "varInspector": {
   "cols": {
    "lenName": 16,
    "lenType": 16,
    "lenVar": 40
   },
   "kernels_config": {
    "python": {
     "delete_cmd_postfix": "",
     "delete_cmd_prefix": "del ",
     "library": "var_list.py",
     "varRefreshCmd": "print(var_dic_list())"
    },
    "r": {
     "delete_cmd_postfix": ") ",
     "delete_cmd_prefix": "rm(",
     "library": "var_list.r",
     "varRefreshCmd": "cat(var_dic_list()) "
    }
   },
   "types_to_exclude": [
    "module",
    "function",
    "builtin_function_or_method",
    "instance",
    "_Feature"
   ],
   "window_display": false
  }
 },
 "nbformat": 4,
 "nbformat_minor": 5
}
